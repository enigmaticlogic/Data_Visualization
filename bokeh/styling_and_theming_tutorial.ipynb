{
 "cells": [
  {
   "cell_type": "markdown",
   "metadata": {},
   "source": [
    "<table style=\"float:left; border:none\">\n",
    "   <tr style=\"border:none; background-color: #ffffff\">\n",
    "       <td style=\"border:none\">\n",
    "           <a href=\"http://bokeh.org/\">     \n",
    "           <img \n",
    "               src=\"assets/bokeh-transparent.png\" \n",
    "               style=\"width:50px\"\n",
    "           >\n",
    "           </a>    \n",
    "       </td>\n",
    "       <td style=\"border:none\">\n",
    "           <h1>Bokeh Tutorial</h1>\n",
    "       </td>\n",
    "   </tr>\n",
    "</table>\n",
    "\n",
    "<div style=\"float:right;\"><h2>02. Styling and Theming</h2></div>"
   ]
  },
  {
   "cell_type": "markdown",
   "metadata": {},
   "source": [
    "In this chapter we will learn how to configure various visual aspects of our plots, and how to find out more about what an be configured. \n",
    "\n",
    "First, let's make the standard imports"
   ]
  },
  {
   "cell_type": "code",
   "execution_count": 2,
   "metadata": {},
   "outputs": [],
   "source": [
    "from bokeh.io import output_notebook, show\n",
    "from bokeh.plotting import figure"
   ]
  },
  {
   "cell_type": "code",
   "execution_count": 3,
   "metadata": {},
   "outputs": [
    {
     "data": {
      "text/html": [
       "\n",
       "    <div class=\"bk-root\">\n",
       "        <a href=\"https://bokeh.pydata.org\" target=\"_blank\" class=\"bk-logo bk-logo-small bk-logo-notebook\"></a>\n",
       "        <span id=\"1001\">Loading BokehJS ...</span>\n",
       "    </div>"
      ]
     },
     "metadata": {},
     "output_type": "display_data"
    },
    {
     "data": {
      "application/javascript": [
       "\n",
       "(function(root) {\n",
       "  function now() {\n",
       "    return new Date();\n",
       "  }\n",
       "\n",
       "  var force = true;\n",
       "\n",
       "  if (typeof root._bokeh_onload_callbacks === \"undefined\" || force === true) {\n",
       "    root._bokeh_onload_callbacks = [];\n",
       "    root._bokeh_is_loading = undefined;\n",
       "  }\n",
       "\n",
       "  var JS_MIME_TYPE = 'application/javascript';\n",
       "  var HTML_MIME_TYPE = 'text/html';\n",
       "  var EXEC_MIME_TYPE = 'application/vnd.bokehjs_exec.v0+json';\n",
       "  var CLASS_NAME = 'output_bokeh rendered_html';\n",
       "\n",
       "  /**\n",
       "   * Render data to the DOM node\n",
       "   */\n",
       "  function render(props, node) {\n",
       "    var script = document.createElement(\"script\");\n",
       "    node.appendChild(script);\n",
       "  }\n",
       "\n",
       "  /**\n",
       "   * Handle when an output is cleared or removed\n",
       "   */\n",
       "  function handleClearOutput(event, handle) {\n",
       "    var cell = handle.cell;\n",
       "\n",
       "    var id = cell.output_area._bokeh_element_id;\n",
       "    var server_id = cell.output_area._bokeh_server_id;\n",
       "    // Clean up Bokeh references\n",
       "    if (id != null && id in Bokeh.index) {\n",
       "      Bokeh.index[id].model.document.clear();\n",
       "      delete Bokeh.index[id];\n",
       "    }\n",
       "\n",
       "    if (server_id !== undefined) {\n",
       "      // Clean up Bokeh references\n",
       "      var cmd = \"from bokeh.io.state import curstate; print(curstate().uuid_to_server['\" + server_id + \"'].get_sessions()[0].document.roots[0]._id)\";\n",
       "      cell.notebook.kernel.execute(cmd, {\n",
       "        iopub: {\n",
       "          output: function(msg) {\n",
       "            var id = msg.content.text.trim();\n",
       "            if (id in Bokeh.index) {\n",
       "              Bokeh.index[id].model.document.clear();\n",
       "              delete Bokeh.index[id];\n",
       "            }\n",
       "          }\n",
       "        }\n",
       "      });\n",
       "      // Destroy server and session\n",
       "      var cmd = \"import bokeh.io.notebook as ion; ion.destroy_server('\" + server_id + \"')\";\n",
       "      cell.notebook.kernel.execute(cmd);\n",
       "    }\n",
       "  }\n",
       "\n",
       "  /**\n",
       "   * Handle when a new output is added\n",
       "   */\n",
       "  function handleAddOutput(event, handle) {\n",
       "    var output_area = handle.output_area;\n",
       "    var output = handle.output;\n",
       "\n",
       "    // limit handleAddOutput to display_data with EXEC_MIME_TYPE content only\n",
       "    if ((output.output_type != \"display_data\") || (!output.data.hasOwnProperty(EXEC_MIME_TYPE))) {\n",
       "      return\n",
       "    }\n",
       "\n",
       "    var toinsert = output_area.element.find(\".\" + CLASS_NAME.split(' ')[0]);\n",
       "\n",
       "    if (output.metadata[EXEC_MIME_TYPE][\"id\"] !== undefined) {\n",
       "      toinsert[toinsert.length - 1].firstChild.textContent = output.data[JS_MIME_TYPE];\n",
       "      // store reference to embed id on output_area\n",
       "      output_area._bokeh_element_id = output.metadata[EXEC_MIME_TYPE][\"id\"];\n",
       "    }\n",
       "    if (output.metadata[EXEC_MIME_TYPE][\"server_id\"] !== undefined) {\n",
       "      var bk_div = document.createElement(\"div\");\n",
       "      bk_div.innerHTML = output.data[HTML_MIME_TYPE];\n",
       "      var script_attrs = bk_div.children[0].attributes;\n",
       "      for (var i = 0; i < script_attrs.length; i++) {\n",
       "        toinsert[toinsert.length - 1].firstChild.setAttribute(script_attrs[i].name, script_attrs[i].value);\n",
       "      }\n",
       "      // store reference to server id on output_area\n",
       "      output_area._bokeh_server_id = output.metadata[EXEC_MIME_TYPE][\"server_id\"];\n",
       "    }\n",
       "  }\n",
       "\n",
       "  function register_renderer(events, OutputArea) {\n",
       "\n",
       "    function append_mime(data, metadata, element) {\n",
       "      // create a DOM node to render to\n",
       "      var toinsert = this.create_output_subarea(\n",
       "        metadata,\n",
       "        CLASS_NAME,\n",
       "        EXEC_MIME_TYPE\n",
       "      );\n",
       "      this.keyboard_manager.register_events(toinsert);\n",
       "      // Render to node\n",
       "      var props = {data: data, metadata: metadata[EXEC_MIME_TYPE]};\n",
       "      render(props, toinsert[toinsert.length - 1]);\n",
       "      element.append(toinsert);\n",
       "      return toinsert\n",
       "    }\n",
       "\n",
       "    /* Handle when an output is cleared or removed */\n",
       "    events.on('clear_output.CodeCell', handleClearOutput);\n",
       "    events.on('delete.Cell', handleClearOutput);\n",
       "\n",
       "    /* Handle when a new output is added */\n",
       "    events.on('output_added.OutputArea', handleAddOutput);\n",
       "\n",
       "    /**\n",
       "     * Register the mime type and append_mime function with output_area\n",
       "     */\n",
       "    OutputArea.prototype.register_mime_type(EXEC_MIME_TYPE, append_mime, {\n",
       "      /* Is output safe? */\n",
       "      safe: true,\n",
       "      /* Index of renderer in `output_area.display_order` */\n",
       "      index: 0\n",
       "    });\n",
       "  }\n",
       "\n",
       "  // register the mime type if in Jupyter Notebook environment and previously unregistered\n",
       "  if (root.Jupyter !== undefined) {\n",
       "    var events = require('base/js/events');\n",
       "    var OutputArea = require('notebook/js/outputarea').OutputArea;\n",
       "\n",
       "    if (OutputArea.prototype.mime_types().indexOf(EXEC_MIME_TYPE) == -1) {\n",
       "      register_renderer(events, OutputArea);\n",
       "    }\n",
       "  }\n",
       "\n",
       "  \n",
       "  if (typeof (root._bokeh_timeout) === \"undefined\" || force === true) {\n",
       "    root._bokeh_timeout = Date.now() + 5000;\n",
       "    root._bokeh_failed_load = false;\n",
       "  }\n",
       "\n",
       "  var NB_LOAD_WARNING = {'data': {'text/html':\n",
       "     \"<div style='background-color: #fdd'>\\n\"+\n",
       "     \"<p>\\n\"+\n",
       "     \"BokehJS does not appear to have successfully loaded. If loading BokehJS from CDN, this \\n\"+\n",
       "     \"may be due to a slow or bad network connection. Possible fixes:\\n\"+\n",
       "     \"</p>\\n\"+\n",
       "     \"<ul>\\n\"+\n",
       "     \"<li>re-rerun `output_notebook()` to attempt to load from CDN again, or</li>\\n\"+\n",
       "     \"<li>use INLINE resources instead, as so:</li>\\n\"+\n",
       "     \"</ul>\\n\"+\n",
       "     \"<code>\\n\"+\n",
       "     \"from bokeh.resources import INLINE\\n\"+\n",
       "     \"output_notebook(resources=INLINE)\\n\"+\n",
       "     \"</code>\\n\"+\n",
       "     \"</div>\"}};\n",
       "\n",
       "  function display_loaded() {\n",
       "    var el = document.getElementById(\"1001\");\n",
       "    if (el != null) {\n",
       "      el.textContent = \"BokehJS is loading...\";\n",
       "    }\n",
       "    if (root.Bokeh !== undefined) {\n",
       "      if (el != null) {\n",
       "        el.textContent = \"BokehJS \" + root.Bokeh.version + \" successfully loaded.\";\n",
       "      }\n",
       "    } else if (Date.now() < root._bokeh_timeout) {\n",
       "      setTimeout(display_loaded, 100)\n",
       "    }\n",
       "  }\n",
       "\n",
       "\n",
       "  function run_callbacks() {\n",
       "    try {\n",
       "      root._bokeh_onload_callbacks.forEach(function(callback) {\n",
       "        if (callback != null)\n",
       "          callback();\n",
       "      });\n",
       "    } finally {\n",
       "      delete root._bokeh_onload_callbacks\n",
       "    }\n",
       "    console.debug(\"Bokeh: all callbacks have finished\");\n",
       "  }\n",
       "\n",
       "  function load_libs(css_urls, js_urls, callback) {\n",
       "    if (css_urls == null) css_urls = [];\n",
       "    if (js_urls == null) js_urls = [];\n",
       "\n",
       "    root._bokeh_onload_callbacks.push(callback);\n",
       "    if (root._bokeh_is_loading > 0) {\n",
       "      console.debug(\"Bokeh: BokehJS is being loaded, scheduling callback at\", now());\n",
       "      return null;\n",
       "    }\n",
       "    if (js_urls == null || js_urls.length === 0) {\n",
       "      run_callbacks();\n",
       "      return null;\n",
       "    }\n",
       "    console.debug(\"Bokeh: BokehJS not loaded, scheduling load and callback at\", now());\n",
       "    root._bokeh_is_loading = css_urls.length + js_urls.length;\n",
       "\n",
       "    function on_load() {\n",
       "      root._bokeh_is_loading--;\n",
       "      if (root._bokeh_is_loading === 0) {\n",
       "        console.debug(\"Bokeh: all BokehJS libraries/stylesheets loaded\");\n",
       "        run_callbacks()\n",
       "      }\n",
       "    }\n",
       "\n",
       "    function on_error() {\n",
       "      console.error(\"failed to load \" + url);\n",
       "    }\n",
       "\n",
       "    for (var i = 0; i < css_urls.length; i++) {\n",
       "      var url = css_urls[i];\n",
       "      const element = document.createElement(\"link\");\n",
       "      element.onload = on_load;\n",
       "      element.onerror = on_error;\n",
       "      element.rel = \"stylesheet\";\n",
       "      element.type = \"text/css\";\n",
       "      element.href = url;\n",
       "      console.debug(\"Bokeh: injecting link tag for BokehJS stylesheet: \", url);\n",
       "      document.body.appendChild(element);\n",
       "    }\n",
       "\n",
       "    for (var i = 0; i < js_urls.length; i++) {\n",
       "      var url = js_urls[i];\n",
       "      var element = document.createElement('script');\n",
       "      element.onload = on_load;\n",
       "      element.onerror = on_error;\n",
       "      element.async = false;\n",
       "      element.src = url;\n",
       "      console.debug(\"Bokeh: injecting script tag for BokehJS library: \", url);\n",
       "      document.head.appendChild(element);\n",
       "    }\n",
       "  };var element = document.getElementById(\"1001\");\n",
       "  if (element == null) {\n",
       "    console.error(\"Bokeh: ERROR: autoload.js configured with elementid '1001' but no matching script tag was found. \")\n",
       "    return false;\n",
       "  }\n",
       "\n",
       "  function inject_raw_css(css) {\n",
       "    const element = document.createElement(\"style\");\n",
       "    element.appendChild(document.createTextNode(css));\n",
       "    document.body.appendChild(element);\n",
       "  }\n",
       "\n",
       "  var js_urls = [\"https://cdn.pydata.org/bokeh/release/bokeh-1.3.4.min.js\", \"https://cdn.pydata.org/bokeh/release/bokeh-widgets-1.3.4.min.js\", \"https://cdn.pydata.org/bokeh/release/bokeh-tables-1.3.4.min.js\", \"https://cdn.pydata.org/bokeh/release/bokeh-gl-1.3.4.min.js\"];\n",
       "  var css_urls = [];\n",
       "\n",
       "  var inline_js = [\n",
       "    function(Bokeh) {\n",
       "      Bokeh.set_log_level(\"info\");\n",
       "    },\n",
       "    \n",
       "    function(Bokeh) {\n",
       "      \n",
       "    },\n",
       "    function(Bokeh) {} // ensure no trailing comma for IE\n",
       "  ];\n",
       "\n",
       "  function run_inline_js() {\n",
       "    \n",
       "    if ((root.Bokeh !== undefined) || (force === true)) {\n",
       "      for (var i = 0; i < inline_js.length; i++) {\n",
       "        inline_js[i].call(root, root.Bokeh);\n",
       "      }if (force === true) {\n",
       "        display_loaded();\n",
       "      }} else if (Date.now() < root._bokeh_timeout) {\n",
       "      setTimeout(run_inline_js, 100);\n",
       "    } else if (!root._bokeh_failed_load) {\n",
       "      console.log(\"Bokeh: BokehJS failed to load within specified timeout.\");\n",
       "      root._bokeh_failed_load = true;\n",
       "    } else if (force !== true) {\n",
       "      var cell = $(document.getElementById(\"1001\")).parents('.cell').data().cell;\n",
       "      cell.output_area.append_execute_result(NB_LOAD_WARNING)\n",
       "    }\n",
       "\n",
       "  }\n",
       "\n",
       "  if (root._bokeh_is_loading === 0) {\n",
       "    console.debug(\"Bokeh: BokehJS loaded, going straight to plotting\");\n",
       "    run_inline_js();\n",
       "  } else {\n",
       "    load_libs(css_urls, js_urls, function() {\n",
       "      console.debug(\"Bokeh: BokehJS plotting callback run at\", now());\n",
       "      run_inline_js();\n",
       "    });\n",
       "  }\n",
       "}(window));"
      ],
      "application/vnd.bokehjs_load.v0+json": "\n(function(root) {\n  function now() {\n    return new Date();\n  }\n\n  var force = true;\n\n  if (typeof root._bokeh_onload_callbacks === \"undefined\" || force === true) {\n    root._bokeh_onload_callbacks = [];\n    root._bokeh_is_loading = undefined;\n  }\n\n  \n\n  \n  if (typeof (root._bokeh_timeout) === \"undefined\" || force === true) {\n    root._bokeh_timeout = Date.now() + 5000;\n    root._bokeh_failed_load = false;\n  }\n\n  var NB_LOAD_WARNING = {'data': {'text/html':\n     \"<div style='background-color: #fdd'>\\n\"+\n     \"<p>\\n\"+\n     \"BokehJS does not appear to have successfully loaded. If loading BokehJS from CDN, this \\n\"+\n     \"may be due to a slow or bad network connection. Possible fixes:\\n\"+\n     \"</p>\\n\"+\n     \"<ul>\\n\"+\n     \"<li>re-rerun `output_notebook()` to attempt to load from CDN again, or</li>\\n\"+\n     \"<li>use INLINE resources instead, as so:</li>\\n\"+\n     \"</ul>\\n\"+\n     \"<code>\\n\"+\n     \"from bokeh.resources import INLINE\\n\"+\n     \"output_notebook(resources=INLINE)\\n\"+\n     \"</code>\\n\"+\n     \"</div>\"}};\n\n  function display_loaded() {\n    var el = document.getElementById(\"1001\");\n    if (el != null) {\n      el.textContent = \"BokehJS is loading...\";\n    }\n    if (root.Bokeh !== undefined) {\n      if (el != null) {\n        el.textContent = \"BokehJS \" + root.Bokeh.version + \" successfully loaded.\";\n      }\n    } else if (Date.now() < root._bokeh_timeout) {\n      setTimeout(display_loaded, 100)\n    }\n  }\n\n\n  function run_callbacks() {\n    try {\n      root._bokeh_onload_callbacks.forEach(function(callback) {\n        if (callback != null)\n          callback();\n      });\n    } finally {\n      delete root._bokeh_onload_callbacks\n    }\n    console.debug(\"Bokeh: all callbacks have finished\");\n  }\n\n  function load_libs(css_urls, js_urls, callback) {\n    if (css_urls == null) css_urls = [];\n    if (js_urls == null) js_urls = [];\n\n    root._bokeh_onload_callbacks.push(callback);\n    if (root._bokeh_is_loading > 0) {\n      console.debug(\"Bokeh: BokehJS is being loaded, scheduling callback at\", now());\n      return null;\n    }\n    if (js_urls == null || js_urls.length === 0) {\n      run_callbacks();\n      return null;\n    }\n    console.debug(\"Bokeh: BokehJS not loaded, scheduling load and callback at\", now());\n    root._bokeh_is_loading = css_urls.length + js_urls.length;\n\n    function on_load() {\n      root._bokeh_is_loading--;\n      if (root._bokeh_is_loading === 0) {\n        console.debug(\"Bokeh: all BokehJS libraries/stylesheets loaded\");\n        run_callbacks()\n      }\n    }\n\n    function on_error() {\n      console.error(\"failed to load \" + url);\n    }\n\n    for (var i = 0; i < css_urls.length; i++) {\n      var url = css_urls[i];\n      const element = document.createElement(\"link\");\n      element.onload = on_load;\n      element.onerror = on_error;\n      element.rel = \"stylesheet\";\n      element.type = \"text/css\";\n      element.href = url;\n      console.debug(\"Bokeh: injecting link tag for BokehJS stylesheet: \", url);\n      document.body.appendChild(element);\n    }\n\n    for (var i = 0; i < js_urls.length; i++) {\n      var url = js_urls[i];\n      var element = document.createElement('script');\n      element.onload = on_load;\n      element.onerror = on_error;\n      element.async = false;\n      element.src = url;\n      console.debug(\"Bokeh: injecting script tag for BokehJS library: \", url);\n      document.head.appendChild(element);\n    }\n  };var element = document.getElementById(\"1001\");\n  if (element == null) {\n    console.error(\"Bokeh: ERROR: autoload.js configured with elementid '1001' but no matching script tag was found. \")\n    return false;\n  }\n\n  function inject_raw_css(css) {\n    const element = document.createElement(\"style\");\n    element.appendChild(document.createTextNode(css));\n    document.body.appendChild(element);\n  }\n\n  var js_urls = [\"https://cdn.pydata.org/bokeh/release/bokeh-1.3.4.min.js\", \"https://cdn.pydata.org/bokeh/release/bokeh-widgets-1.3.4.min.js\", \"https://cdn.pydata.org/bokeh/release/bokeh-tables-1.3.4.min.js\", \"https://cdn.pydata.org/bokeh/release/bokeh-gl-1.3.4.min.js\"];\n  var css_urls = [];\n\n  var inline_js = [\n    function(Bokeh) {\n      Bokeh.set_log_level(\"info\");\n    },\n    \n    function(Bokeh) {\n      \n    },\n    function(Bokeh) {} // ensure no trailing comma for IE\n  ];\n\n  function run_inline_js() {\n    \n    if ((root.Bokeh !== undefined) || (force === true)) {\n      for (var i = 0; i < inline_js.length; i++) {\n        inline_js[i].call(root, root.Bokeh);\n      }if (force === true) {\n        display_loaded();\n      }} else if (Date.now() < root._bokeh_timeout) {\n      setTimeout(run_inline_js, 100);\n    } else if (!root._bokeh_failed_load) {\n      console.log(\"Bokeh: BokehJS failed to load within specified timeout.\");\n      root._bokeh_failed_load = true;\n    } else if (force !== true) {\n      var cell = $(document.getElementById(\"1001\")).parents('.cell').data().cell;\n      cell.output_area.append_execute_result(NB_LOAD_WARNING)\n    }\n\n  }\n\n  if (root._bokeh_is_loading === 0) {\n    console.debug(\"Bokeh: BokehJS loaded, going straight to plotting\");\n    run_inline_js();\n  } else {\n    load_libs(css_urls, js_urls, function() {\n      console.debug(\"Bokeh: BokehJS plotting callback run at\", now());\n      run_inline_js();\n    });\n  }\n}(window));"
     },
     "metadata": {},
     "output_type": "display_data"
    }
   ],
   "source": [
    "output_notebook()"
   ]
  },
  {
   "cell_type": "markdown",
   "metadata": {},
   "source": [
    "Before we get started, it's useful to describe how colors and properties are specified in Bokeh. \n",
    "\n",
    "## Colors\n",
    "\n",
    "There are many places where you may need to specify colors. Bokeh can accept colors in a variety of different ways:\n",
    "\n",
    "* any of the [147 named CSS colors](http://www.w3schools.com/cssref/css_colornames.asp), e.g ``'green'``, ``'indigo'``\n",
    "* an RGB(A) hex value, e.g., ``'#FF0000'``, ``'#44444444'``\n",
    "* a 3-tuple of integers *(r,g,b)* between 0 and 255\n",
    "*  a 4-tuple of *(r,g,b,a)* where *r*, *g*, *b* are integers between 0 and 255 and *a* is a floating point value between 0 and 1\n",
    "\n",
    "\n",
    "\n",
    "## Properties\n",
    "\n",
    "Regardless of how a Bokeh plot is created, styling the visual aspects of the plot can always be accomplished by setting attributes on the Bokeh objects that comprise the resulting plot. Visual properties come in three kinds: line, fill, and text properties. For full information with code and examples see the [Styling Visual Properties](http://bokeh.pydata.org/en/latest/docs/user_guide/styling.html) section of the user guide. \n",
    "\n",
    "----\n",
    "\n",
    "### Line Properties\n",
    "\n",
    "Set the visual appearance of lines. The most common are ``line_color``, ``line_alpha``, ``line_width`` and ``line_dash``.\n",
    "\n",
    "### Fill Properties\n",
    "\n",
    "Set the visual appearance of filled areas: ``fill_color`` and ``fill_alpha``.\n",
    "\n",
    "### Text Properties\n",
    "\n",
    "Set the visual appearance of lines of text. The most common are ``text_font``, ``text_font_size``, ``text_color``, and ``text_alpha``.\n",
    "\n",
    "----\n",
    "\n",
    "Sometimes a prefix is used with property names, e.g. to distinguish between different line properties on the same object, or to give a more meaningful name. For example, to set the line width of the plot outline, you would say ``myplot.outline_line_width = 2``. "
   ]
  },
  {
   "cell_type": "markdown",
   "metadata": {},
   "source": [
    "# Plots\n",
    "\n",
    "Many top-level attributes of plots (outline, border, etc.) can be configured. See the [Plots](http://bokeh.pydata.org/en/latest/docs/user_guide/styling.html#plots) section of the styling guide for full information. \n",
    "\n",
    "Here is an example that tweaks the plot outline:"
   ]
  },
  {
   "cell_type": "code",
   "execution_count": 24,
   "metadata": {},
   "outputs": [
    {
     "data": {
      "text/html": [
       "\n",
       "\n",
       "\n",
       "\n",
       "\n",
       "\n",
       "  <div class=\"bk-root\" id=\"d4359332-0b0e-4e57-bed0-773ed324d8a3\" data-root-id=\"4165\"></div>\n"
      ]
     },
     "metadata": {},
     "output_type": "display_data"
    },
    {
     "data": {
      "application/javascript": [
       "(function(root) {\n",
       "  function embed_document(root) {\n",
       "    \n",
       "  var docs_json = {\"7bbaf298-89d2-494e-bfbe-3d451ea67420\":{\"roots\":{\"references\":[{\"attributes\":{\"below\":[{\"id\":\"4174\",\"type\":\"LinearAxis\"}],\"center\":[{\"id\":\"4178\",\"type\":\"Grid\"},{\"id\":\"4183\",\"type\":\"Grid\"}],\"left\":[{\"id\":\"4179\",\"type\":\"LinearAxis\"}],\"outline_line_alpha\":{\"value\":0.3},\"outline_line_color\":{\"value\":\"navy\"},\"outline_line_width\":{\"value\":7},\"plot_height\":400,\"plot_width\":400,\"renderers\":[{\"id\":\"4200\",\"type\":\"GlyphRenderer\"}],\"title\":{\"id\":\"4357\",\"type\":\"Title\"},\"toolbar\":{\"id\":\"4190\",\"type\":\"Toolbar\"},\"x_range\":{\"id\":\"4166\",\"type\":\"DataRange1d\"},\"x_scale\":{\"id\":\"4170\",\"type\":\"LinearScale\"},\"y_range\":{\"id\":\"4168\",\"type\":\"DataRange1d\"},\"y_scale\":{\"id\":\"4172\",\"type\":\"LinearScale\"}},\"id\":\"4165\",\"subtype\":\"Figure\",\"type\":\"Plot\"},{\"attributes\":{\"formatter\":{\"id\":\"4359\",\"type\":\"BasicTickFormatter\"},\"ticker\":{\"id\":\"4175\",\"type\":\"BasicTicker\"}},\"id\":\"4174\",\"type\":\"LinearAxis\"},{\"attributes\":{\"text\":\"\"},\"id\":\"4357\",\"type\":\"Title\"},{\"attributes\":{\"callback\":null},\"id\":\"4166\",\"type\":\"DataRange1d\"},{\"attributes\":{\"data_source\":{\"id\":\"4197\",\"type\":\"ColumnDataSource\"},\"glyph\":{\"id\":\"4198\",\"type\":\"Circle\"},\"hover_glyph\":null,\"muted_glyph\":null,\"nonselection_glyph\":{\"id\":\"4199\",\"type\":\"Circle\"},\"selection_glyph\":null,\"view\":{\"id\":\"4201\",\"type\":\"CDSView\"}},\"id\":\"4200\",\"type\":\"GlyphRenderer\"},{\"attributes\":{},\"id\":\"4189\",\"type\":\"HelpTool\"},{\"attributes\":{},\"id\":\"4365\",\"type\":\"UnionRenderers\"},{\"attributes\":{\"source\":{\"id\":\"4197\",\"type\":\"ColumnDataSource\"}},\"id\":\"4201\",\"type\":\"CDSView\"},{\"attributes\":{\"fill_color\":{\"value\":\"#1f77b4\"},\"line_color\":{\"value\":\"#1f77b4\"},\"size\":{\"units\":\"screen\",\"value\":10},\"x\":{\"field\":\"x\"},\"y\":{\"field\":\"y\"}},\"id\":\"4198\",\"type\":\"Circle\"},{\"attributes\":{},\"id\":\"4180\",\"type\":\"BasicTicker\"},{\"attributes\":{},\"id\":\"4359\",\"type\":\"BasicTickFormatter\"},{\"attributes\":{},\"id\":\"4170\",\"type\":\"LinearScale\"},{\"attributes\":{\"bottom_units\":\"screen\",\"fill_alpha\":{\"value\":0.5},\"fill_color\":{\"value\":\"lightgrey\"},\"left_units\":\"screen\",\"level\":\"overlay\",\"line_alpha\":{\"value\":1.0},\"line_color\":{\"value\":\"black\"},\"line_dash\":[4,4],\"line_width\":{\"value\":2},\"render_mode\":\"css\",\"right_units\":\"screen\",\"top_units\":\"screen\"},\"id\":\"4363\",\"type\":\"BoxAnnotation\"},{\"attributes\":{\"active_drag\":\"auto\",\"active_inspect\":\"auto\",\"active_multi\":null,\"active_scroll\":\"auto\",\"active_tap\":\"auto\",\"tools\":[{\"id\":\"4184\",\"type\":\"PanTool\"},{\"id\":\"4185\",\"type\":\"WheelZoomTool\"},{\"id\":\"4186\",\"type\":\"BoxZoomTool\"},{\"id\":\"4187\",\"type\":\"SaveTool\"},{\"id\":\"4188\",\"type\":\"ResetTool\"},{\"id\":\"4189\",\"type\":\"HelpTool\"}]},\"id\":\"4190\",\"type\":\"Toolbar\"},{\"attributes\":{},\"id\":\"4361\",\"type\":\"BasicTickFormatter\"},{\"attributes\":{\"ticker\":{\"id\":\"4175\",\"type\":\"BasicTicker\"}},\"id\":\"4178\",\"type\":\"Grid\"},{\"attributes\":{\"callback\":null},\"id\":\"4168\",\"type\":\"DataRange1d\"},{\"attributes\":{},\"id\":\"4175\",\"type\":\"BasicTicker\"},{\"attributes\":{\"callback\":null,\"data\":{\"x\":[1,2,3,4,5],\"y\":[2,5,8,2,7]},\"selected\":{\"id\":\"4364\",\"type\":\"Selection\"},\"selection_policy\":{\"id\":\"4365\",\"type\":\"UnionRenderers\"}},\"id\":\"4197\",\"type\":\"ColumnDataSource\"},{\"attributes\":{},\"id\":\"4364\",\"type\":\"Selection\"},{\"attributes\":{},\"id\":\"4184\",\"type\":\"PanTool\"},{\"attributes\":{\"dimension\":1,\"ticker\":{\"id\":\"4180\",\"type\":\"BasicTicker\"}},\"id\":\"4183\",\"type\":\"Grid\"},{\"attributes\":{},\"id\":\"4172\",\"type\":\"LinearScale\"},{\"attributes\":{},\"id\":\"4185\",\"type\":\"WheelZoomTool\"},{\"attributes\":{\"overlay\":{\"id\":\"4363\",\"type\":\"BoxAnnotation\"}},\"id\":\"4186\",\"type\":\"BoxZoomTool\"},{\"attributes\":{\"fill_alpha\":{\"value\":0.1},\"fill_color\":{\"value\":\"#1f77b4\"},\"line_alpha\":{\"value\":0.1},\"line_color\":{\"value\":\"#1f77b4\"},\"size\":{\"units\":\"screen\",\"value\":10},\"x\":{\"field\":\"x\"},\"y\":{\"field\":\"y\"}},\"id\":\"4199\",\"type\":\"Circle\"},{\"attributes\":{},\"id\":\"4188\",\"type\":\"ResetTool\"},{\"attributes\":{\"formatter\":{\"id\":\"4361\",\"type\":\"BasicTickFormatter\"},\"ticker\":{\"id\":\"4180\",\"type\":\"BasicTicker\"}},\"id\":\"4179\",\"type\":\"LinearAxis\"},{\"attributes\":{},\"id\":\"4187\",\"type\":\"SaveTool\"}],\"root_ids\":[\"4165\"]},\"title\":\"Bokeh Application\",\"version\":\"1.3.4\"}};\n",
       "  var render_items = [{\"docid\":\"7bbaf298-89d2-494e-bfbe-3d451ea67420\",\"roots\":{\"4165\":\"d4359332-0b0e-4e57-bed0-773ed324d8a3\"}}];\n",
       "  root.Bokeh.embed.embed_items_notebook(docs_json, render_items);\n",
       "\n",
       "  }\n",
       "  if (root.Bokeh !== undefined) {\n",
       "    embed_document(root);\n",
       "  } else {\n",
       "    var attempts = 0;\n",
       "    var timer = setInterval(function(root) {\n",
       "      if (root.Bokeh !== undefined) {\n",
       "        embed_document(root);\n",
       "        clearInterval(timer);\n",
       "      }\n",
       "      attempts++;\n",
       "      if (attempts > 100) {\n",
       "        console.log(\"Bokeh: ERROR: Unable to run BokehJS code because BokehJS library is missing\");\n",
       "        clearInterval(timer);\n",
       "      }\n",
       "    }, 10, root)\n",
       "  }\n",
       "})(window);"
      ],
      "application/vnd.bokehjs_exec.v0+json": ""
     },
     "metadata": {
      "application/vnd.bokehjs_exec.v0+json": {
       "id": "4165"
      }
     },
     "output_type": "display_data"
    }
   ],
   "source": [
    "# create a new plot with a title\n",
    "p = figure(plot_width=400, plot_height=400)\n",
    "p.outline_line_width = 7\n",
    "p.outline_line_alpha = 0.3\n",
    "p.outline_line_color = \"navy\"\n",
    "\n",
    "p.circle([1,2,3,4,5], [2,5,8,2,7], size=10)\n",
    "\n",
    "show(p)"
   ]
  },
  {
   "cell_type": "code",
   "execution_count": 29,
   "metadata": {},
   "outputs": [
    {
     "data": {
      "text/html": [
       "\n",
       "\n",
       "\n",
       "\n",
       "\n",
       "\n",
       "  <div class=\"bk-root\" id=\"5b2a9d47-ee5b-4d46-b499-3a852e383acc\" data-root-id=\"5504\"></div>\n"
      ]
     },
     "metadata": {},
     "output_type": "display_data"
    },
    {
     "data": {
      "application/javascript": [
       "(function(root) {\n",
       "  function embed_document(root) {\n",
       "    \n",
       "  var docs_json = {\"e9d455d4-992e-4382-9483-c741fd95d749\":{\"roots\":{\"references\":[{\"attributes\":{\"below\":[{\"id\":\"5515\",\"type\":\"LinearAxis\"}],\"border_fill_color\":{\"value\":\"pink\"},\"center\":[{\"id\":\"5519\",\"type\":\"Grid\"},{\"id\":\"5524\",\"type\":\"Grid\"}],\"left\":[{\"id\":\"5520\",\"type\":\"LinearAxis\"}],\"min_border_left\":80,\"outline_line_alpha\":{\"value\":0.3},\"outline_line_color\":{\"value\":\"pink\"},\"outline_line_width\":{\"value\":200},\"plot_height\":400,\"plot_width\":400,\"renderers\":[{\"id\":\"5541\",\"type\":\"GlyphRenderer\"}],\"title\":{\"id\":\"5505\",\"type\":\"Title\"},\"toolbar\":{\"id\":\"5531\",\"type\":\"Toolbar\"},\"x_range\":{\"id\":\"5507\",\"type\":\"DataRange1d\"},\"x_scale\":{\"id\":\"5511\",\"type\":\"LinearScale\"},\"y_range\":{\"id\":\"5509\",\"type\":\"DataRange1d\"},\"y_scale\":{\"id\":\"5513\",\"type\":\"LinearScale\"}},\"id\":\"5504\",\"subtype\":\"Figure\",\"type\":\"Plot\"},{\"attributes\":{},\"id\":\"5513\",\"type\":\"LinearScale\"},{\"attributes\":{},\"id\":\"5740\",\"type\":\"BasicTickFormatter\"},{\"attributes\":{},\"id\":\"5530\",\"type\":\"HelpTool\"},{\"attributes\":{},\"id\":\"5745\",\"type\":\"Selection\"},{\"attributes\":{\"source\":{\"id\":\"5538\",\"type\":\"ColumnDataSource\"}},\"id\":\"5542\",\"type\":\"CDSView\"},{\"attributes\":{\"fill_alpha\":{\"value\":0.1},\"fill_color\":{\"value\":\"#1f77b4\"},\"line_alpha\":{\"value\":0.1},\"line_color\":{\"value\":\"#1f77b4\"},\"size\":{\"units\":\"screen\",\"value\":10},\"x\":{\"field\":\"x\"},\"y\":{\"field\":\"y\"}},\"id\":\"5540\",\"type\":\"Circle\"},{\"attributes\":{\"dimension\":1,\"grid_line_color\":\"pink\",\"ticker\":{\"id\":\"5521\",\"type\":\"BasicTicker\"}},\"id\":\"5524\",\"type\":\"Grid\"},{\"attributes\":{\"active_drag\":\"auto\",\"active_inspect\":\"auto\",\"active_multi\":null,\"active_scroll\":\"auto\",\"active_tap\":\"auto\",\"tools\":[{\"id\":\"5525\",\"type\":\"PanTool\"},{\"id\":\"5526\",\"type\":\"WheelZoomTool\"},{\"id\":\"5527\",\"type\":\"BoxZoomTool\"},{\"id\":\"5528\",\"type\":\"SaveTool\"},{\"id\":\"5529\",\"type\":\"ResetTool\"},{\"id\":\"5530\",\"type\":\"HelpTool\"}]},\"id\":\"5531\",\"type\":\"Toolbar\"},{\"attributes\":{\"callback\":null},\"id\":\"5509\",\"type\":\"DataRange1d\"},{\"attributes\":{},\"id\":\"5516\",\"type\":\"BasicTicker\"},{\"attributes\":{},\"id\":\"5525\",\"type\":\"PanTool\"},{\"attributes\":{},\"id\":\"5746\",\"type\":\"UnionRenderers\"},{\"attributes\":{\"callback\":null,\"data\":{\"x\":[1,2,3,4,5],\"y\":[2,5,8,2,7]},\"selected\":{\"id\":\"5745\",\"type\":\"Selection\"},\"selection_policy\":{\"id\":\"5746\",\"type\":\"UnionRenderers\"}},\"id\":\"5538\",\"type\":\"ColumnDataSource\"},{\"attributes\":{\"callback\":null},\"id\":\"5507\",\"type\":\"DataRange1d\"},{\"attributes\":{\"grid_line_color\":\"pink\",\"ticker\":{\"id\":\"5516\",\"type\":\"BasicTicker\"}},\"id\":\"5519\",\"type\":\"Grid\"},{\"attributes\":{\"formatter\":{\"id\":\"5740\",\"type\":\"BasicTickFormatter\"},\"ticker\":{\"id\":\"5516\",\"type\":\"BasicTicker\"}},\"id\":\"5515\",\"type\":\"LinearAxis\"},{\"attributes\":{},\"id\":\"5521\",\"type\":\"BasicTicker\"},{\"attributes\":{\"formatter\":{\"id\":\"5742\",\"type\":\"BasicTickFormatter\"},\"ticker\":{\"id\":\"5521\",\"type\":\"BasicTicker\"}},\"id\":\"5520\",\"type\":\"LinearAxis\"},{\"attributes\":{},\"id\":\"5529\",\"type\":\"ResetTool\"},{\"attributes\":{},\"id\":\"5526\",\"type\":\"WheelZoomTool\"},{\"attributes\":{},\"id\":\"5742\",\"type\":\"BasicTickFormatter\"},{\"attributes\":{},\"id\":\"5528\",\"type\":\"SaveTool\"},{\"attributes\":{\"fill_color\":{\"value\":\"pink\"},\"line_color\":{\"value\":\"pink\"},\"size\":{\"units\":\"screen\",\"value\":10},\"x\":{\"field\":\"x\"},\"y\":{\"field\":\"y\"}},\"id\":\"5539\",\"type\":\"Circle\"},{\"attributes\":{\"overlay\":{\"id\":\"5744\",\"type\":\"BoxAnnotation\"}},\"id\":\"5527\",\"type\":\"BoxZoomTool\"},{\"attributes\":{\"bottom_units\":\"screen\",\"fill_alpha\":{\"value\":0.5},\"fill_color\":{\"value\":\"lightgrey\"},\"left_units\":\"screen\",\"level\":\"overlay\",\"line_alpha\":{\"value\":1.0},\"line_color\":{\"value\":\"black\"},\"line_dash\":[4,4],\"line_width\":{\"value\":2},\"render_mode\":\"css\",\"right_units\":\"screen\",\"top_units\":\"screen\"},\"id\":\"5744\",\"type\":\"BoxAnnotation\"},{\"attributes\":{},\"id\":\"5511\",\"type\":\"LinearScale\"},{\"attributes\":{\"text\":\"A Pretty Pink Plot\"},\"id\":\"5505\",\"type\":\"Title\"},{\"attributes\":{\"data_source\":{\"id\":\"5538\",\"type\":\"ColumnDataSource\"},\"glyph\":{\"id\":\"5539\",\"type\":\"Circle\"},\"hover_glyph\":null,\"muted_glyph\":null,\"nonselection_glyph\":{\"id\":\"5540\",\"type\":\"Circle\"},\"selection_glyph\":null,\"view\":{\"id\":\"5542\",\"type\":\"CDSView\"}},\"id\":\"5541\",\"type\":\"GlyphRenderer\"}],\"root_ids\":[\"5504\"]},\"title\":\"Bokeh Application\",\"version\":\"1.3.4\"}};\n",
       "  var render_items = [{\"docid\":\"e9d455d4-992e-4382-9483-c741fd95d749\",\"roots\":{\"5504\":\"5b2a9d47-ee5b-4d46-b499-3a852e383acc\"}}];\n",
       "  root.Bokeh.embed.embed_items_notebook(docs_json, render_items);\n",
       "\n",
       "  }\n",
       "  if (root.Bokeh !== undefined) {\n",
       "    embed_document(root);\n",
       "  } else {\n",
       "    var attempts = 0;\n",
       "    var timer = setInterval(function(root) {\n",
       "      if (root.Bokeh !== undefined) {\n",
       "        embed_document(root);\n",
       "        clearInterval(timer);\n",
       "      }\n",
       "      attempts++;\n",
       "      if (attempts > 100) {\n",
       "        console.log(\"Bokeh: ERROR: Unable to run BokehJS code because BokehJS library is missing\");\n",
       "        clearInterval(timer);\n",
       "      }\n",
       "    }, 10, root)\n",
       "  }\n",
       "})(window);"
      ],
      "application/vnd.bokehjs_exec.v0+json": ""
     },
     "metadata": {
      "application/vnd.bokehjs_exec.v0+json": {
       "id": "5504"
      }
     },
     "output_type": "display_data"
    }
   ],
   "source": [
    "# EXERCISE Create a plot of your own and customize several plot-level properties\n",
    "\n",
    "p = figure(title='A Pretty Pink Plot', plot_width=400, plot_height=400)\n",
    "p.border_fill_color = \"pink\"\n",
    "p.min_border_left = 80\n",
    "\n",
    "p.circle([1,2,3,4,5], [2,5,8,2,7], size=10, color='pink')\n",
    "p.xgrid.grid_line_color = 'pink'\n",
    "p.ygrid.grid_line_color = 'pink'\n",
    "p.outline_line_width = 200\n",
    "p.outline_line_alpha = 0.3\n",
    "p.outline_line_color = \"pink\"\n",
    "\n",
    "show(p)"
   ]
  },
  {
   "cell_type": "markdown",
   "metadata": {},
   "source": [
    "# Glyphs\n",
    "\n",
    "It's also possible to style the visual properties of glyphs. When using `bokeh.plotting` this is often done when calling the glyph methods:\n",
    "```python\n",
    "p.circle(line_color=\"red\", fill_alpha=0.2, ...)\n",
    "```\n",
    "But it is also possible to set these properties directly on glyph objects. Glyph objects are found on `GlyphRenderer` objects, which are returned by the `Plot.add_glyph` and `bokeh.plotting` glyph methods like `circle`, `rect`, etc. Let's look at an example:"
   ]
  },
  {
   "cell_type": "code",
   "execution_count": 36,
   "metadata": {},
   "outputs": [
    {
     "data": {
      "text/html": [
       "\n",
       "\n",
       "\n",
       "\n",
       "\n",
       "\n",
       "  <div class=\"bk-root\" id=\"dc480032-4e80-4355-ae1e-eb82646b38c2\" data-root-id=\"7754\"></div>\n"
      ]
     },
     "metadata": {},
     "output_type": "display_data"
    },
    {
     "data": {
      "application/javascript": [
       "(function(root) {\n",
       "  function embed_document(root) {\n",
       "    \n",
       "  var docs_json = {\"eb8afd8e-a267-4305-8773-09484dd7d820\":{\"roots\":{\"references\":[{\"attributes\":{\"below\":[{\"id\":\"7763\",\"type\":\"LinearAxis\"}],\"center\":[{\"id\":\"7767\",\"type\":\"Grid\"},{\"id\":\"7772\",\"type\":\"Grid\"}],\"left\":[{\"id\":\"7768\",\"type\":\"LinearAxis\"}],\"plot_height\":400,\"plot_width\":400,\"renderers\":[{\"id\":\"7789\",\"type\":\"GlyphRenderer\"}],\"title\":{\"id\":\"8049\",\"type\":\"Title\"},\"toolbar\":{\"id\":\"7779\",\"type\":\"Toolbar\"},\"x_range\":{\"id\":\"7755\",\"type\":\"DataRange1d\"},\"x_scale\":{\"id\":\"7759\",\"type\":\"LinearScale\"},\"y_range\":{\"id\":\"7757\",\"type\":\"DataRange1d\"},\"y_scale\":{\"id\":\"7761\",\"type\":\"LinearScale\"}},\"id\":\"7754\",\"subtype\":\"Figure\",\"type\":\"Plot\"},{\"attributes\":{\"ticker\":{\"id\":\"7764\",\"type\":\"BasicTicker\"}},\"id\":\"7767\",\"type\":\"Grid\"},{\"attributes\":{\"text\":\"\"},\"id\":\"8049\",\"type\":\"Title\"},{\"attributes\":{},\"id\":\"7777\",\"type\":\"ResetTool\"},{\"attributes\":{},\"id\":\"7778\",\"type\":\"HelpTool\"},{\"attributes\":{\"formatter\":{\"id\":\"8053\",\"type\":\"BasicTickFormatter\"},\"ticker\":{\"id\":\"7769\",\"type\":\"BasicTicker\"}},\"id\":\"7768\",\"type\":\"LinearAxis\"},{\"attributes\":{},\"id\":\"8057\",\"type\":\"UnionRenderers\"},{\"attributes\":{\"dimension\":1,\"ticker\":{\"id\":\"7769\",\"type\":\"BasicTicker\"}},\"id\":\"7772\",\"type\":\"Grid\"},{\"attributes\":{\"data_source\":{\"id\":\"7786\",\"type\":\"ColumnDataSource\"},\"glyph\":{\"id\":\"7787\",\"type\":\"Circle\"},\"hover_glyph\":null,\"muted_glyph\":null,\"nonselection_glyph\":{\"id\":\"7788\",\"type\":\"Circle\"},\"selection_glyph\":null,\"view\":{\"id\":\"7790\",\"type\":\"CDSView\"}},\"id\":\"7789\",\"type\":\"GlyphRenderer\"},{\"attributes\":{\"active_drag\":\"auto\",\"active_inspect\":\"auto\",\"active_multi\":null,\"active_scroll\":\"auto\",\"active_tap\":\"auto\",\"tools\":[{\"id\":\"7773\",\"type\":\"PanTool\"},{\"id\":\"7774\",\"type\":\"WheelZoomTool\"},{\"id\":\"7775\",\"type\":\"BoxZoomTool\"},{\"id\":\"7776\",\"type\":\"SaveTool\"},{\"id\":\"7777\",\"type\":\"ResetTool\"},{\"id\":\"7778\",\"type\":\"HelpTool\"}]},\"id\":\"7779\",\"type\":\"Toolbar\"},{\"attributes\":{},\"id\":\"7769\",\"type\":\"BasicTicker\"},{\"attributes\":{\"fill_alpha\":{\"value\":0.1},\"fill_color\":{\"value\":\"#1f77b4\"},\"line_alpha\":{\"value\":0.1},\"line_color\":{\"value\":\"#1f77b4\"},\"x\":{\"field\":\"x\"},\"y\":{\"field\":\"y\"}},\"id\":\"7788\",\"type\":\"Circle\"},{\"attributes\":{},\"id\":\"7761\",\"type\":\"LinearScale\"},{\"attributes\":{\"source\":{\"id\":\"7786\",\"type\":\"ColumnDataSource\"}},\"id\":\"7790\",\"type\":\"CDSView\"},{\"attributes\":{\"callback\":null,\"data\":{\"x\":[1,2,3,4,5],\"y\":[2,5,8,2,7]},\"selected\":{\"id\":\"8056\",\"type\":\"Selection\"},\"selection_policy\":{\"id\":\"8057\",\"type\":\"UnionRenderers\"}},\"id\":\"7786\",\"type\":\"ColumnDataSource\"},{\"attributes\":{\"fill_alpha\":{\"value\":0.5},\"fill_color\":{\"value\":\"#1f77b4\"},\"line_color\":{\"value\":\"firebrick\"},\"line_dash\":[10,10],\"line_width\":{\"value\":2},\"size\":{\"units\":\"screen\",\"value\":60},\"x\":{\"field\":\"x\"},\"y\":{\"field\":\"y\"}},\"id\":\"7787\",\"type\":\"Circle\"},{\"attributes\":{},\"id\":\"7759\",\"type\":\"LinearScale\"},{\"attributes\":{},\"id\":\"7773\",\"type\":\"PanTool\"},{\"attributes\":{\"callback\":null},\"id\":\"7755\",\"type\":\"DataRange1d\"},{\"attributes\":{\"formatter\":{\"id\":\"8051\",\"type\":\"BasicTickFormatter\"},\"ticker\":{\"id\":\"7764\",\"type\":\"BasicTicker\"}},\"id\":\"7763\",\"type\":\"LinearAxis\"},{\"attributes\":{},\"id\":\"8053\",\"type\":\"BasicTickFormatter\"},{\"attributes\":{},\"id\":\"8056\",\"type\":\"Selection\"},{\"attributes\":{},\"id\":\"7774\",\"type\":\"WheelZoomTool\"},{\"attributes\":{\"bottom_units\":\"screen\",\"fill_alpha\":{\"value\":0.5},\"fill_color\":{\"value\":\"lightgrey\"},\"left_units\":\"screen\",\"level\":\"overlay\",\"line_alpha\":{\"value\":1.0},\"line_color\":{\"value\":\"black\"},\"line_dash\":[4,4],\"line_width\":{\"value\":2},\"render_mode\":\"css\",\"right_units\":\"screen\",\"top_units\":\"screen\"},\"id\":\"8055\",\"type\":\"BoxAnnotation\"},{\"attributes\":{\"overlay\":{\"id\":\"8055\",\"type\":\"BoxAnnotation\"}},\"id\":\"7775\",\"type\":\"BoxZoomTool\"},{\"attributes\":{},\"id\":\"8051\",\"type\":\"BasicTickFormatter\"},{\"attributes\":{},\"id\":\"7776\",\"type\":\"SaveTool\"},{\"attributes\":{\"callback\":null},\"id\":\"7757\",\"type\":\"DataRange1d\"},{\"attributes\":{},\"id\":\"7764\",\"type\":\"BasicTicker\"}],\"root_ids\":[\"7754\"]},\"title\":\"Bokeh Application\",\"version\":\"1.3.4\"}};\n",
       "  var render_items = [{\"docid\":\"eb8afd8e-a267-4305-8773-09484dd7d820\",\"roots\":{\"7754\":\"dc480032-4e80-4355-ae1e-eb82646b38c2\"}}];\n",
       "  root.Bokeh.embed.embed_items_notebook(docs_json, render_items);\n",
       "\n",
       "  }\n",
       "  if (root.Bokeh !== undefined) {\n",
       "    embed_document(root);\n",
       "  } else {\n",
       "    var attempts = 0;\n",
       "    var timer = setInterval(function(root) {\n",
       "      if (root.Bokeh !== undefined) {\n",
       "        embed_document(root);\n",
       "        clearInterval(timer);\n",
       "      }\n",
       "      attempts++;\n",
       "      if (attempts > 100) {\n",
       "        console.log(\"Bokeh: ERROR: Unable to run BokehJS code because BokehJS library is missing\");\n",
       "        clearInterval(timer);\n",
       "      }\n",
       "    }, 10, root)\n",
       "  }\n",
       "})(window);"
      ],
      "application/vnd.bokehjs_exec.v0+json": ""
     },
     "metadata": {
      "application/vnd.bokehjs_exec.v0+json": {
       "id": "7754"
      }
     },
     "output_type": "display_data"
    }
   ],
   "source": [
    "p = figure(plot_width=400, plot_height=400)\n",
    "\n",
    "# keep a reference to the returned GlyphRenderer\n",
    "r = p.circle([1,2,3,4,5], [2,5,8,2,7])\n",
    "\n",
    "r.glyph.size = 60\n",
    "r.glyph.fill_alpha = 0.5\n",
    "r.glyph.line_color = \"firebrick\"\n",
    "r.glyph.line_dash = [10, 10]\n",
    "r.glyph.line_width = 2\n",
    "\n",
    "show(p)"
   ]
  },
  {
   "cell_type": "markdown",
   "metadata": {},
   "source": [
    "### Selection and non-selection visuals\n",
    "\n",
    "You can also control how glyphs look when there are selections involved. The set of \"selected\" points is displayed according to the optional `.selection_glyph` property of a `GlyphRenderer`:\n",
    "```python\n",
    "r.selection_glyph = Circle(fill_alpha=1, fill_color=\"firebrick\", line_color=None) \n",
    "```\n",
    "When there is a non-empty selection, the set of \"unselected: points is displayed according to the optional  `.nonselection_glyph` property of a `GlyphRenderer`:\n",
    "```python\n",
    "r.nonselection_glyph = Circle(fill_alpha=0.2, fill_color=\"grey\", line_color=None) \n",
    "```\n",
    "\n",
    "When using the `bokeh.plotting` interface, it is easier to pass these visual properties to the glyph methods as shown below. The glyph method will create the selection or nonselection glyphs and attach them to the renderer for you. "
   ]
  },
  {
   "cell_type": "code",
   "execution_count": 37,
   "metadata": {},
   "outputs": [
    {
     "data": {
      "text/html": [
       "\n",
       "\n",
       "\n",
       "\n",
       "\n",
       "\n",
       "  <div class=\"bk-root\" id=\"58f65bae-ce90-486d-8ee2-e38d1315a467\" data-root-id=\"8112\"></div>\n"
      ]
     },
     "metadata": {},
     "output_type": "display_data"
    },
    {
     "data": {
      "application/javascript": [
       "(function(root) {\n",
       "  function embed_document(root) {\n",
       "    \n",
       "  var docs_json = {\"fdf0ecc1-9091-4532-b615-7883d0ac299c\":{\"roots\":{\"references\":[{\"attributes\":{\"below\":[{\"id\":\"8123\",\"type\":\"LinearAxis\"}],\"center\":[{\"id\":\"8127\",\"type\":\"Grid\"},{\"id\":\"8132\",\"type\":\"Grid\"}],\"left\":[{\"id\":\"8128\",\"type\":\"LinearAxis\"}],\"plot_height\":400,\"plot_width\":400,\"renderers\":[{\"id\":\"8140\",\"type\":\"GlyphRenderer\"}],\"title\":{\"id\":\"8113\",\"type\":\"Title\"},\"toolbar\":{\"id\":\"8134\",\"type\":\"Toolbar\"},\"x_range\":{\"id\":\"8115\",\"type\":\"DataRange1d\"},\"x_scale\":{\"id\":\"8119\",\"type\":\"LinearScale\"},\"y_range\":{\"id\":\"8117\",\"type\":\"DataRange1d\"},\"y_scale\":{\"id\":\"8121\",\"type\":\"LinearScale\"}},\"id\":\"8112\",\"subtype\":\"Figure\",\"type\":\"Plot\"},{\"attributes\":{\"callback\":null},\"id\":\"8115\",\"type\":\"DataRange1d\"},{\"attributes\":{\"data_source\":{\"id\":\"8136\",\"type\":\"ColumnDataSource\"},\"glyph\":{\"id\":\"8137\",\"type\":\"Circle\"},\"hover_glyph\":null,\"muted_glyph\":null,\"nonselection_glyph\":{\"id\":\"8138\",\"type\":\"Circle\"},\"selection_glyph\":{\"id\":\"8139\",\"type\":\"Circle\"},\"view\":{\"id\":\"8141\",\"type\":\"CDSView\"}},\"id\":\"8140\",\"type\":\"GlyphRenderer\"},{\"attributes\":{\"fill_color\":{\"value\":\"firebrick\"},\"line_color\":{\"value\":\"firebrick\"},\"size\":{\"units\":\"screen\",\"value\":50},\"x\":{\"field\":\"x\"},\"y\":{\"field\":\"y\"}},\"id\":\"8139\",\"type\":\"Circle\"},{\"attributes\":{},\"id\":\"8119\",\"type\":\"LinearScale\"},{\"attributes\":{\"source\":{\"id\":\"8136\",\"type\":\"ColumnDataSource\"}},\"id\":\"8141\",\"type\":\"CDSView\"},{\"attributes\":{\"fill_color\":{\"value\":\"#1f77b4\"},\"line_color\":{\"value\":\"#1f77b4\"},\"size\":{\"units\":\"screen\",\"value\":50},\"x\":{\"field\":\"x\"},\"y\":{\"field\":\"y\"}},\"id\":\"8137\",\"type\":\"Circle\"},{\"attributes\":{\"ticker\":{\"id\":\"8124\",\"type\":\"BasicTicker\"}},\"id\":\"8127\",\"type\":\"Grid\"},{\"attributes\":{\"text\":\"Select a circle\"},\"id\":\"8113\",\"type\":\"Title\"},{\"attributes\":{\"formatter\":{\"id\":\"8412\",\"type\":\"BasicTickFormatter\"},\"ticker\":{\"id\":\"8129\",\"type\":\"BasicTicker\"}},\"id\":\"8128\",\"type\":\"LinearAxis\"},{\"attributes\":{},\"id\":\"8124\",\"type\":\"BasicTicker\"},{\"attributes\":{},\"id\":\"8412\",\"type\":\"BasicTickFormatter\"},{\"attributes\":{\"dimension\":1,\"ticker\":{\"id\":\"8129\",\"type\":\"BasicTicker\"}},\"id\":\"8132\",\"type\":\"Grid\"},{\"attributes\":{},\"id\":\"8129\",\"type\":\"BasicTicker\"},{\"attributes\":{\"formatter\":{\"id\":\"8410\",\"type\":\"BasicTickFormatter\"},\"ticker\":{\"id\":\"8124\",\"type\":\"BasicTicker\"}},\"id\":\"8123\",\"type\":\"LinearAxis\"},{\"attributes\":{},\"id\":\"8414\",\"type\":\"Selection\"},{\"attributes\":{},\"id\":\"8415\",\"type\":\"UnionRenderers\"},{\"attributes\":{\"active_drag\":\"auto\",\"active_inspect\":\"auto\",\"active_multi\":null,\"active_scroll\":\"auto\",\"active_tap\":\"auto\",\"tools\":[{\"id\":\"8133\",\"type\":\"TapTool\"}]},\"id\":\"8134\",\"type\":\"Toolbar\"},{\"attributes\":{\"callback\":null},\"id\":\"8117\",\"type\":\"DataRange1d\"},{\"attributes\":{\"callback\":null},\"id\":\"8133\",\"type\":\"TapTool\"},{\"attributes\":{},\"id\":\"8410\",\"type\":\"BasicTickFormatter\"},{\"attributes\":{\"fill_alpha\":{\"value\":0.2},\"fill_color\":{\"value\":\"grey\"},\"line_color\":{\"value\":\"firebrick\"},\"size\":{\"units\":\"screen\",\"value\":50},\"x\":{\"field\":\"x\"},\"y\":{\"field\":\"y\"}},\"id\":\"8138\",\"type\":\"Circle\"},{\"attributes\":{\"callback\":null,\"data\":{\"x\":[1,2,3,4,5],\"y\":[2,5,8,2,7]},\"selected\":{\"id\":\"8414\",\"type\":\"Selection\"},\"selection_policy\":{\"id\":\"8415\",\"type\":\"UnionRenderers\"}},\"id\":\"8136\",\"type\":\"ColumnDataSource\"},{\"attributes\":{},\"id\":\"8121\",\"type\":\"LinearScale\"}],\"root_ids\":[\"8112\"]},\"title\":\"Bokeh Application\",\"version\":\"1.3.4\"}};\n",
       "  var render_items = [{\"docid\":\"fdf0ecc1-9091-4532-b615-7883d0ac299c\",\"roots\":{\"8112\":\"58f65bae-ce90-486d-8ee2-e38d1315a467\"}}];\n",
       "  root.Bokeh.embed.embed_items_notebook(docs_json, render_items);\n",
       "\n",
       "  }\n",
       "  if (root.Bokeh !== undefined) {\n",
       "    embed_document(root);\n",
       "  } else {\n",
       "    var attempts = 0;\n",
       "    var timer = setInterval(function(root) {\n",
       "      if (root.Bokeh !== undefined) {\n",
       "        embed_document(root);\n",
       "        clearInterval(timer);\n",
       "      }\n",
       "      attempts++;\n",
       "      if (attempts > 100) {\n",
       "        console.log(\"Bokeh: ERROR: Unable to run BokehJS code because BokehJS library is missing\");\n",
       "        clearInterval(timer);\n",
       "      }\n",
       "    }, 10, root)\n",
       "  }\n",
       "})(window);"
      ],
      "application/vnd.bokehjs_exec.v0+json": ""
     },
     "metadata": {
      "application/vnd.bokehjs_exec.v0+json": {
       "id": "8112"
      }
     },
     "output_type": "display_data"
    }
   ],
   "source": [
    "p = figure(plot_width=400, plot_height=400, tools=\"tap\", title=\"Select a circle\")\n",
    "renderer = p.circle([1, 2, 3, 4, 5], [2, 5, 8, 2, 7], size=50,\n",
    "\n",
    "                    # set visual properties for selected glyphs\n",
    "                    selection_color=\"firebrick\",\n",
    "\n",
    "                    # set visual properties for non-selected glyphs\n",
    "                    nonselection_fill_alpha=0.2,\n",
    "                    nonselection_fill_color=\"grey\",\n",
    "                    nonselection_line_color=\"firebrick\",\n",
    "                    nonselection_line_alpha=1.0)\n",
    "\n",
    "show(p)"
   ]
  },
  {
   "cell_type": "markdown",
   "metadata": {},
   "source": [
    "It is also possible to specify the visual appearance of glyphs when they are \"inspected\", e.g. by a hover tool. This is accomplished by setting an optional `hover_glyph` on the glyph renderer:\n",
    "```python\n",
    "r.hover_glyph = Circle(fill_alpha=1, fill_color=\"firebrick\", line_color=None) \n",
    "```\n",
    "Or if using `bokeh.plotting` glyph methods, by passing `hover_fill_alpha`, etc. to the glyph method. Lets look at an example that works together with a `HoverTool` configured for \"hline\" hit-testing."
   ]
  },
  {
   "cell_type": "code",
   "execution_count": 38,
   "metadata": {},
   "outputs": [
    {
     "data": {
      "text/html": [
       "\n",
       "\n",
       "\n",
       "\n",
       "\n",
       "\n",
       "  <div class=\"bk-root\" id=\"eb3ddd8b-6f7c-41c2-b61a-9e19902f98f6\" data-root-id=\"8458\"></div>\n"
      ]
     },
     "metadata": {},
     "output_type": "display_data"
    },
    {
     "data": {
      "application/javascript": [
       "(function(root) {\n",
       "  function embed_document(root) {\n",
       "    \n",
       "  var docs_json = {\"4b5feaa7-b435-4fc5-9ffe-cd3c2e977d15\":{\"roots\":{\"references\":[{\"attributes\":{\"below\":[{\"id\":\"8469\",\"type\":\"DatetimeAxis\"}],\"center\":[{\"id\":\"8473\",\"type\":\"Grid\"},{\"id\":\"8478\",\"type\":\"Grid\"}],\"left\":[{\"id\":\"8474\",\"type\":\"LinearAxis\"}],\"plot_height\":300,\"renderers\":[{\"id\":\"8495\",\"type\":\"GlyphRenderer\"},{\"id\":\"8501\",\"type\":\"GlyphRenderer\"}],\"title\":{\"id\":\"8459\",\"type\":\"Title\"},\"toolbar\":{\"id\":\"8485\",\"type\":\"Toolbar\"},\"x_range\":{\"id\":\"8461\",\"type\":\"DataRange1d\"},\"x_scale\":{\"id\":\"8465\",\"type\":\"LinearScale\"},\"y_range\":{\"id\":\"8463\",\"type\":\"DataRange1d\"},\"y_scale\":{\"id\":\"8467\",\"type\":\"LinearScale\"}},\"id\":\"8458\",\"subtype\":\"Figure\",\"type\":\"Plot\"},{\"attributes\":{\"ticker\":{\"id\":\"8470\",\"type\":\"DatetimeTicker\"}},\"id\":\"8473\",\"type\":\"Grid\"},{\"attributes\":{},\"id\":\"8480\",\"type\":\"WheelZoomTool\"},{\"attributes\":{\"data_source\":{\"id\":\"8497\",\"type\":\"ColumnDataSource\"},\"glyph\":{\"id\":\"8498\",\"type\":\"Circle\"},\"hover_glyph\":{\"id\":\"8500\",\"type\":\"Circle\"},\"muted_glyph\":null,\"nonselection_glyph\":{\"id\":\"8499\",\"type\":\"Circle\"},\"selection_glyph\":null,\"view\":{\"id\":\"8502\",\"type\":\"CDSView\"}},\"id\":\"8501\",\"type\":\"GlyphRenderer\"},{\"attributes\":{\"months\":[0,2,4,6,8,10]},\"id\":\"8792\",\"type\":\"MonthsTicker\"},{\"attributes\":{\"overlay\":{\"id\":\"8796\",\"type\":\"BoxAnnotation\"}},\"id\":\"8481\",\"type\":\"BoxZoomTool\"},{\"attributes\":{\"callback\":null},\"id\":\"8461\",\"type\":\"DataRange1d\"},{\"attributes\":{},\"id\":\"8482\",\"type\":\"SaveTool\"},{\"attributes\":{\"months\":[0,4,8]},\"id\":\"8793\",\"type\":\"MonthsTicker\"},{\"attributes\":{},\"id\":\"8467\",\"type\":\"LinearScale\"},{\"attributes\":{},\"id\":\"8483\",\"type\":\"ResetTool\"},{\"attributes\":{\"source\":{\"id\":\"8497\",\"type\":\"ColumnDataSource\"}},\"id\":\"8502\",\"type\":\"CDSView\"},{\"attributes\":{\"formatter\":{\"id\":\"8780\",\"type\":\"DatetimeTickFormatter\"},\"ticker\":{\"id\":\"8470\",\"type\":\"DatetimeTicker\"}},\"id\":\"8469\",\"type\":\"DatetimeAxis\"},{\"attributes\":{\"months\":[0,6]},\"id\":\"8794\",\"type\":\"MonthsTicker\"},{\"attributes\":{},\"id\":\"8484\",\"type\":\"HelpTool\"},{\"attributes\":{\"num_minor_ticks\":5,\"tickers\":[{\"id\":\"8784\",\"type\":\"AdaptiveTicker\"},{\"id\":\"8785\",\"type\":\"AdaptiveTicker\"},{\"id\":\"8786\",\"type\":\"AdaptiveTicker\"},{\"id\":\"8787\",\"type\":\"DaysTicker\"},{\"id\":\"8788\",\"type\":\"DaysTicker\"},{\"id\":\"8789\",\"type\":\"DaysTicker\"},{\"id\":\"8790\",\"type\":\"DaysTicker\"},{\"id\":\"8791\",\"type\":\"MonthsTicker\"},{\"id\":\"8792\",\"type\":\"MonthsTicker\"},{\"id\":\"8793\",\"type\":\"MonthsTicker\"},{\"id\":\"8794\",\"type\":\"MonthsTicker\"},{\"id\":\"8795\",\"type\":\"YearsTicker\"}]},\"id\":\"8470\",\"type\":\"DatetimeTicker\"},{\"attributes\":{\"formatter\":{\"id\":\"8782\",\"type\":\"BasicTickFormatter\"},\"ticker\":{\"id\":\"8475\",\"type\":\"BasicTicker\"}},\"id\":\"8474\",\"type\":\"LinearAxis\"},{\"attributes\":{},\"id\":\"8782\",\"type\":\"BasicTickFormatter\"},{\"attributes\":{},\"id\":\"8780\",\"type\":\"DatetimeTickFormatter\"},{\"attributes\":{\"fill_alpha\":{\"value\":0.3},\"fill_color\":{\"value\":\"firebrick\"},\"line_alpha\":{\"value\":0.3},\"line_color\":{\"value\":\"white\"},\"size\":{\"units\":\"screen\",\"value\":20},\"x\":{\"field\":\"x\"},\"y\":{\"field\":\"y\"}},\"id\":\"8500\",\"type\":\"Circle\"},{\"attributes\":{},\"id\":\"8795\",\"type\":\"YearsTicker\"},{\"attributes\":{\"dimension\":1,\"ticker\":{\"id\":\"8475\",\"type\":\"BasicTicker\"}},\"id\":\"8478\",\"type\":\"Grid\"},{\"attributes\":{\"base\":60,\"mantissas\":[1,2,5,10,15,20,30],\"max_interval\":1800000.0,\"min_interval\":1000.0,\"num_minor_ticks\":0},\"id\":\"8785\",\"type\":\"AdaptiveTicker\"},{\"attributes\":{\"text\":\"Hover over points\"},\"id\":\"8459\",\"type\":\"Title\"},{\"attributes\":{\"bottom_units\":\"screen\",\"fill_alpha\":{\"value\":0.5},\"fill_color\":{\"value\":\"lightgrey\"},\"left_units\":\"screen\",\"level\":\"overlay\",\"line_alpha\":{\"value\":1.0},\"line_color\":{\"value\":\"black\"},\"line_dash\":[4,4],\"line_width\":{\"value\":2},\"render_mode\":\"css\",\"right_units\":\"screen\",\"top_units\":\"screen\"},\"id\":\"8796\",\"type\":\"BoxAnnotation\"},{\"attributes\":{\"active_drag\":\"auto\",\"active_inspect\":\"auto\",\"active_multi\":null,\"active_scroll\":\"auto\",\"active_tap\":\"auto\",\"tools\":[{\"id\":\"8479\",\"type\":\"PanTool\"},{\"id\":\"8480\",\"type\":\"WheelZoomTool\"},{\"id\":\"8481\",\"type\":\"BoxZoomTool\"},{\"id\":\"8482\",\"type\":\"SaveTool\"},{\"id\":\"8483\",\"type\":\"ResetTool\"},{\"id\":\"8484\",\"type\":\"HelpTool\"},{\"id\":\"8503\",\"type\":\"HoverTool\"}]},\"id\":\"8485\",\"type\":\"Toolbar\"},{\"attributes\":{\"days\":[1,15]},\"id\":\"8790\",\"type\":\"DaysTicker\"},{\"attributes\":{},\"id\":\"8797\",\"type\":\"Selection\"},{\"attributes\":{},\"id\":\"8475\",\"type\":\"BasicTicker\"},{\"attributes\":{\"mantissas\":[1,2,5],\"max_interval\":500.0,\"num_minor_ticks\":0},\"id\":\"8784\",\"type\":\"AdaptiveTicker\"},{\"attributes\":{},\"id\":\"8798\",\"type\":\"UnionRenderers\"},{\"attributes\":{\"line_color\":\"gray\",\"line_dash\":[4,4],\"x\":{\"field\":\"x\"},\"y\":{\"field\":\"y\"}},\"id\":\"8493\",\"type\":\"Line\"},{\"attributes\":{\"line_alpha\":0.1,\"line_color\":\"#1f77b4\",\"line_dash\":[4,4],\"x\":{\"field\":\"x\"},\"y\":{\"field\":\"y\"}},\"id\":\"8494\",\"type\":\"Line\"},{\"attributes\":{\"base\":24,\"mantissas\":[1,2,4,6,8,12],\"max_interval\":43200000.0,\"min_interval\":3600000.0,\"num_minor_ticks\":0},\"id\":\"8786\",\"type\":\"AdaptiveTicker\"},{\"attributes\":{},\"id\":\"8799\",\"type\":\"Selection\"},{\"attributes\":{\"data_source\":{\"id\":\"8492\",\"type\":\"ColumnDataSource\"},\"glyph\":{\"id\":\"8493\",\"type\":\"Line\"},\"hover_glyph\":null,\"muted_glyph\":null,\"nonselection_glyph\":{\"id\":\"8494\",\"type\":\"Line\"},\"selection_glyph\":null,\"view\":{\"id\":\"8496\",\"type\":\"CDSView\"}},\"id\":\"8495\",\"type\":\"GlyphRenderer\"},{\"attributes\":{\"days\":[1,2,3,4,5,6,7,8,9,10,11,12,13,14,15,16,17,18,19,20,21,22,23,24,25,26,27,28,29,30,31]},\"id\":\"8787\",\"type\":\"DaysTicker\"},{\"attributes\":{},\"id\":\"8800\",\"type\":\"UnionRenderers\"},{\"attributes\":{\"callback\":null,\"data\":{\"x\":{\"__ndarray__\":\"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\",\"dtype\":\"float64\",\"shape\":[288]},\"y\":[143,147,150,152,152,152,154,155,142,140,138,134,131,130,128,127,126,126,126,126,127,129,131,132,134,136,136,136,136,135,134,132,130,130,130,129,128,127,125,124,123,123,122,121,120,118,115,112,111,111,110,110,109,108,107,107,107,108,107,105,105,105,105,104,103,102,99,97,96,94,94,93,93,92,91,92,94,95,96,97,99,102,104,112,112,112,111,110,107,104,105,105,103,99,96,94,95,102,114,128,144,160,173,185,196,205,209,214,219,226,234,241,248,255,260,265,268,270,272,271,271,268,265,261,256,253,250,246,244,241,237,233,229,225,222,204,200,197,193,190,186,182,179,175,171,168,164,158,154,151,148,145,141,133,139,152,173,196,217,233,244,249,250,253,256,260,263,265,265,264,260,254,246,234,217,200,188,181,175,169,164,159,154,147,138,132,129,127,123,117,111,106,104,103,100,94,88,83,78,75,73,71,69,68,67,67,68,70,71,71,70,69,68,67,67,67,66,67,69,71,74,76,78,80,80,80,80,80,80,82,84,87,90,92,87,87,86,86,86,86,87,87,87,85,83,82,83,87,95,107,118,130,141,149,172,179,187,201,214,221,225,230,232,230,223,216,208,199,191,185,181,177,176,177,176,173,171,169,163,154,152,153,154,154,153,151,150,150]},\"selected\":{\"id\":\"8797\",\"type\":\"Selection\"},\"selection_policy\":{\"id\":\"8798\",\"type\":\"UnionRenderers\"}},\"id\":\"8492\",\"type\":\"ColumnDataSource\"},{\"attributes\":{\"days\":[1,4,7,10,13,16,19,22,25,28]},\"id\":\"8788\",\"type\":\"DaysTicker\"},{\"attributes\":{\"source\":{\"id\":\"8492\",\"type\":\"ColumnDataSource\"}},\"id\":\"8496\",\"type\":\"CDSView\"},{\"attributes\":{\"callback\":null,\"data\":{\"x\":{\"__ndarray__\":\"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\",\"dtype\":\"float64\",\"shape\":[288]},\"y\":[143,147,150,152,152,152,154,155,142,140,138,134,131,130,128,127,126,126,126,126,127,129,131,132,134,136,136,136,136,135,134,132,130,130,130,129,128,127,125,124,123,123,122,121,120,118,115,112,111,111,110,110,109,108,107,107,107,108,107,105,105,105,105,104,103,102,99,97,96,94,94,93,93,92,91,92,94,95,96,97,99,102,104,112,112,112,111,110,107,104,105,105,103,99,96,94,95,102,114,128,144,160,173,185,196,205,209,214,219,226,234,241,248,255,260,265,268,270,272,271,271,268,265,261,256,253,250,246,244,241,237,233,229,225,222,204,200,197,193,190,186,182,179,175,171,168,164,158,154,151,148,145,141,133,139,152,173,196,217,233,244,249,250,253,256,260,263,265,265,264,260,254,246,234,217,200,188,181,175,169,164,159,154,147,138,132,129,127,123,117,111,106,104,103,100,94,88,83,78,75,73,71,69,68,67,67,68,70,71,71,70,69,68,67,67,67,66,67,69,71,74,76,78,80,80,80,80,80,80,82,84,87,90,92,87,87,86,86,86,86,87,87,87,85,83,82,83,87,95,107,118,130,141,149,172,179,187,201,214,221,225,230,232,230,223,216,208,199,191,185,181,177,176,177,176,173,171,169,163,154,152,153,154,154,153,151,150,150]},\"selected\":{\"id\":\"8799\",\"type\":\"Selection\"},\"selection_policy\":{\"id\":\"8800\",\"type\":\"UnionRenderers\"}},\"id\":\"8497\",\"type\":\"ColumnDataSource\"},{\"attributes\":{\"fill_alpha\":{\"value\":0.1},\"fill_color\":{\"value\":\"#1f77b4\"},\"line_alpha\":{\"value\":0.1},\"line_color\":{\"value\":\"#1f77b4\"},\"size\":{\"units\":\"screen\",\"value\":20},\"x\":{\"field\":\"x\"},\"y\":{\"field\":\"y\"}},\"id\":\"8499\",\"type\":\"Circle\"},{\"attributes\":{\"fill_alpha\":{\"value\":0.05},\"fill_color\":{\"value\":\"grey\"},\"line_color\":{\"value\":null},\"size\":{\"units\":\"screen\",\"value\":20},\"x\":{\"field\":\"x\"},\"y\":{\"field\":\"y\"}},\"id\":\"8498\",\"type\":\"Circle\"},{\"attributes\":{},\"id\":\"8465\",\"type\":\"LinearScale\"},{\"attributes\":{},\"id\":\"8479\",\"type\":\"PanTool\"},{\"attributes\":{\"callback\":null,\"mode\":\"hline\",\"renderers\":[{\"id\":\"8501\",\"type\":\"GlyphRenderer\"}],\"tooltips\":null},\"id\":\"8503\",\"type\":\"HoverTool\"},{\"attributes\":{\"days\":[1,8,15,22]},\"id\":\"8789\",\"type\":\"DaysTicker\"},{\"attributes\":{\"callback\":null},\"id\":\"8463\",\"type\":\"DataRange1d\"},{\"attributes\":{\"months\":[0,1,2,3,4,5,6,7,8,9,10,11]},\"id\":\"8791\",\"type\":\"MonthsTicker\"}],\"root_ids\":[\"8458\"]},\"title\":\"Bokeh Application\",\"version\":\"1.3.4\"}};\n",
       "  var render_items = [{\"docid\":\"4b5feaa7-b435-4fc5-9ffe-cd3c2e977d15\",\"roots\":{\"8458\":\"eb3ddd8b-6f7c-41c2-b61a-9e19902f98f6\"}}];\n",
       "  root.Bokeh.embed.embed_items_notebook(docs_json, render_items);\n",
       "\n",
       "  }\n",
       "  if (root.Bokeh !== undefined) {\n",
       "    embed_document(root);\n",
       "  } else {\n",
       "    var attempts = 0;\n",
       "    var timer = setInterval(function(root) {\n",
       "      if (root.Bokeh !== undefined) {\n",
       "        embed_document(root);\n",
       "        clearInterval(timer);\n",
       "      }\n",
       "      attempts++;\n",
       "      if (attempts > 100) {\n",
       "        console.log(\"Bokeh: ERROR: Unable to run BokehJS code because BokehJS library is missing\");\n",
       "        clearInterval(timer);\n",
       "      }\n",
       "    }, 10, root)\n",
       "  }\n",
       "})(window);"
      ],
      "application/vnd.bokehjs_exec.v0+json": ""
     },
     "metadata": {
      "application/vnd.bokehjs_exec.v0+json": {
       "id": "8458"
      }
     },
     "output_type": "display_data"
    }
   ],
   "source": [
    "from bokeh.models.tools import HoverTool\n",
    "from bokeh.sampledata.glucose import data\n",
    "\n",
    "subset = data.loc['2010-10-06']\n",
    "\n",
    "x, y = subset.index.to_series(), subset['glucose']\n",
    "\n",
    "# Basic plot setup\n",
    "p = figure(width=600, height=300, x_axis_type=\"datetime\", title='Hover over points')\n",
    "\n",
    "p.line(x, y, line_dash=\"4 4\", line_width=1, color='gray')\n",
    "\n",
    "cr = p.circle(x, y, size=20,\n",
    "              fill_color=\"grey\", hover_fill_color=\"firebrick\",\n",
    "              fill_alpha=0.05, hover_alpha=0.3,\n",
    "              line_color=None, hover_line_color=\"white\")\n",
    "\n",
    "p.add_tools(HoverTool(tooltips=None, renderers=[cr], mode='hline'))\n",
    "\n",
    "show(p)"
   ]
  },
  {
   "cell_type": "code",
   "execution_count": 64,
   "metadata": {},
   "outputs": [
    {
     "data": {
      "text/html": [
       "\n",
       "\n",
       "\n",
       "\n",
       "\n",
       "\n",
       "  <div class=\"bk-root\" id=\"b1ef665c-3dd0-46d1-8cf1-8b0c3e9ef386\" data-root-id=\"22321\"></div>\n"
      ]
     },
     "metadata": {},
     "output_type": "display_data"
    },
    {
     "data": {
      "application/javascript": [
       "(function(root) {\n",
       "  function embed_document(root) {\n",
       "    \n",
       "  var docs_json = {\"37e5eb8c-4ae2-44c7-ab05-c9174ef217f9\":{\"roots\":{\"references\":[{\"attributes\":{\"below\":[{\"id\":\"22332\",\"type\":\"DatetimeAxis\"}],\"center\":[{\"id\":\"22336\",\"type\":\"Grid\"},{\"id\":\"22341\",\"type\":\"Grid\"}],\"left\":[{\"id\":\"22337\",\"type\":\"LinearAxis\"}],\"plot_height\":300,\"renderers\":[{\"id\":\"22358\",\"type\":\"GlyphRenderer\"},{\"id\":\"22364\",\"type\":\"GlyphRenderer\"}],\"title\":{\"id\":\"22322\",\"type\":\"Title\"},\"toolbar\":{\"id\":\"22348\",\"type\":\"Toolbar\"},\"x_range\":{\"id\":\"22324\",\"type\":\"DataRange1d\"},\"x_scale\":{\"id\":\"22328\",\"type\":\"LinearScale\"},\"y_range\":{\"id\":\"22326\",\"type\":\"DataRange1d\"},\"y_scale\":{\"id\":\"22330\",\"type\":\"LinearScale\"}},\"id\":\"22321\",\"subtype\":\"Figure\",\"type\":\"Plot\"},{\"attributes\":{},\"id\":\"22346\",\"type\":\"ResetTool\"},{\"attributes\":{\"formatter\":{\"id\":\"23082\",\"type\":\"DatetimeTickFormatter\"},\"ticker\":{\"id\":\"22333\",\"type\":\"DatetimeTicker\"}},\"id\":\"22332\",\"type\":\"DatetimeAxis\"},{\"attributes\":{\"text\":\"Hover over points\"},\"id\":\"22322\",\"type\":\"Title\"},{\"attributes\":{\"active_drag\":\"auto\",\"active_inspect\":\"auto\",\"active_multi\":null,\"active_scroll\":\"auto\",\"active_tap\":\"auto\",\"tools\":[{\"id\":\"22342\",\"type\":\"PanTool\"},{\"id\":\"22343\",\"type\":\"WheelZoomTool\"},{\"id\":\"22344\",\"type\":\"BoxZoomTool\"},{\"id\":\"22345\",\"type\":\"SaveTool\"},{\"id\":\"22346\",\"type\":\"ResetTool\"},{\"id\":\"22347\",\"type\":\"HelpTool\"},{\"id\":\"22366\",\"type\":\"HoverTool\"}]},\"id\":\"22348\",\"type\":\"Toolbar\"},{\"attributes\":{\"days\":[1,15]},\"id\":\"23092\",\"type\":\"DaysTicker\"},{\"attributes\":{\"callback\":null},\"id\":\"22324\",\"type\":\"DataRange1d\"},{\"attributes\":{},\"id\":\"22330\",\"type\":\"LinearScale\"},{\"attributes\":{\"months\":[0,2,4,6,8,10]},\"id\":\"23094\",\"type\":\"MonthsTicker\"},{\"attributes\":{},\"id\":\"23097\",\"type\":\"YearsTicker\"},{\"attributes\":{\"fill_alpha\":{\"value\":0.1},\"fill_color\":{\"value\":\"#1f77b4\"},\"line_alpha\":{\"value\":0.1},\"line_color\":{\"value\":\"#1f77b4\"},\"size\":{\"units\":\"screen\",\"value\":20},\"x\":{\"field\":\"x\"},\"y\":{\"field\":\"y\"}},\"id\":\"22362\",\"type\":\"Circle\"},{\"attributes\":{},\"id\":\"23100\",\"type\":\"UnionRenderers\"},{\"attributes\":{},\"id\":\"22343\",\"type\":\"WheelZoomTool\"},{\"attributes\":{},\"id\":\"22342\",\"type\":\"PanTool\"},{\"attributes\":{\"fill_color\":{\"value\":null},\"line_color\":{\"value\":null},\"size\":{\"units\":\"screen\",\"value\":20},\"x\":{\"field\":\"x\"},\"y\":{\"field\":\"y\"}},\"id\":\"22361\",\"type\":\"Circle\"},{\"attributes\":{\"source\":{\"id\":\"22360\",\"type\":\"ColumnDataSource\"}},\"id\":\"22365\",\"type\":\"CDSView\"},{\"attributes\":{},\"id\":\"23084\",\"type\":\"BasicTickFormatter\"},{\"attributes\":{},\"id\":\"23102\",\"type\":\"UnionRenderers\"},{\"attributes\":{\"ticker\":{\"id\":\"22333\",\"type\":\"DatetimeTicker\"}},\"id\":\"22336\",\"type\":\"Grid\"},{\"attributes\":{},\"id\":\"23082\",\"type\":\"DatetimeTickFormatter\"},{\"attributes\":{\"dimension\":1,\"ticker\":{\"id\":\"22338\",\"type\":\"BasicTicker\"}},\"id\":\"22341\",\"type\":\"Grid\"},{\"attributes\":{\"formatter\":{\"id\":\"23084\",\"type\":\"BasicTickFormatter\"},\"ticker\":{\"id\":\"22338\",\"type\":\"BasicTicker\"}},\"id\":\"22337\",\"type\":\"LinearAxis\"},{\"attributes\":{\"callback\":null,\"data\":{\"x\":{\"__ndarray__\":\"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\",\"dtype\":\"float64\",\"shape\":[285]},\"y\":[177,175,173,171,170,169,169,168,167,166,166,166,163,161,159,158,157,156,154,152,150,149,149,150,150,151,151,152,153,153,153,154,154,154,154,153,152,152,150,149,148,146,145,144,144,143,142,142,141,140,139,137,137,138,136,137,137,136,137,136,134,133,132,132,132,132,132,134,136,138,141,142,142,143,145,150,154,156,158,160,162,164,167,169,172,175,176,175,174,172,170,171,173,178,185,191,198,210,223,235,244,254,265,273,283,290,296,302,307,309,313,316,318,320,322,320,319,317,313,311,306,300,297,294,293,290,287,286,285,282,279,274,271,270,270,269,274,271,267,264,262,259,255,250,244,237,232,227,223,220,215,210,205,199,195,193,197,206,221,239,258,276,291,302,311,318,323,324,322,320,319,320,319,317,314,311,307,302,294,286,280,276,272,267,259,251,245,241,241,241,242,244,245,245,242,237,232,228,225,216,215,216,217,217,215,211,206,202,200,201,203,201,196,188,176,163,149,138,129,119,108,98,89,79,71,66,66,67,67,68,69,71,74,77,79,81,85,91,99,109,119,132,145,157,168,175,179,183,185,188,188,187,184,179,172,163,159,157,155,153,151,149,148,148,148,147,146,145,145,144,143,143,143,144,145,146,145,144,143,142,140,140,140,140,140]},\"selected\":{\"id\":\"23101\",\"type\":\"Selection\"},\"selection_policy\":{\"id\":\"23102\",\"type\":\"UnionRenderers\"}},\"id\":\"22360\",\"type\":\"ColumnDataSource\"},{\"attributes\":{},\"id\":\"23099\",\"type\":\"Selection\"},{\"attributes\":{\"num_minor_ticks\":5,\"tickers\":[{\"id\":\"23086\",\"type\":\"AdaptiveTicker\"},{\"id\":\"23087\",\"type\":\"AdaptiveTicker\"},{\"id\":\"23088\",\"type\":\"AdaptiveTicker\"},{\"id\":\"23089\",\"type\":\"DaysTicker\"},{\"id\":\"23090\",\"type\":\"DaysTicker\"},{\"id\":\"23091\",\"type\":\"DaysTicker\"},{\"id\":\"23092\",\"type\":\"DaysTicker\"},{\"id\":\"23093\",\"type\":\"MonthsTicker\"},{\"id\":\"23094\",\"type\":\"MonthsTicker\"},{\"id\":\"23095\",\"type\":\"MonthsTicker\"},{\"id\":\"23096\",\"type\":\"MonthsTicker\"},{\"id\":\"23097\",\"type\":\"YearsTicker\"}]},\"id\":\"22333\",\"type\":\"DatetimeTicker\"},{\"attributes\":{\"days\":[1,2,3,4,5,6,7,8,9,10,11,12,13,14,15,16,17,18,19,20,21,22,23,24,25,26,27,28,29,30,31]},\"id\":\"23089\",\"type\":\"DaysTicker\"},{\"attributes\":{},\"id\":\"22328\",\"type\":\"LinearScale\"},{\"attributes\":{\"fill_alpha\":{\"value\":0.3},\"fill_color\":{\"value\":\"firebrick\"},\"line_alpha\":{\"value\":0.3},\"line_color\":{\"value\":null},\"size\":{\"units\":\"screen\",\"value\":20},\"x\":{\"field\":\"x\"},\"y\":{\"field\":\"y\"}},\"id\":\"22363\",\"type\":\"Circle\"},{\"attributes\":{\"days\":[1,8,15,22]},\"id\":\"23091\",\"type\":\"DaysTicker\"},{\"attributes\":{\"days\":[1,4,7,10,13,16,19,22,25,28]},\"id\":\"23090\",\"type\":\"DaysTicker\"},{\"attributes\":{\"data_source\":{\"id\":\"22360\",\"type\":\"ColumnDataSource\"},\"glyph\":{\"id\":\"22361\",\"type\":\"Circle\"},\"hover_glyph\":{\"id\":\"22363\",\"type\":\"Circle\"},\"muted_glyph\":null,\"nonselection_glyph\":{\"id\":\"22362\",\"type\":\"Circle\"},\"selection_glyph\":null,\"view\":{\"id\":\"22365\",\"type\":\"CDSView\"}},\"id\":\"22364\",\"type\":\"GlyphRenderer\"},{\"attributes\":{\"months\":[0,1,2,3,4,5,6,7,8,9,10,11]},\"id\":\"23093\",\"type\":\"MonthsTicker\"},{\"attributes\":{\"bottom_units\":\"screen\",\"fill_alpha\":{\"value\":0.5},\"fill_color\":{\"value\":\"lightgrey\"},\"left_units\":\"screen\",\"level\":\"overlay\",\"line_alpha\":{\"value\":1.0},\"line_color\":{\"value\":\"black\"},\"line_dash\":[4,4],\"line_width\":{\"value\":2},\"render_mode\":\"css\",\"right_units\":\"screen\",\"top_units\":\"screen\"},\"id\":\"23098\",\"type\":\"BoxAnnotation\"},{\"attributes\":{},\"id\":\"22338\",\"type\":\"BasicTicker\"},{\"attributes\":{},\"id\":\"22347\",\"type\":\"HelpTool\"},{\"attributes\":{\"source\":{\"id\":\"22355\",\"type\":\"ColumnDataSource\"}},\"id\":\"22359\",\"type\":\"CDSView\"},{\"attributes\":{\"base\":24,\"mantissas\":[1,2,4,6,8,12],\"max_interval\":43200000.0,\"min_interval\":3600000.0,\"num_minor_ticks\":0},\"id\":\"23088\",\"type\":\"AdaptiveTicker\"},{\"attributes\":{\"line_alpha\":0.1,\"line_color\":\"#1f77b4\",\"x\":{\"field\":\"x\"},\"y\":{\"field\":\"y\"}},\"id\":\"22357\",\"type\":\"Line\"},{\"attributes\":{\"base\":60,\"mantissas\":[1,2,5,10,15,20,30],\"max_interval\":1800000.0,\"min_interval\":1000.0,\"num_minor_ticks\":0},\"id\":\"23087\",\"type\":\"AdaptiveTicker\"},{\"attributes\":{\"callback\":null,\"data\":{\"x\":{\"__ndarray__\":\"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\",\"dtype\":\"float64\",\"shape\":[285]},\"y\":[177,175,173,171,170,169,169,168,167,166,166,166,163,161,159,158,157,156,154,152,150,149,149,150,150,151,151,152,153,153,153,154,154,154,154,153,152,152,150,149,148,146,145,144,144,143,142,142,141,140,139,137,137,138,136,137,137,136,137,136,134,133,132,132,132,132,132,134,136,138,141,142,142,143,145,150,154,156,158,160,162,164,167,169,172,175,176,175,174,172,170,171,173,178,185,191,198,210,223,235,244,254,265,273,283,290,296,302,307,309,313,316,318,320,322,320,319,317,313,311,306,300,297,294,293,290,287,286,285,282,279,274,271,270,270,269,274,271,267,264,262,259,255,250,244,237,232,227,223,220,215,210,205,199,195,193,197,206,221,239,258,276,291,302,311,318,323,324,322,320,319,320,319,317,314,311,307,302,294,286,280,276,272,267,259,251,245,241,241,241,242,244,245,245,242,237,232,228,225,216,215,216,217,217,215,211,206,202,200,201,203,201,196,188,176,163,149,138,129,119,108,98,89,79,71,66,66,67,67,68,69,71,74,77,79,81,85,91,99,109,119,132,145,157,168,175,179,183,185,188,188,187,184,179,172,163,159,157,155,153,151,149,148,148,148,147,146,145,145,144,143,143,143,144,145,146,145,144,143,142,140,140,140,140,140]},\"selected\":{\"id\":\"23099\",\"type\":\"Selection\"},\"selection_policy\":{\"id\":\"23100\",\"type\":\"UnionRenderers\"}},\"id\":\"22355\",\"type\":\"ColumnDataSource\"},{\"attributes\":{\"line_color\":\"gray\",\"x\":{\"field\":\"x\"},\"y\":{\"field\":\"y\"}},\"id\":\"22356\",\"type\":\"Line\"},{\"attributes\":{},\"id\":\"23101\",\"type\":\"Selection\"},{\"attributes\":{},\"id\":\"22345\",\"type\":\"SaveTool\"},{\"attributes\":{\"callback\":null},\"id\":\"22326\",\"type\":\"DataRange1d\"},{\"attributes\":{\"callback\":null,\"mode\":\"hline\",\"renderers\":[{\"id\":\"22364\",\"type\":\"GlyphRenderer\"}],\"tooltips\":null},\"id\":\"22366\",\"type\":\"HoverTool\"},{\"attributes\":{\"mantissas\":[1,2,5],\"max_interval\":500.0,\"num_minor_ticks\":0},\"id\":\"23086\",\"type\":\"AdaptiveTicker\"},{\"attributes\":{\"data_source\":{\"id\":\"22355\",\"type\":\"ColumnDataSource\"},\"glyph\":{\"id\":\"22356\",\"type\":\"Line\"},\"hover_glyph\":null,\"muted_glyph\":null,\"nonselection_glyph\":{\"id\":\"22357\",\"type\":\"Line\"},\"selection_glyph\":null,\"view\":{\"id\":\"22359\",\"type\":\"CDSView\"}},\"id\":\"22358\",\"type\":\"GlyphRenderer\"},{\"attributes\":{\"overlay\":{\"id\":\"23098\",\"type\":\"BoxAnnotation\"}},\"id\":\"22344\",\"type\":\"BoxZoomTool\"},{\"attributes\":{\"months\":[0,4,8]},\"id\":\"23095\",\"type\":\"MonthsTicker\"},{\"attributes\":{\"months\":[0,6]},\"id\":\"23096\",\"type\":\"MonthsTicker\"}],\"root_ids\":[\"22321\"]},\"title\":\"Bokeh Application\",\"version\":\"1.3.4\"}};\n",
       "  var render_items = [{\"docid\":\"37e5eb8c-4ae2-44c7-ab05-c9174ef217f9\",\"roots\":{\"22321\":\"b1ef665c-3dd0-46d1-8cf1-8b0c3e9ef386\"}}];\n",
       "  root.Bokeh.embed.embed_items_notebook(docs_json, render_items);\n",
       "\n",
       "  }\n",
       "  if (root.Bokeh !== undefined) {\n",
       "    embed_document(root);\n",
       "  } else {\n",
       "    var attempts = 0;\n",
       "    var timer = setInterval(function(root) {\n",
       "      if (root.Bokeh !== undefined) {\n",
       "        embed_document(root);\n",
       "        clearInterval(timer);\n",
       "      }\n",
       "      attempts++;\n",
       "      if (attempts > 100) {\n",
       "        console.log(\"Bokeh: ERROR: Unable to run BokehJS code because BokehJS library is missing\");\n",
       "        clearInterval(timer);\n",
       "      }\n",
       "    }, 10, root)\n",
       "  }\n",
       "})(window);"
      ],
      "application/vnd.bokehjs_exec.v0+json": ""
     },
     "metadata": {
      "application/vnd.bokehjs_exec.v0+json": {
       "id": "22321"
      }
     },
     "output_type": "display_data"
    }
   ],
   "source": [
    "# EXERCISE: experiment with standard, selected, hover glyph visual properties\n",
    "from bokeh.models.tools import HoverTool\n",
    "from bokeh.sampledata.glucose import data\n",
    "\n",
    "subset = data.loc['2010-10-05']\n",
    "\n",
    "x, y = subset.index.to_series(), subset['glucose']\n",
    "\n",
    "# Basic plot setup\n",
    "p = figure(width=600, height=300, x_axis_type=\"datetime\", title='Hover over points')\n",
    "\n",
    "p.line(x, y, line_width=1, color='gray')\n",
    "\n",
    "cr = p.circle(x, y, size=20,\n",
    "              fill_color=None,\n",
    "#               nonselection_fill_cover='grey',\n",
    "              hover_fill_color=\"firebrick\",\n",
    "              hover_alpha=0.3,\n",
    "              line_color=None, hover_line_color=None)\n",
    "\n",
    "p.add_tools(HoverTool(tooltips=None, renderers=[cr], mode='hline'))\n",
    "\n",
    "show(p)"
   ]
  },
  {
   "cell_type": "markdown",
   "metadata": {},
   "source": [
    "# Axes\n",
    "\n",
    "Next we will take a look at [stlying of Axes](http://bokeh.pydata.org/en/latest/docs/user_guide/styling.html#axes).\n",
    "\n",
    "To style axes, you first must get ahold of `Axis` objects. The simplest way is to use some convenience methods on `Plot`: [axis](http://bokeh.pydata.org/en/latest/docs/reference/plotting.html#bokeh.plotting.Figure.axis), [xaxis](http://bokeh.pydata.org/en/latest/docs/reference/plotting.html#bokeh.plotting.Figure.xaxis), and [yaxis](http://bokeh.pydata.org/en/latest/docs/reference/plotting.html#bokeh.plotting.Figure.yaxis). These methods return lists of axis objects:\n",
    "\n",
    "```\n",
    ">>> p.xaxis\n",
    "[<bokeh.models.axes.LinearAxis at 0x106fa2390>]\n",
    "```\n",
    "However, you can set properties on all the elements of the list as if it was a single object:\n",
    "```\n",
    "p.xaxis.axis_label = \"Temperature\"\n",
    "p.axis.major_label_text_color = \"orange\"\n",
    "```\n",
    "These are referred to as \"splattable\" lists, and tab completion works on them as well. \n"
   ]
  },
  {
   "cell_type": "code",
   "execution_count": 66,
   "metadata": {},
   "outputs": [],
   "source": [
    "# EXERCISE Try out tab completion. Type p.xaxis.<press tab key> to see a list of attributes that can be set.\n",
    "\n",
    "# p.xaxis.axis_line_alpha\n"
   ]
  },
  {
   "cell_type": "markdown",
   "metadata": {},
   "source": [
    "## Axis properties\n",
    "\n",
    "Axes objects have many configurable properties that afford control over most visual aspects of an axis. These can be grouped by function according to prefix:\n",
    "\n",
    "* **axis**  [line properties](http://bokeh.pydata.org/en/latest/docs/user_guide/styling.html#line-properties) e.g `axis_line_width`\n",
    "\n",
    "* **axis_label** [text properties](http://bokeh.pydata.org/en/latest/docs/user_guide/styling.html#text-properties)  e.g. `axis_label_text_color`, as well as ``axis_label_standoff``\n",
    "\n",
    "* **major_label** [text properties](http://bokeh.pydata.org/en/latest/docs/user_guide/styling.html#text-properties) e.g. `major_label_text_font_size`, as well as ``major_label_orientation``\n",
    "\n",
    "* **major_tick** [line_properties](http://bokeh.pydata.org/en/latest/docs/user_guide/styling.html#line-properties) e.g. `major_tick_line_dash`, as well as  ``major_tick_in`` and ``major_tick_out``\n",
    "\n",
    "* **minor_tick** [line properties](http://bokeh.pydata.org/en/latest/docs/user_guide/styling.html#line-properties) e.g. `minor_tick_line_width`, as well as ``minor_tick_in`` and ``minor_tick_out``\n",
    "\n",
    "As a simple first case, let's change the orientation of the major tick labels on both axes of a plot:"
   ]
  },
  {
   "cell_type": "code",
   "execution_count": 74,
   "metadata": {
    "scrolled": true
   },
   "outputs": [
    {
     "data": {
      "text/html": [
       "\n",
       "\n",
       "\n",
       "\n",
       "\n",
       "\n",
       "  <div class=\"bk-root\" id=\"88099389-bddd-4dc6-bf8d-16b7e4230448\" data-root-id=\"29272\"></div>\n"
      ]
     },
     "metadata": {},
     "output_type": "display_data"
    },
    {
     "data": {
      "application/javascript": [
       "(function(root) {\n",
       "  function embed_document(root) {\n",
       "    \n",
       "  var docs_json = {\"dbf04080-2d99-42cb-ad28-1a341321f7f3\":{\"roots\":{\"references\":[{\"attributes\":{\"below\":[{\"id\":\"29281\",\"type\":\"LinearAxis\"}],\"center\":[{\"id\":\"29285\",\"type\":\"Grid\"},{\"id\":\"29290\",\"type\":\"Grid\"}],\"left\":[{\"id\":\"29286\",\"type\":\"LinearAxis\"}],\"plot_height\":400,\"plot_width\":400,\"renderers\":[{\"id\":\"29307\",\"type\":\"GlyphRenderer\"}],\"title\":{\"id\":\"30107\",\"type\":\"Title\"},\"toolbar\":{\"id\":\"29297\",\"type\":\"Toolbar\"},\"x_range\":{\"id\":\"29273\",\"type\":\"DataRange1d\"},\"x_scale\":{\"id\":\"29277\",\"type\":\"LinearScale\"},\"y_range\":{\"id\":\"29275\",\"type\":\"DataRange1d\"},\"y_scale\":{\"id\":\"29279\",\"type\":\"LinearScale\"}},\"id\":\"29272\",\"subtype\":\"Figure\",\"type\":\"Plot\"},{\"attributes\":{},\"id\":\"29277\",\"type\":\"LinearScale\"},{\"attributes\":{\"text\":\"\"},\"id\":\"30107\",\"type\":\"Title\"},{\"attributes\":{\"formatter\":{\"id\":\"30109\",\"type\":\"BasicTickFormatter\"},\"major_label_orientation\":0.4487989505128276,\"ticker\":{\"id\":\"29282\",\"type\":\"BasicTicker\"}},\"id\":\"29281\",\"type\":\"LinearAxis\"},{\"attributes\":{},\"id\":\"29291\",\"type\":\"PanTool\"},{\"attributes\":{\"callback\":null,\"data\":{\"x\":[1,2,3,4,5],\"y\":[2,5,8,2,7]},\"selected\":{\"id\":\"30114\",\"type\":\"Selection\"},\"selection_policy\":{\"id\":\"30115\",\"type\":\"UnionRenderers\"}},\"id\":\"29304\",\"type\":\"ColumnDataSource\"},{\"attributes\":{\"fill_alpha\":{\"value\":0.1},\"fill_color\":{\"value\":\"#1f77b4\"},\"line_alpha\":{\"value\":0.1},\"line_color\":{\"value\":\"#1f77b4\"},\"line_width\":{\"value\":2},\"size\":{\"units\":\"screen\",\"value\":10},\"x\":{\"field\":\"x\"},\"y\":{\"field\":\"y\"}},\"id\":\"29306\",\"type\":\"X\"},{\"attributes\":{},\"id\":\"29295\",\"type\":\"ResetTool\"},{\"attributes\":{\"ticker\":{\"id\":\"29282\",\"type\":\"BasicTicker\"}},\"id\":\"29285\",\"type\":\"Grid\"},{\"attributes\":{\"bottom_units\":\"screen\",\"fill_alpha\":{\"value\":0.5},\"fill_color\":{\"value\":\"lightgrey\"},\"left_units\":\"screen\",\"level\":\"overlay\",\"line_alpha\":{\"value\":1.0},\"line_color\":{\"value\":\"black\"},\"line_dash\":[4,4],\"line_width\":{\"value\":2},\"render_mode\":\"css\",\"right_units\":\"screen\",\"top_units\":\"screen\"},\"id\":\"30113\",\"type\":\"BoxAnnotation\"},{\"attributes\":{\"data_source\":{\"id\":\"29304\",\"type\":\"ColumnDataSource\"},\"glyph\":{\"id\":\"29305\",\"type\":\"X\"},\"hover_glyph\":null,\"muted_glyph\":null,\"nonselection_glyph\":{\"id\":\"29306\",\"type\":\"X\"},\"selection_glyph\":null,\"view\":{\"id\":\"29308\",\"type\":\"CDSView\"}},\"id\":\"29307\",\"type\":\"GlyphRenderer\"},{\"attributes\":{},\"id\":\"29282\",\"type\":\"BasicTicker\"},{\"attributes\":{},\"id\":\"29292\",\"type\":\"WheelZoomTool\"},{\"attributes\":{\"callback\":null},\"id\":\"29273\",\"type\":\"DataRange1d\"},{\"attributes\":{\"callback\":null},\"id\":\"29275\",\"type\":\"DataRange1d\"},{\"attributes\":{\"fill_color\":{\"value\":\"#1f77b4\"},\"line_color\":{\"value\":\"#1f77b4\"},\"line_width\":{\"value\":2},\"size\":{\"units\":\"screen\",\"value\":10},\"x\":{\"field\":\"x\"},\"y\":{\"field\":\"y\"}},\"id\":\"29305\",\"type\":\"X\"},{\"attributes\":{},\"id\":\"30114\",\"type\":\"Selection\"},{\"attributes\":{},\"id\":\"30115\",\"type\":\"UnionRenderers\"},{\"attributes\":{\"source\":{\"id\":\"29304\",\"type\":\"ColumnDataSource\"}},\"id\":\"29308\",\"type\":\"CDSView\"},{\"attributes\":{},\"id\":\"29294\",\"type\":\"SaveTool\"},{\"attributes\":{},\"id\":\"30111\",\"type\":\"BasicTickFormatter\"},{\"attributes\":{\"active_drag\":\"auto\",\"active_inspect\":\"auto\",\"active_multi\":null,\"active_scroll\":\"auto\",\"active_tap\":\"auto\",\"tools\":[{\"id\":\"29291\",\"type\":\"PanTool\"},{\"id\":\"29292\",\"type\":\"WheelZoomTool\"},{\"id\":\"29293\",\"type\":\"BoxZoomTool\"},{\"id\":\"29294\",\"type\":\"SaveTool\"},{\"id\":\"29295\",\"type\":\"ResetTool\"},{\"id\":\"29296\",\"type\":\"HelpTool\"}]},\"id\":\"29297\",\"type\":\"Toolbar\"},{\"attributes\":{\"formatter\":{\"id\":\"30111\",\"type\":\"BasicTickFormatter\"},\"major_label_orientation\":\"horizontal\",\"ticker\":{\"id\":\"29287\",\"type\":\"BasicTicker\"}},\"id\":\"29286\",\"type\":\"LinearAxis\"},{\"attributes\":{},\"id\":\"30109\",\"type\":\"BasicTickFormatter\"},{\"attributes\":{},\"id\":\"29279\",\"type\":\"LinearScale\"},{\"attributes\":{},\"id\":\"29296\",\"type\":\"HelpTool\"},{\"attributes\":{},\"id\":\"29287\",\"type\":\"BasicTicker\"},{\"attributes\":{\"overlay\":{\"id\":\"30113\",\"type\":\"BoxAnnotation\"}},\"id\":\"29293\",\"type\":\"BoxZoomTool\"},{\"attributes\":{\"dimension\":1,\"ticker\":{\"id\":\"29287\",\"type\":\"BasicTicker\"}},\"id\":\"29290\",\"type\":\"Grid\"}],\"root_ids\":[\"29272\"]},\"title\":\"Bokeh Application\",\"version\":\"1.3.4\"}};\n",
       "  var render_items = [{\"docid\":\"dbf04080-2d99-42cb-ad28-1a341321f7f3\",\"roots\":{\"29272\":\"88099389-bddd-4dc6-bf8d-16b7e4230448\"}}];\n",
       "  root.Bokeh.embed.embed_items_notebook(docs_json, render_items);\n",
       "\n",
       "  }\n",
       "  if (root.Bokeh !== undefined) {\n",
       "    embed_document(root);\n",
       "  } else {\n",
       "    var attempts = 0;\n",
       "    var timer = setInterval(function(root) {\n",
       "      if (root.Bokeh !== undefined) {\n",
       "        embed_document(root);\n",
       "        clearInterval(timer);\n",
       "      }\n",
       "      attempts++;\n",
       "      if (attempts > 100) {\n",
       "        console.log(\"Bokeh: ERROR: Unable to run BokehJS code because BokehJS library is missing\");\n",
       "        clearInterval(timer);\n",
       "      }\n",
       "    }, 10, root)\n",
       "  }\n",
       "})(window);"
      ],
      "application/vnd.bokehjs_exec.v0+json": ""
     },
     "metadata": {
      "application/vnd.bokehjs_exec.v0+json": {
       "id": "29272"
      }
     },
     "output_type": "display_data"
    }
   ],
   "source": [
    "from math import pi\n",
    "\n",
    "p = figure(plot_width=400, plot_height=400)\n",
    "p.x([1,2,3,4,5], [2,5,8,2,7], size=10, line_width=2)\n",
    "\n",
    "p.xaxis.major_label_orientation = pi/7\n",
    "p.yaxis.major_label_orientation = \"horizontal\"\n",
    "\n",
    "show(p)"
   ]
  },
  {
   "cell_type": "markdown",
   "metadata": {},
   "source": [
    "The next example shows customizations on several of the different Axis properties at once:"
   ]
  },
  {
   "cell_type": "code",
   "execution_count": 73,
   "metadata": {},
   "outputs": [
    {
     "data": {
      "text/html": [
       "\n",
       "\n",
       "\n",
       "\n",
       "\n",
       "\n",
       "  <div class=\"bk-root\" id=\"7ead21ec-32a3-440c-b09e-f6bc89a19f54\" data-root-id=\"28383\"></div>\n"
      ]
     },
     "metadata": {},
     "output_type": "display_data"
    },
    {
     "data": {
      "application/javascript": [
       "(function(root) {\n",
       "  function embed_document(root) {\n",
       "    \n",
       "  var docs_json = {\"0e3910d3-2c4f-4f7b-95f7-7056156338dc\":{\"roots\":{\"references\":[{\"attributes\":{\"below\":[{\"id\":\"28392\",\"type\":\"LinearAxis\"}],\"center\":[{\"id\":\"28396\",\"type\":\"Grid\"},{\"id\":\"28401\",\"type\":\"Grid\"}],\"left\":[{\"id\":\"28397\",\"type\":\"LinearAxis\"}],\"plot_height\":400,\"plot_width\":400,\"renderers\":[{\"id\":\"28418\",\"type\":\"GlyphRenderer\"}],\"title\":{\"id\":\"29209\",\"type\":\"Title\"},\"toolbar\":{\"id\":\"28408\",\"type\":\"Toolbar\"},\"x_range\":{\"id\":\"28384\",\"type\":\"DataRange1d\"},\"x_scale\":{\"id\":\"28388\",\"type\":\"LinearScale\"},\"y_range\":{\"id\":\"28386\",\"type\":\"DataRange1d\"},\"y_scale\":{\"id\":\"28390\",\"type\":\"LinearScale\"}},\"id\":\"28383\",\"subtype\":\"Figure\",\"type\":\"Plot\"},{\"attributes\":{\"text\":\"\"},\"id\":\"29209\",\"type\":\"Title\"},{\"attributes\":{},\"id\":\"28405\",\"type\":\"SaveTool\"},{\"attributes\":{},\"id\":\"28393\",\"type\":\"BasicTicker\"},{\"attributes\":{},\"id\":\"29217\",\"type\":\"UnionRenderers\"},{\"attributes\":{},\"id\":\"28406\",\"type\":\"ResetTool\"},{\"attributes\":{\"callback\":null,\"data\":{\"x\":[1,2,3,4,5],\"y\":[2,5,8,2,7]},\"selected\":{\"id\":\"29216\",\"type\":\"Selection\"},\"selection_policy\":{\"id\":\"29217\",\"type\":\"UnionRenderers\"}},\"id\":\"28415\",\"type\":\"ColumnDataSource\"},{\"attributes\":{\"callback\":null},\"id\":\"28384\",\"type\":\"DataRange1d\"},{\"attributes\":{},\"id\":\"29211\",\"type\":\"BasicTickFormatter\"},{\"attributes\":{\"data_source\":{\"id\":\"28415\",\"type\":\"ColumnDataSource\"},\"glyph\":{\"id\":\"28416\",\"type\":\"Asterisk\"},\"hover_glyph\":null,\"muted_glyph\":null,\"nonselection_glyph\":{\"id\":\"28417\",\"type\":\"Asterisk\"},\"selection_glyph\":null,\"view\":{\"id\":\"28419\",\"type\":\"CDSView\"}},\"id\":\"28418\",\"type\":\"GlyphRenderer\"},{\"attributes\":{\"fill_color\":{\"value\":\"olive\"},\"line_color\":{\"value\":\"olive\"},\"size\":{\"units\":\"screen\",\"value\":12},\"x\":{\"field\":\"x\"},\"y\":{\"field\":\"y\"}},\"id\":\"28416\",\"type\":\"Asterisk\"},{\"attributes\":{\"overlay\":{\"id\":\"29215\",\"type\":\"BoxAnnotation\"}},\"id\":\"28404\",\"type\":\"BoxZoomTool\"},{\"attributes\":{},\"id\":\"28388\",\"type\":\"LinearScale\"},{\"attributes\":{},\"id\":\"28407\",\"type\":\"HelpTool\"},{\"attributes\":{\"dimension\":1,\"ticker\":{\"id\":\"28398\",\"type\":\"BasicTicker\"}},\"id\":\"28401\",\"type\":\"Grid\"},{\"attributes\":{\"active_drag\":\"auto\",\"active_inspect\":\"auto\",\"active_multi\":null,\"active_scroll\":\"auto\",\"active_tap\":\"auto\",\"tools\":[{\"id\":\"28402\",\"type\":\"PanTool\"},{\"id\":\"28403\",\"type\":\"WheelZoomTool\"},{\"id\":\"28404\",\"type\":\"BoxZoomTool\"},{\"id\":\"28405\",\"type\":\"SaveTool\"},{\"id\":\"28406\",\"type\":\"ResetTool\"},{\"id\":\"28407\",\"type\":\"HelpTool\"}]},\"id\":\"28408\",\"type\":\"Toolbar\"},{\"attributes\":{},\"id\":\"28398\",\"type\":\"BasicTicker\"},{\"attributes\":{\"ticker\":{\"id\":\"28393\",\"type\":\"BasicTicker\"}},\"id\":\"28396\",\"type\":\"Grid\"},{\"attributes\":{\"callback\":null},\"id\":\"28386\",\"type\":\"DataRange1d\"},{\"attributes\":{},\"id\":\"28403\",\"type\":\"WheelZoomTool\"},{\"attributes\":{},\"id\":\"28390\",\"type\":\"LinearScale\"},{\"attributes\":{\"axis_label\":\"Pressure\",\"formatter\":{\"id\":\"29213\",\"type\":\"BasicTickFormatter\"},\"major_label_orientation\":\"vertical\",\"major_label_text_color\":{\"value\":\"orange\"},\"minor_tick_in\":-3,\"minor_tick_out\":6,\"ticker\":{\"id\":\"28398\",\"type\":\"BasicTicker\"}},\"id\":\"28397\",\"type\":\"LinearAxis\"},{\"attributes\":{},\"id\":\"29216\",\"type\":\"Selection\"},{\"attributes\":{\"axis_label\":\"Temp\",\"axis_line_color\":{\"value\":\"red\"},\"axis_line_width\":{\"value\":3},\"formatter\":{\"id\":\"29211\",\"type\":\"BasicTickFormatter\"},\"minor_tick_in\":-3,\"minor_tick_out\":6,\"ticker\":{\"id\":\"28393\",\"type\":\"BasicTicker\"}},\"id\":\"28392\",\"type\":\"LinearAxis\"},{\"attributes\":{},\"id\":\"29213\",\"type\":\"BasicTickFormatter\"},{\"attributes\":{\"bottom_units\":\"screen\",\"fill_alpha\":{\"value\":0.5},\"fill_color\":{\"value\":\"lightgrey\"},\"left_units\":\"screen\",\"level\":\"overlay\",\"line_alpha\":{\"value\":1.0},\"line_color\":{\"value\":\"black\"},\"line_dash\":[4,4],\"line_width\":{\"value\":2},\"render_mode\":\"css\",\"right_units\":\"screen\",\"top_units\":\"screen\"},\"id\":\"29215\",\"type\":\"BoxAnnotation\"},{\"attributes\":{},\"id\":\"28402\",\"type\":\"PanTool\"},{\"attributes\":{\"source\":{\"id\":\"28415\",\"type\":\"ColumnDataSource\"}},\"id\":\"28419\",\"type\":\"CDSView\"},{\"attributes\":{\"fill_alpha\":{\"value\":0.1},\"fill_color\":{\"value\":\"#1f77b4\"},\"line_alpha\":{\"value\":0.1},\"line_color\":{\"value\":\"#1f77b4\"},\"size\":{\"units\":\"screen\",\"value\":12},\"x\":{\"field\":\"x\"},\"y\":{\"field\":\"y\"}},\"id\":\"28417\",\"type\":\"Asterisk\"}],\"root_ids\":[\"28383\"]},\"title\":\"Bokeh Application\",\"version\":\"1.3.4\"}};\n",
       "  var render_items = [{\"docid\":\"0e3910d3-2c4f-4f7b-95f7-7056156338dc\",\"roots\":{\"28383\":\"7ead21ec-32a3-440c-b09e-f6bc89a19f54\"}}];\n",
       "  root.Bokeh.embed.embed_items_notebook(docs_json, render_items);\n",
       "\n",
       "  }\n",
       "  if (root.Bokeh !== undefined) {\n",
       "    embed_document(root);\n",
       "  } else {\n",
       "    var attempts = 0;\n",
       "    var timer = setInterval(function(root) {\n",
       "      if (root.Bokeh !== undefined) {\n",
       "        embed_document(root);\n",
       "        clearInterval(timer);\n",
       "      }\n",
       "      attempts++;\n",
       "      if (attempts > 100) {\n",
       "        console.log(\"Bokeh: ERROR: Unable to run BokehJS code because BokehJS library is missing\");\n",
       "        clearInterval(timer);\n",
       "      }\n",
       "    }, 10, root)\n",
       "  }\n",
       "})(window);"
      ],
      "application/vnd.bokehjs_exec.v0+json": ""
     },
     "metadata": {
      "application/vnd.bokehjs_exec.v0+json": {
       "id": "28383"
      }
     },
     "output_type": "display_data"
    }
   ],
   "source": [
    "p = figure(plot_width=400, plot_height=400)\n",
    "p.asterisk([1,2,3,4,5], [2,5,8,2,7], size=12, color=\"olive\")\n",
    "\n",
    "# change just some things about the x-axes\n",
    "p.xaxis.axis_label = \"Temp\"\n",
    "p.xaxis.axis_line_width = 3\n",
    "p.xaxis.axis_line_color = \"red\"\n",
    "\n",
    "# change just some things about the y-axes\n",
    "p.yaxis.axis_label = \"Pressure\"\n",
    "p.yaxis.major_label_text_color = \"orange\"\n",
    "p.yaxis.major_label_orientation = \"vertical\"\n",
    "\n",
    "# change things on all axes\n",
    "p.axis.minor_tick_in = -3\n",
    "p.axis.minor_tick_out = 6\n",
    "\n",
    "show(p)"
   ]
  },
  {
   "cell_type": "code",
   "execution_count": 96,
   "metadata": {},
   "outputs": [
    {
     "data": {
      "text/html": [
       "\n",
       "\n",
       "\n",
       "\n",
       "\n",
       "\n",
       "  <div class=\"bk-root\" id=\"222a7f04-a766-4453-9a99-d4778dc81a0f\" data-root-id=\"53506\"></div>\n"
      ]
     },
     "metadata": {},
     "output_type": "display_data"
    },
    {
     "data": {
      "application/javascript": [
       "(function(root) {\n",
       "  function embed_document(root) {\n",
       "    \n",
       "  var docs_json = {\"77c341d3-2486-4933-a227-7b0b425266f0\":{\"roots\":{\"references\":[{\"attributes\":{\"below\":[{\"id\":\"53515\",\"type\":\"LinearAxis\"}],\"center\":[{\"id\":\"53519\",\"type\":\"Grid\"},{\"id\":\"53524\",\"type\":\"Grid\"}],\"left\":[{\"id\":\"53520\",\"type\":\"LinearAxis\"}],\"plot_height\":400,\"plot_width\":400,\"renderers\":[{\"id\":\"53541\",\"type\":\"GlyphRenderer\"},{\"id\":\"53546\",\"type\":\"GlyphRenderer\"}],\"title\":{\"id\":\"54419\",\"type\":\"Title\"},\"toolbar\":{\"id\":\"53531\",\"type\":\"Toolbar\"},\"x_range\":{\"id\":\"53507\",\"type\":\"DataRange1d\"},\"x_scale\":{\"id\":\"53511\",\"type\":\"LinearScale\"},\"y_range\":{\"id\":\"53509\",\"type\":\"DataRange1d\"},\"y_scale\":{\"id\":\"53513\",\"type\":\"LinearScale\"}},\"id\":\"53506\",\"subtype\":\"Figure\",\"type\":\"Plot\"},{\"attributes\":{},\"id\":\"54427\",\"type\":\"UnionRenderers\"},{\"attributes\":{},\"id\":\"53521\",\"type\":\"BasicTicker\"},{\"attributes\":{\"callback\":null,\"data\":{\"x\":[1,2,3,4,5],\"y\":[2,5,8,2,7]},\"selected\":{\"id\":\"54426\",\"type\":\"Selection\"},\"selection_policy\":{\"id\":\"54427\",\"type\":\"UnionRenderers\"}},\"id\":\"53538\",\"type\":\"ColumnDataSource\"},{\"attributes\":{\"axis_label\":\"Pressure\",\"axis_line_color\":{\"value\":null},\"formatter\":{\"id\":\"54423\",\"type\":\"BasicTickFormatter\"},\"major_tick_line_width\":{\"value\":2},\"minor_tick_in\":-3,\"minor_tick_out\":6,\"ticker\":{\"id\":\"53521\",\"type\":\"BasicTicker\"}},\"id\":\"53520\",\"type\":\"LinearAxis\"},{\"attributes\":{\"data_source\":{\"id\":\"53543\",\"type\":\"ColumnDataSource\"},\"glyph\":{\"id\":\"53544\",\"type\":\"Square\"},\"hover_glyph\":null,\"muted_glyph\":null,\"nonselection_glyph\":{\"id\":\"53545\",\"type\":\"Square\"},\"selection_glyph\":null,\"view\":{\"id\":\"53547\",\"type\":\"CDSView\"}},\"id\":\"53546\",\"type\":\"GlyphRenderer\"},{\"attributes\":{},\"id\":\"53528\",\"type\":\"SaveTool\"},{\"attributes\":{\"callback\":null},\"id\":\"53507\",\"type\":\"DataRange1d\"},{\"attributes\":{\"callback\":null,\"data\":{\"x\":[1,2,3,4,5],\"y\":[2,5,8,2,7]},\"selected\":{\"id\":\"54428\",\"type\":\"Selection\"},\"selection_policy\":{\"id\":\"54429\",\"type\":\"UnionRenderers\"}},\"id\":\"53543\",\"type\":\"ColumnDataSource\"},{\"attributes\":{},\"id\":\"54428\",\"type\":\"Selection\"},{\"attributes\":{\"data_source\":{\"id\":\"53538\",\"type\":\"ColumnDataSource\"},\"glyph\":{\"id\":\"53539\",\"type\":\"Line\"},\"hover_glyph\":null,\"muted_glyph\":null,\"nonselection_glyph\":{\"id\":\"53540\",\"type\":\"Line\"},\"selection_glyph\":null,\"view\":{\"id\":\"53542\",\"type\":\"CDSView\"}},\"id\":\"53541\",\"type\":\"GlyphRenderer\"},{\"attributes\":{\"text\":\"\"},\"id\":\"54419\",\"type\":\"Title\"},{\"attributes\":{},\"id\":\"54423\",\"type\":\"BasicTickFormatter\"},{\"attributes\":{},\"id\":\"53513\",\"type\":\"LinearScale\"},{\"attributes\":{},\"id\":\"54426\",\"type\":\"Selection\"},{\"attributes\":{\"fill_color\":{\"value\":\"olive\"},\"line_color\":{\"value\":\"olive\"},\"size\":{\"units\":\"screen\",\"value\":15},\"x\":{\"field\":\"x\"},\"y\":{\"field\":\"y\"}},\"id\":\"53544\",\"type\":\"Square\"},{\"attributes\":{},\"id\":\"54429\",\"type\":\"UnionRenderers\"},{\"attributes\":{\"fill_alpha\":{\"value\":0.1},\"fill_color\":{\"value\":\"#1f77b4\"},\"line_alpha\":{\"value\":0.1},\"line_color\":{\"value\":\"#1f77b4\"},\"size\":{\"units\":\"screen\",\"value\":15},\"x\":{\"field\":\"x\"},\"y\":{\"field\":\"y\"}},\"id\":\"53545\",\"type\":\"Square\"},{\"attributes\":{\"active_drag\":\"auto\",\"active_inspect\":\"auto\",\"active_multi\":null,\"active_scroll\":\"auto\",\"active_tap\":\"auto\",\"tools\":[{\"id\":\"53525\",\"type\":\"PanTool\"},{\"id\":\"53526\",\"type\":\"WheelZoomTool\"},{\"id\":\"53527\",\"type\":\"BoxZoomTool\"},{\"id\":\"53528\",\"type\":\"SaveTool\"},{\"id\":\"53529\",\"type\":\"ResetTool\"},{\"id\":\"53530\",\"type\":\"HelpTool\"}]},\"id\":\"53531\",\"type\":\"Toolbar\"},{\"attributes\":{},\"id\":\"53526\",\"type\":\"WheelZoomTool\"},{\"attributes\":{\"source\":{\"id\":\"53538\",\"type\":\"ColumnDataSource\"}},\"id\":\"53542\",\"type\":\"CDSView\"},{\"attributes\":{\"source\":{\"id\":\"53543\",\"type\":\"ColumnDataSource\"}},\"id\":\"53547\",\"type\":\"CDSView\"},{\"attributes\":{\"dimension\":1,\"ticker\":{\"id\":\"53521\",\"type\":\"BasicTicker\"}},\"id\":\"53524\",\"type\":\"Grid\"},{\"attributes\":{\"axis_label\":\"Temperature\",\"axis_line_color\":{\"value\":null},\"formatter\":{\"id\":\"54421\",\"type\":\"BasicTickFormatter\"},\"major_tick_line_width\":{\"value\":2},\"minor_tick_in\":-3,\"minor_tick_out\":6,\"ticker\":{\"id\":\"53516\",\"type\":\"BasicTicker\"}},\"id\":\"53515\",\"type\":\"LinearAxis\"},{\"attributes\":{},\"id\":\"54421\",\"type\":\"BasicTickFormatter\"},{\"attributes\":{\"overlay\":{\"id\":\"54425\",\"type\":\"BoxAnnotation\"}},\"id\":\"53527\",\"type\":\"BoxZoomTool\"},{\"attributes\":{\"ticker\":{\"id\":\"53516\",\"type\":\"BasicTicker\"}},\"id\":\"53519\",\"type\":\"Grid\"},{\"attributes\":{},\"id\":\"53511\",\"type\":\"LinearScale\"},{\"attributes\":{},\"id\":\"53525\",\"type\":\"PanTool\"},{\"attributes\":{\"line_alpha\":0.1,\"line_color\":\"#1f77b4\",\"x\":{\"field\":\"x\"},\"y\":{\"field\":\"y\"}},\"id\":\"53540\",\"type\":\"Line\"},{\"attributes\":{\"callback\":null},\"id\":\"53509\",\"type\":\"DataRange1d\"},{\"attributes\":{},\"id\":\"53516\",\"type\":\"BasicTicker\"},{\"attributes\":{},\"id\":\"53530\",\"type\":\"HelpTool\"},{\"attributes\":{\"bottom_units\":\"screen\",\"fill_alpha\":{\"value\":0.5},\"fill_color\":{\"value\":\"lightgrey\"},\"left_units\":\"screen\",\"level\":\"overlay\",\"line_alpha\":{\"value\":1.0},\"line_color\":{\"value\":\"black\"},\"line_dash\":[4,4],\"line_width\":{\"value\":2},\"render_mode\":\"css\",\"right_units\":\"screen\",\"top_units\":\"screen\"},\"id\":\"54425\",\"type\":\"BoxAnnotation\"},{\"attributes\":{},\"id\":\"53529\",\"type\":\"ResetTool\"},{\"attributes\":{\"line_color\":\"#1f77b4\",\"x\":{\"field\":\"x\"},\"y\":{\"field\":\"y\"}},\"id\":\"53539\",\"type\":\"Line\"}],\"root_ids\":[\"53506\"]},\"title\":\"Bokeh Application\",\"version\":\"1.3.4\"}};\n",
       "  var render_items = [{\"docid\":\"77c341d3-2486-4933-a227-7b0b425266f0\",\"roots\":{\"53506\":\"222a7f04-a766-4453-9a99-d4778dc81a0f\"}}];\n",
       "  root.Bokeh.embed.embed_items_notebook(docs_json, render_items);\n",
       "\n",
       "  }\n",
       "  if (root.Bokeh !== undefined) {\n",
       "    embed_document(root);\n",
       "  } else {\n",
       "    var attempts = 0;\n",
       "    var timer = setInterval(function(root) {\n",
       "      if (root.Bokeh !== undefined) {\n",
       "        embed_document(root);\n",
       "        clearInterval(timer);\n",
       "      }\n",
       "      attempts++;\n",
       "      if (attempts > 100) {\n",
       "        console.log(\"Bokeh: ERROR: Unable to run BokehJS code because BokehJS library is missing\");\n",
       "        clearInterval(timer);\n",
       "      }\n",
       "    }, 10, root)\n",
       "  }\n",
       "})(window);"
      ],
      "application/vnd.bokehjs_exec.v0+json": ""
     },
     "metadata": {
      "application/vnd.bokehjs_exec.v0+json": {
       "id": "53506"
      }
     },
     "output_type": "display_data"
    }
   ],
   "source": [
    "# EXERCISE Create a plot of your own and customize several axis properties\n",
    "p = figure(plot_width=400, plot_height=400)\n",
    "p.line([1,2,3,4,5], [2,5,8,2,7])\n",
    "p.square([1,2,3,4,5], [2,5,8,2,7], size=15, color=\"olive\")\n",
    "\n",
    "# change just some things about the x-axes\n",
    "\n",
    "\n",
    "p.xaxis.axis_label = 'Temperature'\n",
    "\n",
    "# change just some things about the y-axes\n",
    "p.yaxis.axis_label = \"Pressure\"\n",
    "\n",
    "# change things on all axes\n",
    "p.axis.axis_line_color = None\n",
    "p.axis.major_tick_line_width = 2\n",
    "p.axis.minor_tick_in = -3\n",
    "p.axis.minor_tick_out = 6\n",
    "\n",
    "show(p)"
   ]
  },
  {
   "cell_type": "markdown",
   "metadata": {},
   "source": [
    "## Configuring tick labels\n",
    "\n",
    "All Bokeh axes have a `formatter` property, whose value is a `TickFormatter` object that Bokeh uses to format the ticks displayed by that axis. Bokeh will configure default tick formatters for numeric, datetime, or categotical axes. But often we would like to customize the appearance of tick labels. This can be accomplished by changing properties on the default formatter that Bokeh chooses, or by replacing the formatter with a new type entirely. \n",
    "\n",
    "Let's first look at changing the properties of a default formatter. The default datetime formatter is configure to show *month/day* when the axis is on the scale of days. If would like the also always show the year, we can change the `days` property to a format that includes the year, as done below. "
   ]
  },
  {
   "cell_type": "code",
   "execution_count": 98,
   "metadata": {},
   "outputs": [
    {
     "data": {
      "text/html": [
       "\n",
       "\n",
       "\n",
       "\n",
       "\n",
       "\n",
       "  <div class=\"bk-root\" id=\"41bda823-f107-424d-9342-909675a8086e\" data-root-id=\"55558\"></div>\n"
      ]
     },
     "metadata": {},
     "output_type": "display_data"
    },
    {
     "data": {
      "application/javascript": [
       "(function(root) {\n",
       "  function embed_document(root) {\n",
       "    \n",
       "  var docs_json = {\"782c6479-df01-43b3-98af-d6a8818c4cb7\":{\"roots\":{\"references\":[{\"attributes\":{\"below\":[{\"id\":\"55569\",\"type\":\"DatetimeAxis\"}],\"center\":[{\"id\":\"55573\",\"type\":\"Grid\"},{\"id\":\"55578\",\"type\":\"Grid\"}],\"left\":[{\"id\":\"55574\",\"type\":\"LinearAxis\"}],\"plot_height\":350,\"plot_width\":800,\"renderers\":[{\"id\":\"55596\",\"type\":\"GlyphRenderer\"}],\"title\":{\"id\":\"55559\",\"type\":\"Title\"},\"toolbar\":{\"id\":\"55585\",\"type\":\"Toolbar\"},\"x_range\":{\"id\":\"55561\",\"type\":\"DataRange1d\"},\"x_scale\":{\"id\":\"55565\",\"type\":\"LinearScale\"},\"y_range\":{\"id\":\"55563\",\"type\":\"DataRange1d\"},\"y_scale\":{\"id\":\"55567\",\"type\":\"LinearScale\"}},\"id\":\"55558\",\"subtype\":\"Figure\",\"type\":\"Plot\"},{\"attributes\":{\"months\":[0,1,2,3,4,5,6,7,8,9,10,11]},\"id\":\"56512\",\"type\":\"MonthsTicker\"},{\"attributes\":{},\"id\":\"55565\",\"type\":\"LinearScale\"},{\"attributes\":{\"callback\":null,\"data\":{\"x\":{\"__ndarray__\":\"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\",\"dtype\":\"float64\",\"shape\":[2217]},\"y\":[92,100,108,115,120,124,128,133,137,142,147,152,157,162,167,171,175,179,185,192,200,207,212,215,217,219,218,219,217,216,216,216,215,214,212,211,209,207,204,203,203,203,203,204,203,202,201,200,199,199,197,193,189,185,182,182,183,184,184,182,177,174,172,170,168,167,166,164,162,160,158,155,152,150,147,140,131,124,120,116,114,114,116,118,119,120,120,120,119,117,114,112,112,111,111,112,111,111,110,108,106,106,106,106,104,101,101,103,102,100,99,100,100,99,99,99,100,99,98,97,97,96,92,90,89,86,85,85,84,84,81,80,81,86,99,115,125,130,129,128,123,118,113,111,112,111,109,108,105,101,100,102,107,113,119,125,129,131,129,128,127,127,127,125,122,117,113,108,103,98,93,89,86,85,83,82,81,82,84,87,92,99,107,121,133,142,146,149,150,151,151,152,152,150,148,161,160,158,157,157,157,156,153,149,147,145,144,145,149,154,159,163,164,164,164,163,162,158,154,153,154,155,157,159,158,156,152,148,144,139,134,128,123,121,119,117,115,115,112,109,106,105,103,101,97,93,89,86,85,88,93,100,106,113,119,125,131,137,142,149,159,172,186,197,204,207,208,207,205,202,199,197,193,185,176,178,177,177,176,173,171,170,169,167,166,165,163,163,162,160,156,150,150,150,151,150,150,150,149,149,148,149,147,145,143,139,141,145,147,147,146,145,141,138,136,135,134,133,132,129,124,120,118,112,114,119,123,125,126,127,128,135,143,148,151,153,154,155,156,156,157,157,156,155,154,147,137,131,128,129,131,132,133,135,135,133,131,132,135,138,139,138,136,132,128,126,125,120,113,108,106,105,108,111,113,116,120,120,120,119,118,118,118,118,117,116,113,106,98,93,97,107,115,122,120,113,102,94,95,96,90,88,83,83,85,90,97,98,99,94,89,95,105,111,113,106,95,90,91,96,101,104,109,112,120,123,118,115,123,130,128,130,136,131,121,113,110,108,109,111,115,120,115,108,105,105,104,106,110,111,115,115,117,114,111,107,105,109,111,110,111,115,121,126,135,142,145,147,150,153,156,160,162,161,160,160,159,157,154,152,152,150,143,138,132,128,124,119,112,105,98,92,94,98,106,118,126,128,127,123,123,121,118,115,112,112,114,113,105,78,209,204,214,252,282,290,295,292,284,268,263,262,263,263,262,258,249,236,179,165,157,152,150,149,150,154,158,163,166,166,163,159,158,161,170,176,178,174,170,166,160,156,151,148,147,145,142,141,145,144,144,153,155,152,147,143,145,152,156,157,156,155,155,156,158,158,158,156,152,146,139,139,141,143,145,147,148,149,149,149,148,147,144,140,139,139,138,137,136,135,134,133,134,136,137,136,134,135,139,142,143,141,138,141,145,148,151,152,154,156,155,155,159,163,166,166,166,164,162,160,158,157,155,153,150,150,149,149,149,149,150,152,154,155,155,156,156,157,160,163,165,165,164,163,121,119,117,114,113,112,113,113,113,113,112,113,113,113,114,112,110,109,109,109,108,108,90,90,94,99,107,116,125,130,132,130,124,117,110,103,95,88,81,77,75,63,65,70,73,78,80,80,79,80,83,86,89,94,96,98,104,105,106,106,107,107,109,114,118,121,123,124,123,122,122,123,123,123,124,123,123,124,127,132,137,139,140,140,142,147,152,156,160,165,168,169,169,165,162,160,158,156,154,150,146,144,141,138,136,133,129,124,118,112,107,106,107,108,109,110,111,112,112,113,114,115,116,117,118,119,122,125,128,130,130,131,130,128,126,123,120,116,93,89,86,84,82,79,76,74,72,71,69,70,68,67,66,67,68,69,69,69,68,68,67,66,65,64,63,61,61,60,60,61,63,64,64,64,63,64,65,66,67,67,66,66,67,68,69,71,73,72,71,70,71,72,74,75,76,78,79,80,81,82,84,86,88,88,87,86,85,86,86,86,86,87,87,88,88,88,89,87,83,79,78,82,85,87,88,89,89,89,87,86,88,89,90,89,90,92,91,90,89,88,87,87,89,90,91,92,94,108,110,110,111,111,111,112,113,114,116,116,116,117,119,121,124,127,131,138,145,150,155,161,165,169,173,177,182,185,185,184,189,193,195,198,198,197,196,196,199,202,202,201,202,204,205,205,203,202,201,197,197,198,199,200,199,195,190,184,180,178,179,180,179,176,175,174,172,169,168,167,170,180,191,203,214,219,219,222,227,228,226,223,221,219,219,218,218,219,218,216,214,214,211,208,207,206,206,205,202,199,193,190,187,182,179,176,173,170,167,163,158,152,146,141,135,129,122,114,108,102,97,90,85,81,77,73,68,65,62,61,61,61,61,61,60,59,59,60,61,64,69,75,82,92,104,117,128,137,144,149,153,156,160,164,169,175,180,184,188,191,193,195,196,200,203,207,212,218,223,228,231,234,235,236,327,327,330,333,328,321,316,308,298,287,274,263,255,249,243,239,234,230,225,220,215,210,206,204,204,199,195,190,185,181,177,175,173,171,170,169,169,168,167,166,166,166,163,161,159,158,157,156,154,152,150,149,149,150,150,151,151,152,153,153,153,154,154,154,154,153,152,152,150,149,148,146,145,144,144,143,142,142,141,140,139,137,137,138,136,137,137,136,137,136,134,133,132,132,132,132,132,134,136,138,141,142,142,143,145,150,154,156,158,160,162,164,167,169,172,175,176,175,174,172,170,171,173,178,185,191,198,210,223,235,244,254,265,273,283,290,296,302,307,309,313,316,318,320,322,320,319,317,313,311,306,300,297,294,293,290,287,286,285,282,279,274,271,270,270,269,274,271,267,264,262,259,255,250,244,237,232,227,223,220,215,210,205,199,195,193,197,206,221,239,258,276,291,302,311,318,323,324,322,320,319,320,319,317,314,311,307,302,294,286,280,276,272,267,259,251,245,241,241,241,242,244,245,245,242,237,232,228,225,216,215,216,217,217,215,211,206,202,200,201,203,201,196,188,176,163,149,138,129,119,108,98,89,79,71,66,66,67,67,68,69,71,74,77,79,81,85,91,99,109,119,132,145,157,168,175,179,183,185,188,188,187,184,179,172,163,159,157,155,153,151,149,148,148,148,147,146,145,145,144,143,143,143,144,145,146,145,144,143,142,140,140,140,140,140,143,147,150,152,152,152,154,155,142,140,138,134,131,130,128,127,126,126,126,126,127,129,131,132,134,136,136,136,136,135,134,132,130,130,130,129,128,127,125,124,123,123,122,121,120,118,115,112,111,111,110,110,109,108,107,107,107,108,107,105,105,105,105,104,103,102,99,97,96,94,94,93,93,92,91,92,94,95,96,97,99,102,104,112,112,112,111,110,107,104,105,105,103,99,96,94,95,102,114,128,144,160,173,185,196,205,209,214,219,226,234,241,248,255,260,265,268,270,272,271,271,268,265,261,256,253,250,246,244,241,237,233,229,225,222,204,200,197,193,190,186,182,179,175,171,168,164,158,154,151,148,145,141,133,139,152,173,196,217,233,244,249,250,253,256,260,263,265,265,264,260,254,246,234,217,200,188,181,175,169,164,159,154,147,138,132,129,127,123,117,111,106,104,103,100,94,88,83,78,75,73,71,69,68,67,67,68,70,71,71,70,69,68,67,67,67,66,67,69,71,74,76,78,80,80,80,80,80,80,82,84,87,90,92,87,87,86,86,86,86,87,87,87,85,83,82,83,87,95,107,118,130,141,149,172,179,187,201,214,221,225,230,232,230,223,216,208,199,191,185,181,177,176,177,176,173,171,169,163,154,152,153,154,154,153,151,150,150,150,152,149,147,148,150,152,152,152,151,151,150,149,147,146,143,140,138,136,137,138,140,138,135,132,130,129,129,129,130,130,129,128,128,128,129,129,128,127,126,125,125,125,125,124,124,121,120,120,123,124,123,122,120,115,113,114,114,115,116,115,112,111,111,109,108,107,107,110,113,114,115,115,115,114,113,113,116,119,120,121,121,122,123,124,125,126,126,126,126,126,127,127,125,122,118,115,111,112,115,117,120,124,127,131,137,143,148,153,159,166,172,178,184,191,199,206,212,217,223,229,232,233,235,237,240,241,243,246,247,246,243,240,234,229,225,221,217,216,215,215,215,212,208,203,199,196,194,190,185,180,177,163,158,152,149,153,163,174,182,188,192,195,197,201,204,205,203,199,195,189,184,176,169,162,150,138,128,119,110,100,90,80,73,68,64,63,63,66,68,70,71,72,74,80,94,116,141,164,183,198,210,220,228,233,237,241,247,252,256,260,259,258,256,251,245,238,234,227,221,215,208,207,207,203,201,201,199,179,176,171,163,152,137,119,98,77,61,50,45,47,59,71,86,99,109,116,117,115,111,107,102,96,91,90,94,97,97,95,92,87,84,84,83,84,86,86,86,84,82,82,81,81,82,84,87,89,91,92,94,93,93,94,96,100,101,99,97,96,96,97,97,98,99,101,102,106,114,121,127,130,124,105,109,119,127,129,132,129,126,126,126,126,126,125,124,125,130,130,128,126,126,126,126,126,126,126,127,128,129,129,127,128,136,141,143,141,138,131,129,133,134,130,129,134,137,139,138,130,122,118,115,114,113,113,112,112,117,118,117,118,118,117,117,114,112,115,118,124,126,119,121,122,274,285,293,297,298,298,296,293,289,282,275,267,256,249,242,233,225,217,217,215,203,190,185,193,202,202,194,182,170,143,130,120,110,102,93,80,67,57,52,50,49,49,54,72,93,104,114,125,134,140,145,145,141,136,130,124,118,116,114,112,108,105,102,99,95,91,88,85,83,82,80,79,79,83,86,87,88,89,89,88,88,90,92,88,86,86,86,84,82,84,88,90,94,99,104,107,107,105,104,103,95,94,93,93,93,93,93,94,99,109,122,172,169,164,156,147,137,126,115,104,99,99,103,106,111,115,117,118,120,120,120,120,119,119,118,118,117,116,115,115,116,116,115,115,114,112,109,110,111,111,110,109,109,109,108,107,106,105,101,100,99,99,98,97,97]},\"selected\":{\"id\":\"56518\",\"type\":\"Selection\"},\"selection_policy\":{\"id\":\"56519\",\"type\":\"UnionRenderers\"}},\"id\":\"55593\",\"type\":\"ColumnDataSource\"},{\"attributes\":{\"callback\":null},\"id\":\"55561\",\"type\":\"DataRange1d\"},{\"attributes\":{\"active_drag\":\"auto\",\"active_inspect\":\"auto\",\"active_multi\":null,\"active_scroll\":\"auto\",\"active_tap\":\"auto\",\"tools\":[{\"id\":\"55579\",\"type\":\"PanTool\"},{\"id\":\"55580\",\"type\":\"WheelZoomTool\"},{\"id\":\"55581\",\"type\":\"BoxZoomTool\"},{\"id\":\"55582\",\"type\":\"SaveTool\"},{\"id\":\"55583\",\"type\":\"ResetTool\"},{\"id\":\"55584\",\"type\":\"HelpTool\"}]},\"id\":\"55585\",\"type\":\"Toolbar\"},{\"attributes\":{\"line_alpha\":0.1,\"line_color\":\"#1f77b4\",\"x\":{\"field\":\"x\"},\"y\":{\"field\":\"y\"}},\"id\":\"55595\",\"type\":\"Line\"},{\"attributes\":{},\"id\":\"56518\",\"type\":\"Selection\"},{\"attributes\":{\"overlay\":{\"id\":\"56517\",\"type\":\"BoxAnnotation\"}},\"id\":\"55581\",\"type\":\"BoxZoomTool\"},{\"attributes\":{\"days\":[\"%m/%d/%Y\"]},\"id\":\"55592\",\"type\":\"DatetimeTickFormatter\"},{\"attributes\":{\"months\":[0,2,4,6,8,10]},\"id\":\"56513\",\"type\":\"MonthsTicker\"},{\"attributes\":{\"mantissas\":[1,2,5],\"max_interval\":500.0,\"num_minor_ticks\":0},\"id\":\"56505\",\"type\":\"AdaptiveTicker\"},{\"attributes\":{\"formatter\":{\"id\":\"55592\",\"type\":\"DatetimeTickFormatter\"},\"major_label_orientation\":1.0471975511965976,\"ticker\":{\"id\":\"55570\",\"type\":\"DatetimeTicker\"}},\"id\":\"55569\",\"type\":\"DatetimeAxis\"},{\"attributes\":{\"base\":60,\"mantissas\":[1,2,5,10,15,20,30],\"max_interval\":1800000.0,\"min_interval\":1000.0,\"num_minor_ticks\":0},\"id\":\"56506\",\"type\":\"AdaptiveTicker\"},{\"attributes\":{\"months\":[0,4,8]},\"id\":\"56514\",\"type\":\"MonthsTicker\"},{\"attributes\":{},\"id\":\"55584\",\"type\":\"HelpTool\"},{\"attributes\":{\"days\":[1,2,3,4,5,6,7,8,9,10,11,12,13,14,15,16,17,18,19,20,21,22,23,24,25,26,27,28,29,30,31]},\"id\":\"56508\",\"type\":\"DaysTicker\"},{\"attributes\":{},\"id\":\"56516\",\"type\":\"YearsTicker\"},{\"attributes\":{\"num_minor_ticks\":5,\"tickers\":[{\"id\":\"56505\",\"type\":\"AdaptiveTicker\"},{\"id\":\"56506\",\"type\":\"AdaptiveTicker\"},{\"id\":\"56507\",\"type\":\"AdaptiveTicker\"},{\"id\":\"56508\",\"type\":\"DaysTicker\"},{\"id\":\"56509\",\"type\":\"DaysTicker\"},{\"id\":\"56510\",\"type\":\"DaysTicker\"},{\"id\":\"56511\",\"type\":\"DaysTicker\"},{\"id\":\"56512\",\"type\":\"MonthsTicker\"},{\"id\":\"56513\",\"type\":\"MonthsTicker\"},{\"id\":\"56514\",\"type\":\"MonthsTicker\"},{\"id\":\"56515\",\"type\":\"MonthsTicker\"},{\"id\":\"56516\",\"type\":\"YearsTicker\"}]},\"id\":\"55570\",\"type\":\"DatetimeTicker\"},{\"attributes\":{\"days\":[1,4,7,10,13,16,19,22,25,28]},\"id\":\"56509\",\"type\":\"DaysTicker\"},{\"attributes\":{},\"id\":\"55575\",\"type\":\"BasicTicker\"},{\"attributes\":{},\"id\":\"55580\",\"type\":\"WheelZoomTool\"},{\"attributes\":{\"days\":[1,8,15,22]},\"id\":\"56510\",\"type\":\"DaysTicker\"},{\"attributes\":{\"source\":{\"id\":\"55593\",\"type\":\"ColumnDataSource\"}},\"id\":\"55597\",\"type\":\"CDSView\"},{\"attributes\":{},\"id\":\"55567\",\"type\":\"LinearScale\"},{\"attributes\":{\"bottom_units\":\"screen\",\"fill_alpha\":{\"value\":0.5},\"fill_color\":{\"value\":\"lightgrey\"},\"left_units\":\"screen\",\"level\":\"overlay\",\"line_alpha\":{\"value\":1.0},\"line_color\":{\"value\":\"black\"},\"line_dash\":[4,4],\"line_width\":{\"value\":2},\"render_mode\":\"css\",\"right_units\":\"screen\",\"top_units\":\"screen\"},\"id\":\"56517\",\"type\":\"BoxAnnotation\"},{\"attributes\":{\"dimension\":1,\"ticker\":{\"id\":\"55575\",\"type\":\"BasicTicker\"}},\"id\":\"55578\",\"type\":\"Grid\"},{\"attributes\":{},\"id\":\"55579\",\"type\":\"PanTool\"},{\"attributes\":{},\"id\":\"56519\",\"type\":\"UnionRenderers\"},{\"attributes\":{\"ticker\":{\"id\":\"55570\",\"type\":\"DatetimeTicker\"}},\"id\":\"55573\",\"type\":\"Grid\"},{\"attributes\":{\"text\":\"Glucose Range\"},\"id\":\"55559\",\"type\":\"Title\"},{\"attributes\":{\"data_source\":{\"id\":\"55593\",\"type\":\"ColumnDataSource\"},\"glyph\":{\"id\":\"55594\",\"type\":\"Line\"},\"hover_glyph\":null,\"muted_glyph\":null,\"nonselection_glyph\":{\"id\":\"55595\",\"type\":\"Line\"},\"selection_glyph\":null,\"view\":{\"id\":\"55597\",\"type\":\"CDSView\"}},\"id\":\"55596\",\"type\":\"GlyphRenderer\"},{\"attributes\":{},\"id\":\"55582\",\"type\":\"SaveTool\"},{\"attributes\":{\"formatter\":{\"id\":\"56503\",\"type\":\"BasicTickFormatter\"},\"ticker\":{\"id\":\"55575\",\"type\":\"BasicTicker\"}},\"id\":\"55574\",\"type\":\"LinearAxis\"},{\"attributes\":{},\"id\":\"55583\",\"type\":\"ResetTool\"},{\"attributes\":{\"days\":[1,15]},\"id\":\"56511\",\"type\":\"DaysTicker\"},{\"attributes\":{\"months\":[0,6]},\"id\":\"56515\",\"type\":\"MonthsTicker\"},{\"attributes\":{\"line_color\":\"#1f77b4\",\"x\":{\"field\":\"x\"},\"y\":{\"field\":\"y\"}},\"id\":\"55594\",\"type\":\"Line\"},{\"attributes\":{},\"id\":\"56503\",\"type\":\"BasicTickFormatter\"},{\"attributes\":{\"base\":24,\"mantissas\":[1,2,4,6,8,12],\"max_interval\":43200000.0,\"min_interval\":3600000.0,\"num_minor_ticks\":0},\"id\":\"56507\",\"type\":\"AdaptiveTicker\"},{\"attributes\":{\"callback\":null},\"id\":\"55563\",\"type\":\"DataRange1d\"}],\"root_ids\":[\"55558\"]},\"title\":\"Bokeh Application\",\"version\":\"1.3.4\"}};\n",
       "  var render_items = [{\"docid\":\"782c6479-df01-43b3-98af-d6a8818c4cb7\",\"roots\":{\"55558\":\"41bda823-f107-424d-9342-909675a8086e\"}}];\n",
       "  root.Bokeh.embed.embed_items_notebook(docs_json, render_items);\n",
       "\n",
       "  }\n",
       "  if (root.Bokeh !== undefined) {\n",
       "    embed_document(root);\n",
       "  } else {\n",
       "    var attempts = 0;\n",
       "    var timer = setInterval(function(root) {\n",
       "      if (root.Bokeh !== undefined) {\n",
       "        embed_document(root);\n",
       "        clearInterval(timer);\n",
       "      }\n",
       "      attempts++;\n",
       "      if (attempts > 100) {\n",
       "        console.log(\"Bokeh: ERROR: Unable to run BokehJS code because BokehJS library is missing\");\n",
       "        clearInterval(timer);\n",
       "      }\n",
       "    }, 10, root)\n",
       "  }\n",
       "})(window);"
      ],
      "application/vnd.bokehjs_exec.v0+json": ""
     },
     "metadata": {
      "application/vnd.bokehjs_exec.v0+json": {
       "id": "55558"
      }
     },
     "output_type": "display_data"
    }
   ],
   "source": [
    "from math import pi\n",
    "from bokeh.sampledata.glucose import data\n",
    "\n",
    "week = data.loc['2010-10-01':'2010-10-08']\n",
    "\n",
    "p = figure(x_axis_type=\"datetime\", title=\"Glucose Range\", plot_height=350, plot_width=800)\n",
    "p.xaxis[0].formatter.days = '%m/%d/%Y'\n",
    "p.xaxis.major_label_orientation = pi/3\n",
    "\n",
    "p.line(week.index, week.glucose)\n",
    "\n",
    "show(p)"
   ]
  },
  {
   "cell_type": "markdown",
   "metadata": {},
   "source": [
    "See the reference guide entry for [DatetimeTickFormatter](http://bokeh.pydata.org/en/latest/docs/reference/models/formatters.html#bokeh.models.formatters.DatetimeTickFormatter) to see other properties that can be updated. \n",
    "\n",
    "*Note: It's worth noting a little quirk here, because of the way \"splattable\" lists work, we do have to be explicit about which formatter object we want to update, i.e. `p.xaxis[0].formatter`*\n",
    "\n",
    "In addition to the tick formatters that Bokeh will use by default, there are others such as the [`NumeralTickFormatter`](http://bokeh.pydata.org/en/latest/docs/user_guide/styling.html#numeraltickformatter) that we can configure explicitly. The example below shows how to set a formatter on each axis. "
   ]
  },
  {
   "cell_type": "code",
   "execution_count": 108,
   "metadata": {},
   "outputs": [
    {
     "data": {
      "text/html": [
       "\n",
       "\n",
       "\n",
       "\n",
       "\n",
       "\n",
       "  <div class=\"bk-root\" id=\"f58a3e63-a456-49b1-abc4-56b6b3653eb7\" data-root-id=\"65995\"></div>\n"
      ]
     },
     "metadata": {},
     "output_type": "display_data"
    },
    {
     "data": {
      "application/javascript": [
       "(function(root) {\n",
       "  function embed_document(root) {\n",
       "    \n",
       "  var docs_json = {\"49720ae9-9bf4-4a3c-8165-3217e2de5a55\":{\"roots\":{\"references\":[{\"attributes\":{\"below\":[{\"id\":\"66006\",\"type\":\"LinearAxis\"}],\"center\":[{\"id\":\"66010\",\"type\":\"Grid\"},{\"id\":\"66015\",\"type\":\"Grid\"}],\"left\":[{\"id\":\"66011\",\"type\":\"LinearAxis\"}],\"plot_height\":300,\"plot_width\":800,\"renderers\":[{\"id\":\"66032\",\"type\":\"GlyphRenderer\"}],\"title\":{\"id\":\"65996\",\"type\":\"Title\"},\"toolbar\":{\"id\":\"66022\",\"type\":\"Toolbar\"},\"x_range\":{\"id\":\"65998\",\"type\":\"DataRange1d\"},\"x_scale\":{\"id\":\"66002\",\"type\":\"LinearScale\"},\"y_range\":{\"id\":\"66000\",\"type\":\"DataRange1d\"},\"y_scale\":{\"id\":\"66004\",\"type\":\"LinearScale\"}},\"id\":\"65995\",\"subtype\":\"Figure\",\"type\":\"Plot\"},{\"attributes\":{\"ticker\":{\"id\":\"66007\",\"type\":\"BasicTicker\"}},\"id\":\"66010\",\"type\":\"Grid\"},{\"attributes\":{},\"id\":\"66017\",\"type\":\"WheelZoomTool\"},{\"attributes\":{\"overlay\":{\"id\":\"67025\",\"type\":\"BoxAnnotation\"}},\"id\":\"66018\",\"type\":\"BoxZoomTool\"},{\"attributes\":{},\"id\":\"66004\",\"type\":\"LinearScale\"},{\"attributes\":{\"source\":{\"id\":\"66029\",\"type\":\"ColumnDataSource\"}},\"id\":\"66033\",\"type\":\"CDSView\"},{\"attributes\":{},\"id\":\"66020\",\"type\":\"ResetTool\"},{\"attributes\":{\"format\":\"0b\"},\"id\":\"66036\",\"type\":\"NumeralTickFormatter\"},{\"attributes\":{},\"id\":\"67027\",\"type\":\"UnionRenderers\"},{\"attributes\":{\"active_drag\":\"auto\",\"active_inspect\":\"auto\",\"active_multi\":null,\"active_scroll\":\"auto\",\"active_tap\":\"auto\",\"tools\":[{\"id\":\"66016\",\"type\":\"PanTool\"},{\"id\":\"66017\",\"type\":\"WheelZoomTool\"},{\"id\":\"66018\",\"type\":\"BoxZoomTool\"},{\"id\":\"66019\",\"type\":\"SaveTool\"},{\"id\":\"66020\",\"type\":\"ResetTool\"},{\"id\":\"66021\",\"type\":\"HelpTool\"}]},\"id\":\"66022\",\"type\":\"Toolbar\"},{\"attributes\":{\"text\":\"Bandiwdth Use Each Second\"},\"id\":\"65996\",\"type\":\"Title\"},{\"attributes\":{\"callback\":null},\"id\":\"65998\",\"type\":\"DataRange1d\"},{\"attributes\":{\"bottom_units\":\"screen\",\"fill_alpha\":{\"value\":0.5},\"fill_color\":{\"value\":\"lightgrey\"},\"left_units\":\"screen\",\"level\":\"overlay\",\"line_alpha\":{\"value\":1.0},\"line_color\":{\"value\":\"black\"},\"line_dash\":[4,4],\"line_width\":{\"value\":2},\"render_mode\":\"css\",\"right_units\":\"screen\",\"top_units\":\"screen\"},\"id\":\"67025\",\"type\":\"BoxAnnotation\"},{\"attributes\":{},\"id\":\"66021\",\"type\":\"HelpTool\"},{\"attributes\":{\"callback\":null},\"id\":\"66000\",\"type\":\"DataRange1d\"},{\"attributes\":{},\"id\":\"66002\",\"type\":\"LinearScale\"},{\"attributes\":{\"callback\":null,\"data\":{\"x\":[1,2,3,4,5],\"y\":[2,5,8,2,7]},\"selected\":{\"id\":\"67026\",\"type\":\"Selection\"},\"selection_policy\":{\"id\":\"67027\",\"type\":\"UnionRenderers\"}},\"id\":\"66029\",\"type\":\"ColumnDataSource\"},{\"attributes\":{\"formatter\":{\"id\":\"66036\",\"type\":\"NumeralTickFormatter\"},\"ticker\":{\"id\":\"66012\",\"type\":\"BasicTicker\"}},\"id\":\"66011\",\"type\":\"LinearAxis\"},{\"attributes\":{\"data_source\":{\"id\":\"66029\",\"type\":\"ColumnDataSource\"},\"glyph\":{\"id\":\"66030\",\"type\":\"Line\"},\"hover_glyph\":null,\"muted_glyph\":null,\"nonselection_glyph\":{\"id\":\"66031\",\"type\":\"Line\"},\"selection_glyph\":null,\"view\":{\"id\":\"66033\",\"type\":\"CDSView\"}},\"id\":\"66032\",\"type\":\"GlyphRenderer\"},{\"attributes\":{\"formatter\":{\"id\":\"66034\",\"type\":\"NumeralTickFormatter\"},\"ticker\":{\"id\":\"66007\",\"type\":\"BasicTicker\"}},\"id\":\"66006\",\"type\":\"LinearAxis\"},{\"attributes\":{},\"id\":\"66016\",\"type\":\"PanTool\"},{\"attributes\":{\"line_alpha\":0.1,\"line_color\":\"#1f77b4\",\"x\":{\"field\":\"x\"},\"y\":{\"field\":\"y\"}},\"id\":\"66031\",\"type\":\"Line\"},{\"attributes\":{},\"id\":\"67026\",\"type\":\"Selection\"},{\"attributes\":{\"dimension\":1,\"ticker\":{\"id\":\"66012\",\"type\":\"BasicTicker\"}},\"id\":\"66015\",\"type\":\"Grid\"},{\"attributes\":{},\"id\":\"66019\",\"type\":\"SaveTool\"},{\"attributes\":{\"format\":\"00:00:00\"},\"id\":\"66034\",\"type\":\"NumeralTickFormatter\"},{\"attributes\":{\"line_color\":\"#1f77b4\",\"x\":{\"field\":\"x\"},\"y\":{\"field\":\"y\"}},\"id\":\"66030\",\"type\":\"Line\"},{\"attributes\":{},\"id\":\"66007\",\"type\":\"BasicTicker\"},{\"attributes\":{},\"id\":\"66012\",\"type\":\"BasicTicker\"}],\"root_ids\":[\"65995\"]},\"title\":\"Bokeh Application\",\"version\":\"1.3.4\"}};\n",
       "  var render_items = [{\"docid\":\"49720ae9-9bf4-4a3c-8165-3217e2de5a55\",\"roots\":{\"65995\":\"f58a3e63-a456-49b1-abc4-56b6b3653eb7\"}}];\n",
       "  root.Bokeh.embed.embed_items_notebook(docs_json, render_items);\n",
       "\n",
       "  }\n",
       "  if (root.Bokeh !== undefined) {\n",
       "    embed_document(root);\n",
       "  } else {\n",
       "    var attempts = 0;\n",
       "    var timer = setInterval(function(root) {\n",
       "      if (root.Bokeh !== undefined) {\n",
       "        embed_document(root);\n",
       "        clearInterval(timer);\n",
       "      }\n",
       "      attempts++;\n",
       "      if (attempts > 100) {\n",
       "        console.log(\"Bokeh: ERROR: Unable to run BokehJS code because BokehJS library is missing\");\n",
       "        clearInterval(timer);\n",
       "      }\n",
       "    }, 10, root)\n",
       "  }\n",
       "})(window);"
      ],
      "application/vnd.bokehjs_exec.v0+json": ""
     },
     "metadata": {
      "application/vnd.bokehjs_exec.v0+json": {
       "id": "65995"
      }
     },
     "output_type": "display_data"
    }
   ],
   "source": [
    "from bokeh.models import NumeralTickFormatter\n",
    "\n",
    "p = figure(plot_height=300, plot_width=800, title='Bandiwdth Use Each Second')\n",
    "p.line([1,2,3,4,5], [2,5,8,2,7])\n",
    "\n",
    "p.xaxis.formatter = NumeralTickFormatter(format=\"00:00:00\")\n",
    "p.yaxis.formatter = NumeralTickFormatter(format=\"0b\")\n",
    "\n",
    "show(p)"
   ]
  },
  {
   "cell_type": "markdown",
   "metadata": {},
   "source": [
    "Try experimenting with the format argument and re-execute the cell above.\n",
    "\n",
    "There are many other possibilities for controlling tick formatting, including the possibility of supplying a JavaScript snippet to perform arbitrary formatting in the browser. See the [Tick Label Formats](http://bokeh.pydata.org/en/latest/docs/user_guide/styling.html#tick-label-formats) for more details.  \n",
    "\n",
    "\n",
    "It is also possible to customize *where* ticks will be drawn. See the [Tick Locations](http://bokeh.pydata.org/en/latest/docs/user_guide/styling.html#tick-locations) section of the User's Guide for more information."
   ]
  },
  {
   "cell_type": "markdown",
   "metadata": {},
   "source": [
    "# Grids\n",
    "\n",
    "It is also possible to control the [styling of Grids](http://bokeh.pydata.org/en/latest/docs/user_guide/styling.html#grids)\n",
    "\n",
    "Grids properties in Bokeh have two possible prefixes:\n",
    "\n",
    "* **grid** properties (which are [line properties](http://bokeh.pydata.org/en/latest/docs/user_guide/styling.html#line-properties)) control the \"grid lines\"\n",
    "* **band** properties (which are [fill properties](http://bokeh.pydata.org/en/latest/docs/user_guide/styling.html#fill-properties)) control shaded bands between grid lines\n",
    "\n",
    "In this first example we turn off the vertical grid lines (by setting the line color to None) and set the horizontal grid to be light and dashed."
   ]
  },
  {
   "cell_type": "code",
   "execution_count": 109,
   "metadata": {},
   "outputs": [
    {
     "data": {
      "text/html": [
       "\n",
       "\n",
       "\n",
       "\n",
       "\n",
       "\n",
       "  <div class=\"bk-root\" id=\"b23c08d5-f9d0-4713-aa77-288175756418\" data-root-id=\"67064\"></div>\n"
      ]
     },
     "metadata": {},
     "output_type": "display_data"
    },
    {
     "data": {
      "application/javascript": [
       "(function(root) {\n",
       "  function embed_document(root) {\n",
       "    \n",
       "  var docs_json = {\"915e60b7-1323-4392-827e-e1c3c96b46d1\":{\"roots\":{\"references\":[{\"attributes\":{\"below\":[{\"id\":\"67073\",\"type\":\"LinearAxis\"}],\"center\":[{\"id\":\"67077\",\"type\":\"Grid\"},{\"id\":\"67082\",\"type\":\"Grid\"}],\"left\":[{\"id\":\"67078\",\"type\":\"LinearAxis\"}],\"plot_height\":400,\"plot_width\":400,\"renderers\":[{\"id\":\"67099\",\"type\":\"GlyphRenderer\"}],\"title\":{\"id\":\"68091\",\"type\":\"Title\"},\"toolbar\":{\"id\":\"67089\",\"type\":\"Toolbar\"},\"x_range\":{\"id\":\"67065\",\"type\":\"DataRange1d\"},\"x_scale\":{\"id\":\"67069\",\"type\":\"LinearScale\"},\"y_range\":{\"id\":\"67067\",\"type\":\"DataRange1d\"},\"y_scale\":{\"id\":\"67071\",\"type\":\"LinearScale\"}},\"id\":\"67064\",\"subtype\":\"Figure\",\"type\":\"Plot\"},{\"attributes\":{\"callback\":null},\"id\":\"67067\",\"type\":\"DataRange1d\"},{\"attributes\":{},\"id\":\"67084\",\"type\":\"WheelZoomTool\"},{\"attributes\":{},\"id\":\"68095\",\"type\":\"BasicTickFormatter\"},{\"attributes\":{\"overlay\":{\"id\":\"68097\",\"type\":\"BoxAnnotation\"}},\"id\":\"67085\",\"type\":\"BoxZoomTool\"},{\"attributes\":{},\"id\":\"67071\",\"type\":\"LinearScale\"},{\"attributes\":{},\"id\":\"67087\",\"type\":\"ResetTool\"},{\"attributes\":{},\"id\":\"68098\",\"type\":\"Selection\"},{\"attributes\":{\"source\":{\"id\":\"67096\",\"type\":\"ColumnDataSource\"}},\"id\":\"67100\",\"type\":\"CDSView\"},{\"attributes\":{\"callback\":null,\"data\":{\"x\":[1,2,3,4,5],\"y\":[2,5,8,2,7]},\"selected\":{\"id\":\"68098\",\"type\":\"Selection\"},\"selection_policy\":{\"id\":\"68099\",\"type\":\"UnionRenderers\"}},\"id\":\"67096\",\"type\":\"ColumnDataSource\"},{\"attributes\":{\"formatter\":{\"id\":\"68093\",\"type\":\"BasicTickFormatter\"},\"ticker\":{\"id\":\"67074\",\"type\":\"BasicTicker\"}},\"id\":\"67073\",\"type\":\"LinearAxis\"},{\"attributes\":{},\"id\":\"67086\",\"type\":\"SaveTool\"},{\"attributes\":{},\"id\":\"67088\",\"type\":\"HelpTool\"},{\"attributes\":{},\"id\":\"67074\",\"type\":\"BasicTicker\"},{\"attributes\":{\"active_drag\":\"auto\",\"active_inspect\":\"auto\",\"active_multi\":null,\"active_scroll\":\"auto\",\"active_tap\":\"auto\",\"tools\":[{\"id\":\"67083\",\"type\":\"PanTool\"},{\"id\":\"67084\",\"type\":\"WheelZoomTool\"},{\"id\":\"67085\",\"type\":\"BoxZoomTool\"},{\"id\":\"67086\",\"type\":\"SaveTool\"},{\"id\":\"67087\",\"type\":\"ResetTool\"},{\"id\":\"67088\",\"type\":\"HelpTool\"}]},\"id\":\"67089\",\"type\":\"Toolbar\"},{\"attributes\":{\"formatter\":{\"id\":\"68095\",\"type\":\"BasicTickFormatter\"},\"ticker\":{\"id\":\"67079\",\"type\":\"BasicTicker\"}},\"id\":\"67078\",\"type\":\"LinearAxis\"},{\"attributes\":{},\"id\":\"67083\",\"type\":\"PanTool\"},{\"attributes\":{\"bottom_units\":\"screen\",\"fill_alpha\":{\"value\":0.5},\"fill_color\":{\"value\":\"lightgrey\"},\"left_units\":\"screen\",\"level\":\"overlay\",\"line_alpha\":{\"value\":1.0},\"line_color\":{\"value\":\"black\"},\"line_dash\":[4,4],\"line_width\":{\"value\":2},\"render_mode\":\"css\",\"right_units\":\"screen\",\"top_units\":\"screen\"},\"id\":\"68097\",\"type\":\"BoxAnnotation\"},{\"attributes\":{},\"id\":\"68093\",\"type\":\"BasicTickFormatter\"},{\"attributes\":{\"grid_line_color\":null,\"ticker\":{\"id\":\"67074\",\"type\":\"BasicTicker\"}},\"id\":\"67077\",\"type\":\"Grid\"},{\"attributes\":{\"data_source\":{\"id\":\"67096\",\"type\":\"ColumnDataSource\"},\"glyph\":{\"id\":\"67097\",\"type\":\"Circle\"},\"hover_glyph\":null,\"muted_glyph\":null,\"nonselection_glyph\":{\"id\":\"67098\",\"type\":\"Circle\"},\"selection_glyph\":null,\"view\":{\"id\":\"67100\",\"type\":\"CDSView\"}},\"id\":\"67099\",\"type\":\"GlyphRenderer\"},{\"attributes\":{},\"id\":\"67069\",\"type\":\"LinearScale\"},{\"attributes\":{\"fill_alpha\":{\"value\":0.1},\"fill_color\":{\"value\":\"#1f77b4\"},\"line_alpha\":{\"value\":0.1},\"line_color\":{\"value\":\"#1f77b4\"},\"size\":{\"units\":\"screen\",\"value\":10},\"x\":{\"field\":\"x\"},\"y\":{\"field\":\"y\"}},\"id\":\"67098\",\"type\":\"Circle\"},{\"attributes\":{\"text\":\"\"},\"id\":\"68091\",\"type\":\"Title\"},{\"attributes\":{},\"id\":\"68099\",\"type\":\"UnionRenderers\"},{\"attributes\":{\"dimension\":1,\"grid_line_alpha\":0.5,\"grid_line_dash\":[6,4],\"ticker\":{\"id\":\"67079\",\"type\":\"BasicTicker\"}},\"id\":\"67082\",\"type\":\"Grid\"},{\"attributes\":{},\"id\":\"67079\",\"type\":\"BasicTicker\"},{\"attributes\":{\"callback\":null},\"id\":\"67065\",\"type\":\"DataRange1d\"},{\"attributes\":{\"fill_color\":{\"value\":\"#1f77b4\"},\"line_color\":{\"value\":\"#1f77b4\"},\"size\":{\"units\":\"screen\",\"value\":10},\"x\":{\"field\":\"x\"},\"y\":{\"field\":\"y\"}},\"id\":\"67097\",\"type\":\"Circle\"}],\"root_ids\":[\"67064\"]},\"title\":\"Bokeh Application\",\"version\":\"1.3.4\"}};\n",
       "  var render_items = [{\"docid\":\"915e60b7-1323-4392-827e-e1c3c96b46d1\",\"roots\":{\"67064\":\"b23c08d5-f9d0-4713-aa77-288175756418\"}}];\n",
       "  root.Bokeh.embed.embed_items_notebook(docs_json, render_items);\n",
       "\n",
       "  }\n",
       "  if (root.Bokeh !== undefined) {\n",
       "    embed_document(root);\n",
       "  } else {\n",
       "    var attempts = 0;\n",
       "    var timer = setInterval(function(root) {\n",
       "      if (root.Bokeh !== undefined) {\n",
       "        embed_document(root);\n",
       "        clearInterval(timer);\n",
       "      }\n",
       "      attempts++;\n",
       "      if (attempts > 100) {\n",
       "        console.log(\"Bokeh: ERROR: Unable to run BokehJS code because BokehJS library is missing\");\n",
       "        clearInterval(timer);\n",
       "      }\n",
       "    }, 10, root)\n",
       "  }\n",
       "})(window);"
      ],
      "application/vnd.bokehjs_exec.v0+json": ""
     },
     "metadata": {
      "application/vnd.bokehjs_exec.v0+json": {
       "id": "67064"
      }
     },
     "output_type": "display_data"
    }
   ],
   "source": [
    "p = figure(plot_width=400, plot_height=400)\n",
    "p.circle([1,2,3,4,5], [2,5,8,2,7], size=10)\n",
    "\n",
    "# change just some things about the x-grid\n",
    "p.xgrid.grid_line_color = None\n",
    "\n",
    "# change just some things about the y-grid\n",
    "p.ygrid.grid_line_alpha = 0.5\n",
    "p.ygrid.grid_line_dash = [6, 4]\n",
    "\n",
    "show(p)"
   ]
  },
  {
   "cell_type": "markdown",
   "metadata": {},
   "source": [
    "The next example shows how the \"band\" properties of a plot can be specified"
   ]
  },
  {
   "cell_type": "code",
   "execution_count": 110,
   "metadata": {},
   "outputs": [
    {
     "data": {
      "text/html": [
       "\n",
       "\n",
       "\n",
       "\n",
       "\n",
       "\n",
       "  <div class=\"bk-root\" id=\"2c2d3529-73b9-4d43-9ad1-b3d61663755c\" data-root-id=\"68154\"></div>\n"
      ]
     },
     "metadata": {},
     "output_type": "display_data"
    },
    {
     "data": {
      "application/javascript": [
       "(function(root) {\n",
       "  function embed_document(root) {\n",
       "    \n",
       "  var docs_json = {\"51d1c9a3-6c37-41fe-8b18-ebea9ce9ba06\":{\"roots\":{\"references\":[{\"attributes\":{\"below\":[{\"id\":\"68163\",\"type\":\"LinearAxis\"}],\"center\":[{\"id\":\"68167\",\"type\":\"Grid\"},{\"id\":\"68172\",\"type\":\"Grid\"}],\"left\":[{\"id\":\"68168\",\"type\":\"LinearAxis\"}],\"plot_height\":400,\"plot_width\":400,\"renderers\":[{\"id\":\"68189\",\"type\":\"GlyphRenderer\"}],\"title\":{\"id\":\"69190\",\"type\":\"Title\"},\"toolbar\":{\"id\":\"68179\",\"type\":\"Toolbar\"},\"x_range\":{\"id\":\"68155\",\"type\":\"DataRange1d\"},\"x_scale\":{\"id\":\"68159\",\"type\":\"LinearScale\"},\"y_range\":{\"id\":\"68157\",\"type\":\"DataRange1d\"},\"y_scale\":{\"id\":\"68161\",\"type\":\"LinearScale\"}},\"id\":\"68154\",\"subtype\":\"Figure\",\"type\":\"Plot\"},{\"attributes\":{},\"id\":\"68161\",\"type\":\"LinearScale\"},{\"attributes\":{\"source\":{\"id\":\"68186\",\"type\":\"ColumnDataSource\"}},\"id\":\"68190\",\"type\":\"CDSView\"},{\"attributes\":{\"data_source\":{\"id\":\"68186\",\"type\":\"ColumnDataSource\"},\"glyph\":{\"id\":\"68187\",\"type\":\"Circle\"},\"hover_glyph\":null,\"muted_glyph\":null,\"nonselection_glyph\":{\"id\":\"68188\",\"type\":\"Circle\"},\"selection_glyph\":null,\"view\":{\"id\":\"68190\",\"type\":\"CDSView\"}},\"id\":\"68189\",\"type\":\"GlyphRenderer\"},{\"attributes\":{\"grid_line_color\":null,\"ticker\":{\"id\":\"68164\",\"type\":\"BasicTicker\"}},\"id\":\"68167\",\"type\":\"Grid\"},{\"attributes\":{},\"id\":\"68177\",\"type\":\"ResetTool\"},{\"attributes\":{\"active_drag\":\"auto\",\"active_inspect\":\"auto\",\"active_multi\":null,\"active_scroll\":\"auto\",\"active_tap\":\"auto\",\"tools\":[{\"id\":\"68173\",\"type\":\"PanTool\"},{\"id\":\"68174\",\"type\":\"WheelZoomTool\"},{\"id\":\"68175\",\"type\":\"BoxZoomTool\"},{\"id\":\"68176\",\"type\":\"SaveTool\"},{\"id\":\"68177\",\"type\":\"ResetTool\"},{\"id\":\"68178\",\"type\":\"HelpTool\"}]},\"id\":\"68179\",\"type\":\"Toolbar\"},{\"attributes\":{\"fill_color\":{\"value\":\"#1f77b4\"},\"line_color\":{\"value\":\"#1f77b4\"},\"size\":{\"units\":\"screen\",\"value\":10},\"x\":{\"field\":\"x\"},\"y\":{\"field\":\"y\"}},\"id\":\"68187\",\"type\":\"Circle\"},{\"attributes\":{},\"id\":\"69198\",\"type\":\"UnionRenderers\"},{\"attributes\":{\"text\":\"\"},\"id\":\"69190\",\"type\":\"Title\"},{\"attributes\":{\"callback\":null,\"data\":{\"x\":[1,2,3,4,5],\"y\":[2,5,8,2,7]},\"selected\":{\"id\":\"69197\",\"type\":\"Selection\"},\"selection_policy\":{\"id\":\"69198\",\"type\":\"UnionRenderers\"}},\"id\":\"68186\",\"type\":\"ColumnDataSource\"},{\"attributes\":{},\"id\":\"69194\",\"type\":\"BasicTickFormatter\"},{\"attributes\":{\"band_fill_alpha\":0.1,\"band_fill_color\":\"navy\",\"dimension\":1,\"ticker\":{\"id\":\"68169\",\"type\":\"BasicTicker\"}},\"id\":\"68172\",\"type\":\"Grid\"},{\"attributes\":{\"formatter\":{\"id\":\"69192\",\"type\":\"BasicTickFormatter\"},\"ticker\":{\"id\":\"68164\",\"type\":\"BasicTicker\"}},\"id\":\"68163\",\"type\":\"LinearAxis\"},{\"attributes\":{},\"id\":\"68174\",\"type\":\"WheelZoomTool\"},{\"attributes\":{},\"id\":\"68159\",\"type\":\"LinearScale\"},{\"attributes\":{},\"id\":\"68164\",\"type\":\"BasicTicker\"},{\"attributes\":{},\"id\":\"69192\",\"type\":\"BasicTickFormatter\"},{\"attributes\":{\"overlay\":{\"id\":\"69196\",\"type\":\"BoxAnnotation\"}},\"id\":\"68175\",\"type\":\"BoxZoomTool\"},{\"attributes\":{\"fill_alpha\":{\"value\":0.1},\"fill_color\":{\"value\":\"#1f77b4\"},\"line_alpha\":{\"value\":0.1},\"line_color\":{\"value\":\"#1f77b4\"},\"size\":{\"units\":\"screen\",\"value\":10},\"x\":{\"field\":\"x\"},\"y\":{\"field\":\"y\"}},\"id\":\"68188\",\"type\":\"Circle\"},{\"attributes\":{\"formatter\":{\"id\":\"69194\",\"type\":\"BasicTickFormatter\"},\"ticker\":{\"id\":\"68169\",\"type\":\"BasicTicker\"}},\"id\":\"68168\",\"type\":\"LinearAxis\"},{\"attributes\":{},\"id\":\"68173\",\"type\":\"PanTool\"},{\"attributes\":{},\"id\":\"69197\",\"type\":\"Selection\"},{\"attributes\":{\"callback\":null},\"id\":\"68155\",\"type\":\"DataRange1d\"},{\"attributes\":{},\"id\":\"68178\",\"type\":\"HelpTool\"},{\"attributes\":{\"callback\":null},\"id\":\"68157\",\"type\":\"DataRange1d\"},{\"attributes\":{},\"id\":\"68169\",\"type\":\"BasicTicker\"},{\"attributes\":{\"bottom_units\":\"screen\",\"fill_alpha\":{\"value\":0.5},\"fill_color\":{\"value\":\"lightgrey\"},\"left_units\":\"screen\",\"level\":\"overlay\",\"line_alpha\":{\"value\":1.0},\"line_color\":{\"value\":\"black\"},\"line_dash\":[4,4],\"line_width\":{\"value\":2},\"render_mode\":\"css\",\"right_units\":\"screen\",\"top_units\":\"screen\"},\"id\":\"69196\",\"type\":\"BoxAnnotation\"},{\"attributes\":{},\"id\":\"68176\",\"type\":\"SaveTool\"}],\"root_ids\":[\"68154\"]},\"title\":\"Bokeh Application\",\"version\":\"1.3.4\"}};\n",
       "  var render_items = [{\"docid\":\"51d1c9a3-6c37-41fe-8b18-ebea9ce9ba06\",\"roots\":{\"68154\":\"2c2d3529-73b9-4d43-9ad1-b3d61663755c\"}}];\n",
       "  root.Bokeh.embed.embed_items_notebook(docs_json, render_items);\n",
       "\n",
       "  }\n",
       "  if (root.Bokeh !== undefined) {\n",
       "    embed_document(root);\n",
       "  } else {\n",
       "    var attempts = 0;\n",
       "    var timer = setInterval(function(root) {\n",
       "      if (root.Bokeh !== undefined) {\n",
       "        embed_document(root);\n",
       "        clearInterval(timer);\n",
       "      }\n",
       "      attempts++;\n",
       "      if (attempts > 100) {\n",
       "        console.log(\"Bokeh: ERROR: Unable to run BokehJS code because BokehJS library is missing\");\n",
       "        clearInterval(timer);\n",
       "      }\n",
       "    }, 10, root)\n",
       "  }\n",
       "})(window);"
      ],
      "application/vnd.bokehjs_exec.v0+json": ""
     },
     "metadata": {
      "application/vnd.bokehjs_exec.v0+json": {
       "id": "68154"
      }
     },
     "output_type": "display_data"
    }
   ],
   "source": [
    "p = figure(plot_width=400, plot_height=400)\n",
    "p.circle([1,2,3,4,5], [2,5,8,2,7], size=10)\n",
    "\n",
    "# change just some things about the x-grid\n",
    "p.xgrid.grid_line_color = None\n",
    "\n",
    "# change just some things about the y-grid\n",
    "p.ygrid.band_fill_alpha = 0.1\n",
    "p.ygrid.band_fill_color = \"navy\"\n",
    "\n",
    "show(p)"
   ]
  },
  {
   "cell_type": "code",
   "execution_count": 129,
   "metadata": {},
   "outputs": [
    {
     "data": {
      "text/html": [
       "\n",
       "\n",
       "\n",
       "\n",
       "\n",
       "\n",
       "  <div class=\"bk-root\" id=\"330b4c2d-161a-4f39-a143-4859b2190774\" data-root-id=\"85418\"></div>\n"
      ]
     },
     "metadata": {},
     "output_type": "display_data"
    },
    {
     "data": {
      "application/javascript": [
       "(function(root) {\n",
       "  function embed_document(root) {\n",
       "    \n",
       "  var docs_json = {\"1417cb8e-885a-4d0f-9265-75a64cef27a9\":{\"roots\":{\"references\":[{\"attributes\":{\"below\":[{\"id\":\"85427\",\"type\":\"LinearAxis\"}],\"center\":[{\"id\":\"85431\",\"type\":\"Grid\"},{\"id\":\"85436\",\"type\":\"Grid\"}],\"left\":[{\"id\":\"85432\",\"type\":\"LinearAxis\"}],\"plot_height\":400,\"plot_width\":400,\"renderers\":[{\"id\":\"85453\",\"type\":\"GlyphRenderer\"},{\"id\":\"86641\",\"type\":\"GlyphRenderer\"},{\"id\":\"87843\",\"type\":\"GlyphRenderer\"},{\"id\":\"89059\",\"type\":\"GlyphRenderer\"},{\"id\":\"90289\",\"type\":\"GlyphRenderer\"}],\"title\":{\"id\":\"86575\",\"type\":\"Title\"},\"toolbar\":{\"id\":\"85443\",\"type\":\"Toolbar\"},\"x_range\":{\"id\":\"85419\",\"type\":\"DataRange1d\"},\"x_scale\":{\"id\":\"85423\",\"type\":\"LinearScale\"},\"y_range\":{\"id\":\"85421\",\"type\":\"DataRange1d\"},\"y_scale\":{\"id\":\"85425\",\"type\":\"LinearScale\"}},\"id\":\"85418\",\"subtype\":\"Figure\",\"type\":\"Plot\"},{\"attributes\":{},\"id\":\"86577\",\"type\":\"BasicTickFormatter\"},{\"attributes\":{\"callback\":null},\"id\":\"85421\",\"type\":\"DataRange1d\"},{\"attributes\":{\"overlay\":{\"id\":\"86581\",\"type\":\"BoxAnnotation\"}},\"id\":\"85439\",\"type\":\"BoxZoomTool\"},{\"attributes\":{},\"id\":\"85440\",\"type\":\"SaveTool\"},{\"attributes\":{},\"id\":\"88976\",\"type\":\"Selection\"},{\"attributes\":{},\"id\":\"85441\",\"type\":\"ResetTool\"},{\"attributes\":{\"fill_color\":{\"value\":\"#1f77b4\"},\"line_color\":{\"value\":\"#1f77b4\"},\"size\":{\"units\":\"screen\",\"value\":10},\"x\":{\"field\":\"x\"},\"y\":{\"field\":\"y\"}},\"id\":\"85451\",\"type\":\"Square\"},{\"attributes\":{\"fill_alpha\":{\"value\":0.1},\"fill_color\":{\"value\":\"#1f77b4\"},\"line_alpha\":{\"value\":0.1},\"line_color\":{\"value\":\"#1f77b4\"},\"size\":{\"units\":\"screen\",\"value\":10},\"x\":{\"field\":\"x\"},\"y\":{\"field\":\"y\"}},\"id\":\"86640\",\"type\":\"Square\"},{\"attributes\":{\"fill_color\":{\"value\":\"#1f77b4\"},\"line_color\":{\"value\":\"#1f77b4\"},\"size\":{\"units\":\"screen\",\"value\":10},\"x\":{\"field\":\"x\"},\"y\":{\"field\":\"y\"}},\"id\":\"86639\",\"type\":\"Square\"},{\"attributes\":{},\"id\":\"87773\",\"type\":\"UnionRenderers\"},{\"attributes\":{},\"id\":\"91426\",\"type\":\"Selection\"},{\"attributes\":{\"source\":{\"id\":\"85450\",\"type\":\"ColumnDataSource\"}},\"id\":\"85454\",\"type\":\"CDSView\"},{\"attributes\":{\"fill_alpha\":{\"value\":0.1},\"fill_color\":{\"value\":\"#1f77b4\"},\"line_alpha\":{\"value\":0.1},\"line_color\":{\"value\":\"#1f77b4\"},\"size\":{\"units\":\"screen\",\"value\":10},\"x\":{\"field\":\"x\"},\"y\":{\"field\":\"y\"}},\"id\":\"87842\",\"type\":\"Square\"},{\"attributes\":{\"callback\":null,\"data\":{\"x\":[1,2,3,4,5],\"y\":[1,2,3,4,5]},\"selected\":{\"id\":\"90194\",\"type\":\"Selection\"},\"selection_policy\":{\"id\":\"90195\",\"type\":\"UnionRenderers\"}},\"id\":\"89056\",\"type\":\"ColumnDataSource\"},{\"attributes\":{\"fill_color\":{\"value\":\"#1f77b4\"},\"line_color\":{\"value\":\"#1f77b4\"},\"size\":{\"units\":\"screen\",\"value\":10},\"x\":{\"field\":\"x\"},\"y\":{\"field\":\"y\"}},\"id\":\"90287\",\"type\":\"Square\"},{\"attributes\":{},\"id\":\"85423\",\"type\":\"LinearScale\"},{\"attributes\":{},\"id\":\"85442\",\"type\":\"HelpTool\"},{\"attributes\":{\"source\":{\"id\":\"87840\",\"type\":\"ColumnDataSource\"}},\"id\":\"87844\",\"type\":\"CDSView\"},{\"attributes\":{},\"id\":\"85438\",\"type\":\"WheelZoomTool\"},{\"attributes\":{\"data_source\":{\"id\":\"86638\",\"type\":\"ColumnDataSource\"},\"glyph\":{\"id\":\"86639\",\"type\":\"Square\"},\"hover_glyph\":null,\"muted_glyph\":null,\"nonselection_glyph\":{\"id\":\"86640\",\"type\":\"Square\"},\"selection_glyph\":null,\"view\":{\"id\":\"86642\",\"type\":\"CDSView\"}},\"id\":\"86641\",\"type\":\"GlyphRenderer\"},{\"attributes\":{\"data_source\":{\"id\":\"87840\",\"type\":\"ColumnDataSource\"},\"glyph\":{\"id\":\"87841\",\"type\":\"Square\"},\"hover_glyph\":null,\"muted_glyph\":null,\"nonselection_glyph\":{\"id\":\"87842\",\"type\":\"Square\"},\"selection_glyph\":null,\"view\":{\"id\":\"87844\",\"type\":\"CDSView\"}},\"id\":\"87843\",\"type\":\"GlyphRenderer\"},{\"attributes\":{\"fill_alpha\":{\"value\":0.1},\"fill_color\":{\"value\":\"#1f77b4\"},\"line_alpha\":{\"value\":0.1},\"line_color\":{\"value\":\"#1f77b4\"},\"size\":{\"units\":\"screen\",\"value\":10},\"x\":{\"field\":\"x\"},\"y\":{\"field\":\"y\"}},\"id\":\"85452\",\"type\":\"Square\"},{\"attributes\":{\"source\":{\"id\":\"86638\",\"type\":\"ColumnDataSource\"}},\"id\":\"86642\",\"type\":\"CDSView\"},{\"attributes\":{},\"id\":\"85425\",\"type\":\"LinearScale\"},{\"attributes\":{\"fill_alpha\":{\"value\":0.1},\"fill_color\":{\"value\":\"#1f77b4\"},\"line_alpha\":{\"value\":0.1},\"line_color\":{\"value\":\"#1f77b4\"},\"size\":{\"units\":\"screen\",\"value\":10},\"x\":{\"field\":\"x\"},\"y\":{\"field\":\"y\"}},\"id\":\"90288\",\"type\":\"Square\"},{\"attributes\":{},\"id\":\"86583\",\"type\":\"UnionRenderers\"},{\"attributes\":{},\"id\":\"87772\",\"type\":\"Selection\"},{\"attributes\":{},\"id\":\"85433\",\"type\":\"BasicTicker\"},{\"attributes\":{\"source\":{\"id\":\"89056\",\"type\":\"ColumnDataSource\"}},\"id\":\"89060\",\"type\":\"CDSView\"},{\"attributes\":{},\"id\":\"90195\",\"type\":\"UnionRenderers\"},{\"attributes\":{\"formatter\":{\"id\":\"86579\",\"type\":\"BasicTickFormatter\"},\"ticker\":{\"id\":\"85433\",\"type\":\"BasicTicker\"}},\"id\":\"85432\",\"type\":\"LinearAxis\"},{\"attributes\":{\"band_fill_alpha\":0.2,\"band_fill_color\":\"magenta\",\"dimension\":1,\"grid_line_dash\":[4,4],\"ticker\":{\"id\":\"85433\",\"type\":\"BasicTicker\"}},\"id\":\"85436\",\"type\":\"Grid\"},{\"attributes\":{},\"id\":\"86579\",\"type\":\"BasicTickFormatter\"},{\"attributes\":{\"bottom_units\":\"screen\",\"fill_alpha\":{\"value\":0.5},\"fill_color\":{\"value\":\"lightgrey\"},\"left_units\":\"screen\",\"level\":\"overlay\",\"line_alpha\":{\"value\":1.0},\"line_color\":{\"value\":\"black\"},\"line_dash\":[4,4],\"line_width\":{\"value\":2},\"render_mode\":\"css\",\"right_units\":\"screen\",\"top_units\":\"screen\"},\"id\":\"86581\",\"type\":\"BoxAnnotation\"},{\"attributes\":{},\"id\":\"86582\",\"type\":\"Selection\"},{\"attributes\":{\"band_fill_alpha\":0.2,\"band_fill_color\":\"navy\",\"band_hatch_alpha\":0.95,\"band_hatch_color\":\"violet\",\"grid_line_dash\":[4,4],\"ticker\":{\"id\":\"85428\",\"type\":\"BasicTicker\"}},\"id\":\"85431\",\"type\":\"Grid\"},{\"attributes\":{\"data_source\":{\"id\":\"90286\",\"type\":\"ColumnDataSource\"},\"glyph\":{\"id\":\"90287\",\"type\":\"Square\"},\"hover_glyph\":null,\"muted_glyph\":null,\"nonselection_glyph\":{\"id\":\"90288\",\"type\":\"Square\"},\"selection_glyph\":null,\"view\":{\"id\":\"90290\",\"type\":\"CDSView\"}},\"id\":\"90289\",\"type\":\"GlyphRenderer\"},{\"attributes\":{\"callback\":null,\"data\":{\"x\":[1,2,3,4,5],\"y\":[1,2,3,4,5]},\"selected\":{\"id\":\"91426\",\"type\":\"Selection\"},\"selection_policy\":{\"id\":\"91427\",\"type\":\"UnionRenderers\"}},\"id\":\"90286\",\"type\":\"ColumnDataSource\"},{\"attributes\":{},\"id\":\"91427\",\"type\":\"UnionRenderers\"},{\"attributes\":{\"formatter\":{\"id\":\"86577\",\"type\":\"BasicTickFormatter\"},\"ticker\":{\"id\":\"85428\",\"type\":\"BasicTicker\"}},\"id\":\"85427\",\"type\":\"LinearAxis\"},{\"attributes\":{\"callback\":null,\"data\":{\"x\":[1,2,3,4,5],\"y\":[1,2,3,4,5]},\"selected\":{\"id\":\"87772\",\"type\":\"Selection\"},\"selection_policy\":{\"id\":\"87773\",\"type\":\"UnionRenderers\"}},\"id\":\"86638\",\"type\":\"ColumnDataSource\"},{\"attributes\":{},\"id\":\"88977\",\"type\":\"UnionRenderers\"},{\"attributes\":{\"active_drag\":\"auto\",\"active_inspect\":\"auto\",\"active_multi\":null,\"active_scroll\":\"auto\",\"active_tap\":\"auto\",\"tools\":[{\"id\":\"85437\",\"type\":\"PanTool\"},{\"id\":\"85438\",\"type\":\"WheelZoomTool\"},{\"id\":\"85439\",\"type\":\"BoxZoomTool\"},{\"id\":\"85440\",\"type\":\"SaveTool\"},{\"id\":\"85441\",\"type\":\"ResetTool\"},{\"id\":\"85442\",\"type\":\"HelpTool\"}]},\"id\":\"85443\",\"type\":\"Toolbar\"},{\"attributes\":{\"callback\":null,\"data\":{\"x\":[1,2,3,4,5],\"y\":[1,2,3,4,5]},\"selected\":{\"id\":\"88976\",\"type\":\"Selection\"},\"selection_policy\":{\"id\":\"88977\",\"type\":\"UnionRenderers\"}},\"id\":\"87840\",\"type\":\"ColumnDataSource\"},{\"attributes\":{},\"id\":\"85428\",\"type\":\"BasicTicker\"},{\"attributes\":{\"fill_color\":{\"value\":\"#1f77b4\"},\"line_color\":{\"value\":\"#1f77b4\"},\"size\":{\"units\":\"screen\",\"value\":10},\"x\":{\"field\":\"x\"},\"y\":{\"field\":\"y\"}},\"id\":\"89057\",\"type\":\"Square\"},{\"attributes\":{\"source\":{\"id\":\"90286\",\"type\":\"ColumnDataSource\"}},\"id\":\"90290\",\"type\":\"CDSView\"},{\"attributes\":{},\"id\":\"90194\",\"type\":\"Selection\"},{\"attributes\":{\"callback\":null},\"id\":\"85419\",\"type\":\"DataRange1d\"},{\"attributes\":{\"data_source\":{\"id\":\"85450\",\"type\":\"ColumnDataSource\"},\"glyph\":{\"id\":\"85451\",\"type\":\"Square\"},\"hover_glyph\":null,\"muted_glyph\":null,\"nonselection_glyph\":{\"id\":\"85452\",\"type\":\"Square\"},\"selection_glyph\":null,\"view\":{\"id\":\"85454\",\"type\":\"CDSView\"}},\"id\":\"85453\",\"type\":\"GlyphRenderer\"},{\"attributes\":{\"fill_color\":{\"value\":\"#1f77b4\"},\"line_color\":{\"value\":\"#1f77b4\"},\"size\":{\"units\":\"screen\",\"value\":10},\"x\":{\"field\":\"x\"},\"y\":{\"field\":\"y\"}},\"id\":\"87841\",\"type\":\"Square\"},{\"attributes\":{\"text\":\"\"},\"id\":\"86575\",\"type\":\"Title\"},{\"attributes\":{\"data_source\":{\"id\":\"89056\",\"type\":\"ColumnDataSource\"},\"glyph\":{\"id\":\"89057\",\"type\":\"Square\"},\"hover_glyph\":null,\"muted_glyph\":null,\"nonselection_glyph\":{\"id\":\"89058\",\"type\":\"Square\"},\"selection_glyph\":null,\"view\":{\"id\":\"89060\",\"type\":\"CDSView\"}},\"id\":\"89059\",\"type\":\"GlyphRenderer\"},{\"attributes\":{\"callback\":null,\"data\":{\"x\":[1,2,3,4,5],\"y\":[1,2,3,4,5]},\"selected\":{\"id\":\"86582\",\"type\":\"Selection\"},\"selection_policy\":{\"id\":\"86583\",\"type\":\"UnionRenderers\"}},\"id\":\"85450\",\"type\":\"ColumnDataSource\"},{\"attributes\":{},\"id\":\"85437\",\"type\":\"PanTool\"},{\"attributes\":{\"fill_alpha\":{\"value\":0.1},\"fill_color\":{\"value\":\"#1f77b4\"},\"line_alpha\":{\"value\":0.1},\"line_color\":{\"value\":\"#1f77b4\"},\"size\":{\"units\":\"screen\",\"value\":10},\"x\":{\"field\":\"x\"},\"y\":{\"field\":\"y\"}},\"id\":\"89058\",\"type\":\"Square\"}],\"root_ids\":[\"85418\"]},\"title\":\"Bokeh Application\",\"version\":\"1.3.4\"}};\n",
       "  var render_items = [{\"docid\":\"1417cb8e-885a-4d0f-9265-75a64cef27a9\",\"roots\":{\"85418\":\"330b4c2d-161a-4f39-a143-4859b2190774\"}}];\n",
       "  root.Bokeh.embed.embed_items_notebook(docs_json, render_items);\n",
       "\n",
       "  }\n",
       "  if (root.Bokeh !== undefined) {\n",
       "    embed_document(root);\n",
       "  } else {\n",
       "    var attempts = 0;\n",
       "    var timer = setInterval(function(root) {\n",
       "      if (root.Bokeh !== undefined) {\n",
       "        embed_document(root);\n",
       "        clearInterval(timer);\n",
       "      }\n",
       "      attempts++;\n",
       "      if (attempts > 100) {\n",
       "        console.log(\"Bokeh: ERROR: Unable to run BokehJS code because BokehJS library is missing\");\n",
       "        clearInterval(timer);\n",
       "      }\n",
       "    }, 10, root)\n",
       "  }\n",
       "})(window);"
      ],
      "application/vnd.bokehjs_exec.v0+json": ""
     },
     "metadata": {
      "application/vnd.bokehjs_exec.v0+json": {
       "id": "85418"
      }
     },
     "output_type": "display_data"
    }
   ],
   "source": [
    "# EXERCISE Create a plot of your own and customize several grid properties\n",
    "# p = figure(plot_width=400, plot_height=400)\n",
    "p.square([1,2,3,4,5], [1,2,3,4,5], size=10)\n",
    "\n",
    "# change just some things about the x-grid\n",
    "p.xgrid.band_hatch_color = 'violet'\n",
    "p.xgrid.band_hatch_alpha = 0.95\n",
    "p.xgrid.grid_line_dash = '4 4'\n",
    "p.xgrid.band_fill_color = \"navy\"\n",
    "p.xgrid.band_fill_alpha = 0.2\n",
    "\n",
    "# change just some things about the y-grid\n",
    "p.ygrid.band_fill_alpha = 0.2\n",
    "p.ygrid.band_fill_color = \"magenta\"\n",
    "p.ygrid.grid_line_dash = '4 4'\n",
    "\n",
    "show(p)"
   ]
  },
  {
   "cell_type": "code",
   "execution_count": null,
   "metadata": {},
   "outputs": [],
   "source": []
  }
 ],
 "metadata": {
  "kernelspec": {
   "display_name": "Python 3",
   "language": "python",
   "name": "python3"
  },
  "language_info": {
   "codemirror_mode": {
    "name": "ipython",
    "version": 3
   },
   "file_extension": ".py",
   "mimetype": "text/x-python",
   "name": "python",
   "nbconvert_exporter": "python",
   "pygments_lexer": "ipython3",
   "version": "3.7.4"
  }
 },
 "nbformat": 4,
 "nbformat_minor": 1
}
